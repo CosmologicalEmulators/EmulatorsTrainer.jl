{
 "cells": [
  {
   "cell_type": "markdown",
   "metadata": {},
   "source": [
    "# EmulatorsTrainer.jl example: how to train Capse.jl\n",
    "\n",
    "In this notebook we are gonna show how to train an emulator using EmulatorsTrainer.jl.\n",
    "\n",
    "Let us start importing the necessary packages."
   ]
  },
  {
   "cell_type": "code",
   "execution_count": 1,
   "metadata": {},
   "outputs": [],
   "source": [
    "using EmulatorsTrainer\n",
    "using DataFrames\n",
    "using Plots\n",
    "using NPZ\n",
    "using JSON\n",
    "using AbstractCosmologicalEmulators\n",
    "using SimpleChains"
   ]
  },
  {
   "cell_type": "markdown",
   "metadata": {},
   "source": [
    "One of the thing we need to define is a method that takes the two inputs:\n",
    "- a dictionary with the relevant cosmological parameters\n",
    "- the input observable (in our case the CMB $C_\\ell$'s)\n",
    "\n",
    "The method must give back a single tuple containing all the cosmological parameters and the observable (possibly with a preprocessing)."
   ]
  },
  {
   "cell_type": "code",
   "execution_count": 2,
   "metadata": {},
   "outputs": [
    {
     "data": {
      "text/plain": [
       "get_observable_tuple (generic function with 1 method)"
      ]
     },
     "execution_count": 2,
     "metadata": {},
     "output_type": "execute_result"
    }
   ],
   "source": [
    "function get_observable_tuple(cosmo_pars, Cℓ)\n",
    "    return (cosmo_pars[\"ln10As\"], cosmo_pars[\"ns\"], cosmo_pars[\"H0\"], cosmo_pars[\"ombh2\"],\n",
    "    cosmo_pars[\"omch2\"], cosmo_pars[\"tau\"], exp(3-cosmo_pars[\"ln10As\"]).*Cℓ)\n",
    "end"
   ]
  },
  {
   "cell_type": "markdown",
   "metadata": {},
   "source": [
    "Now we need to define a method that add to a dataframe the observable and the parameters.\n",
    "This method can be defined using an utility defined in EmulatorsTrainer, which takes as input:\n",
    "- the dataframe where add the data\n",
    "- the location, from which read the data\n",
    "- the name of the parameters file\n",
    "- the name of the observable file\n",
    "- the first and the last index used in slicing the observable array\n",
    "- the previously defined `get_observable_tuple` method"
   ]
  },
  {
   "cell_type": "code",
   "execution_count": 3,
   "metadata": {},
   "outputs": [
    {
     "data": {
      "text/plain": [
       "add_observable! (generic function with 1 method)"
      ]
     },
     "execution_count": 3,
     "metadata": {},
     "output_type": "execute_result"
    }
   ],
   "source": [
    "Cℓkind = \"BB\"\n",
    "observable_file = \"/cl_\"*Cℓkind*\".npy\"\n",
    "param_file = \"/capse_dict.json\"\n",
    "first_idx = 3\n",
    "last_idx = 5001\n",
    "add_observable!(df, location) = EmulatorsTrainer.add_observable_df!(df, location, param_file,\n",
    "    observable_file, first_idx, last_idx, get_observable_tuple)"
   ]
  },
  {
   "cell_type": "code",
   "execution_count": 4,
   "metadata": {},
   "outputs": [
    {
     "data": {
      "text/plain": [
       "\"/home/marcobonici/Desktop/test_camb_10000/\""
      ]
     },
     "execution_count": 4,
     "metadata": {},
     "output_type": "execute_result"
    }
   ],
   "source": [
    "CℓDirectory = \"/home/marcobonici/Desktop/test_camb_10000/\"\n",
    "#load_df_directory!(df, Directory) = EmulatorsTrainer.load_df_directory!(df, Directory, add_observable!)"
   ]
  },
  {
   "cell_type": "markdown",
   "metadata": {},
   "source": [
    "Let us instantiate an empty dataframe."
   ]
  },
  {
   "cell_type": "code",
   "execution_count": 5,
   "metadata": {},
   "outputs": [
    {
     "data": {
      "text/html": [
       "<div><div style = \"float: left;\"><span>0×7 DataFrame</span></div><div style = \"clear: both;\"></div></div><div class = \"data-frame\" style = \"overflow-x: scroll;\"><table class = \"data-frame\" style = \"margin-bottom: 6px;\"><thead><tr class = \"header\"><th class = \"rowNumber\" style = \"font-weight: bold; text-align: right;\">Row</th><th style = \"text-align: left;\">ln10A_s</th><th style = \"text-align: left;\">n_s</th><th style = \"text-align: left;\">h</th><th style = \"text-align: left;\">omega_b</th><th style = \"text-align: left;\">omega_cdm</th><th style = \"text-align: left;\">tau</th><th style = \"text-align: left;\">observable</th></tr><tr class = \"subheader headerLastRow\"><th class = \"rowNumber\" style = \"font-weight: bold; text-align: right;\"></th><th title = \"Float64\" style = \"text-align: left;\">Float64</th><th title = \"Float64\" style = \"text-align: left;\">Float64</th><th title = \"Float64\" style = \"text-align: left;\">Float64</th><th title = \"Float64\" style = \"text-align: left;\">Float64</th><th title = \"Float64\" style = \"text-align: left;\">Float64</th><th title = \"Float64\" style = \"text-align: left;\">Float64</th><th title = \"Array\" style = \"text-align: left;\">Array</th></tr></thead><tbody></tbody></table></div>"
      ],
      "text/latex": [
       "\\begin{tabular}{r|ccccccc}\n",
       "\t& ln10A\\_s & n\\_s & h & omega\\_b & omega\\_cdm & tau & observable\\\\\n",
       "\t\\hline\n",
       "\t& Float64 & Float64 & Float64 & Float64 & Float64 & Float64 & Array\\\\\n",
       "\t\\hline\n",
       "\\end{tabular}\n"
      ],
      "text/plain": [
       "\u001b[1m0×7 DataFrame\u001b[0m\n",
       "\u001b[1m Row \u001b[0m│\u001b[1m ln10A_s \u001b[0m\u001b[1m n_s     \u001b[0m\u001b[1m h       \u001b[0m\u001b[1m omega_b \u001b[0m\u001b[1m omega_cdm \u001b[0m\u001b[1m tau     \u001b[0m\u001b[1m observable \u001b[0m\n",
       "     │\u001b[90m Float64 \u001b[0m\u001b[90m Float64 \u001b[0m\u001b[90m Float64 \u001b[0m\u001b[90m Float64 \u001b[0m\u001b[90m Float64   \u001b[0m\u001b[90m Float64 \u001b[0m\u001b[90m Array      \u001b[0m\n",
       "─────┴────────────────────────────────────────────────────────────────────"
      ]
     },
     "execution_count": 5,
     "metadata": {},
     "output_type": "execute_result"
    }
   ],
   "source": [
    "df = DataFrame(ln10A_s = Float64[], n_s = Float64[],h = Float64[],omega_b = Float64[], omega_cdm = Float64[], tau = Float64[], observable = Array[])"
   ]
  },
  {
   "cell_type": "markdown",
   "metadata": {},
   "source": [
    "We can now load our dataframe!"
   ]
  },
  {
   "cell_type": "code",
   "execution_count": 6,
   "metadata": {},
   "outputs": [
    {
     "name": "stdout",
     "output_type": "stream",
     "text": [
      "  4.442902 seconds (2.97 M allocations: 2.448 GiB, 3.81% gc time, 16.93% compilation time)\n"
     ]
    }
   ],
   "source": [
    "@time EmulatorsTrainer.load_df_directory!(df, CℓDirectory, add_observable!)"
   ]
  },
  {
   "cell_type": "code",
   "execution_count": 7,
   "metadata": {},
   "outputs": [
    {
     "data": {
      "text/html": [
       "<div><div style = \"float: left;\"><span>10000×7 DataFrame</span></div><div style = \"float: right;\"><span style = \"font-style: italic;\">9975 rows omitted</span></div><div style = \"clear: both;\"></div></div><div class = \"data-frame\" style = \"overflow-x: scroll;\"><table class = \"data-frame\" style = \"margin-bottom: 6px;\"><thead><tr class = \"header\"><th class = \"rowNumber\" style = \"font-weight: bold; text-align: right;\">Row</th><th style = \"text-align: left;\">ln10A_s</th><th style = \"text-align: left;\">n_s</th><th style = \"text-align: left;\">h</th><th style = \"text-align: left;\">omega_b</th><th style = \"text-align: left;\">omega_cdm</th><th style = \"text-align: left;\">tau</th><th style = \"text-align: left;\">observable</th></tr><tr class = \"subheader headerLastRow\"><th class = \"rowNumber\" style = \"font-weight: bold; text-align: right;\"></th><th title = \"Float64\" style = \"text-align: left;\">Float64</th><th title = \"Float64\" style = \"text-align: left;\">Float64</th><th title = \"Float64\" style = \"text-align: left;\">Float64</th><th title = \"Float64\" style = \"text-align: left;\">Float64</th><th title = \"Float64\" style = \"text-align: left;\">Float64</th><th title = \"Float64\" style = \"text-align: left;\">Float64</th><th title = \"Array\" style = \"text-align: left;\">Array</th></tr></thead><tbody><tr><td class = \"rowNumber\" style = \"font-weight: bold; text-align: right;\">1</td><td style = \"text-align: right;\">3.32545</td><td style = \"text-align: right;\">0.961728</td><td style = \"text-align: right;\">65.623</td><td style = \"text-align: right;\">0.247483</td><td style = \"text-align: right;\">0.100226</td><td style = \"text-align: right;\">0.054005</td><td style = \"text-align: left;\">[1.00088e-6, 2.00311e-6, 3.34152e-6, 5.01786e-6, 7.03427e-6, 9.39326e-6, 1.20977e-5, 1.51507e-5, 1.85556e-5, 2.23161e-5  …  0.000552773, 0.000552126, 0.000551481, 0.000550837, 0.000550193, 0.000549551, 0.000548911, 0.000548272, 0.000547634, 0.000546997]</td></tr><tr><td class = \"rowNumber\" style = \"font-weight: bold; text-align: right;\">2</td><td style = \"text-align: right;\">3.27485</td><td style = \"text-align: right;\">1.00086</td><td style = \"text-align: right;\">87.883</td><td style = \"text-align: right;\">0.194455</td><td style = \"text-align: right;\">0.181538</td><td style = \"text-align: right;\">0.089555</td><td style = \"text-align: left;\">[1.15886e-6, 2.31914e-6, 3.86834e-6, 5.80825e-6, 8.14105e-6, 1.08692e-5, 1.39956e-5, 1.75232e-5, 2.14551e-5, 2.57946e-5  …  0.00234085, 0.00233952, 0.00233819, 0.00233686, 0.00233552, 0.00233419, 0.00233286, 0.00233154, 0.00233021, 0.00232888]</td></tr><tr><td class = \"rowNumber\" style = \"font-weight: bold; text-align: right;\">3</td><td style = \"text-align: right;\">2.82465</td><td style = \"text-align: right;\">1.04693</td><td style = \"text-align: right;\">98.665</td><td style = \"text-align: right;\">0.247495</td><td style = \"text-align: right;\">0.130622</td><td style = \"text-align: right;\">0.079375</td><td style = \"text-align: left;\">[5.73671e-7, 1.14808e-6, 1.91509e-6, 2.87564e-6, 4.0309e-6, 5.38221e-6, 6.93109e-6, 8.6792e-6, 1.06283e-5, 1.27804e-5  …  0.000391259, 0.000390924, 0.00039059, 0.000390256, 0.000389923, 0.000389589, 0.000389257, 0.000388925, 0.000388593, 0.000388261]</td></tr><tr><td class = \"rowNumber\" style = \"font-weight: bold; text-align: right;\">4</td><td style = \"text-align: right;\">3.28415</td><td style = \"text-align: right;\">0.997376</td><td style = \"text-align: right;\">76.489</td><td style = \"text-align: right;\">0.206647</td><td style = \"text-align: right;\">0.084926</td><td style = \"text-align: right;\">0.094475</td><td style = \"text-align: left;\">[6.44793e-7, 1.29081e-6, 2.15405e-6, 3.23607e-6, 4.53876e-6, 6.0643e-6, 7.8151e-6, 9.79379e-6, 1.20031e-5, 1.4446e-5  …  0.000386797, 0.000386397, 0.000385997, 0.000385596, 0.000385195, 0.000384794, 0.000384392, 0.00038399, 0.000383588, 0.000383187]</td></tr><tr><td class = \"rowNumber\" style = \"font-weight: bold; text-align: right;\">5</td><td style = \"text-align: right;\">2.95815</td><td style = \"text-align: right;\">1.03731</td><td style = \"text-align: right;\">54.457</td><td style = \"text-align: right;\">0.245401</td><td style = \"text-align: right;\">0.105086</td><td style = \"text-align: right;\">0.110555</td><td style = \"text-align: left;\">[5.92875e-7, 1.1868e-6, 1.98031e-6, 2.97475e-6, 4.1717e-6, 5.57303e-6, 7.18078e-6, 8.99714e-6, 1.10244e-5, 1.32651e-5  …  0.000596367, 0.000595729, 0.00059509, 0.000594451, 0.00059381, 0.00059317, 0.000592528, 0.000591887, 0.000591245, 0.000590603]</td></tr><tr><td class = \"rowNumber\" style = \"font-weight: bold; text-align: right;\">6</td><td style = \"text-align: right;\">2.64435</td><td style = \"text-align: right;\">0.911475</td><td style = \"text-align: right;\">63.613</td><td style = \"text-align: right;\">0.225019</td><td style = \"text-align: right;\">0.104738</td><td style = \"text-align: right;\">0.104215</td><td style = \"text-align: left;\">[4.68165e-7, 9.37416e-7, 1.56474e-6, 2.35151e-6, 3.29936e-6, 4.41016e-6, 5.68597e-6, 7.12898e-6, 8.74147e-6, 1.05257e-5  …  0.000252531, 0.000252273, 0.000252017, 0.00025176, 0.000251505, 0.00025125, 0.000250996, 0.000250742, 0.00025049, 0.000250239]</td></tr><tr><td class = \"rowNumber\" style = \"font-weight: bold; text-align: right;\">7</td><td style = \"text-align: right;\">2.77085</td><td style = \"text-align: right;\">0.988231</td><td style = \"text-align: right;\">89.035</td><td style = \"text-align: right;\">0.251113</td><td style = \"text-align: right;\">0.086354</td><td style = \"text-align: right;\">0.070075</td><td style = \"text-align: left;\">[4.64461e-7, 9.29655e-7, 1.55104e-6, 2.32957e-6, 3.26638e-6, 4.36283e-6, 5.62042e-6, 7.04082e-6, 8.62583e-6, 1.03773e-5  …  0.000161654, 0.000161491, 0.000161327, 0.000161163, 0.000160999, 0.000160835, 0.00016067, 0.000160506, 0.000160342, 0.000160178]</td></tr><tr><td class = \"rowNumber\" style = \"font-weight: bold; text-align: right;\">8</td><td style = \"text-align: right;\">2.86625</td><td style = \"text-align: right;\">0.949658</td><td style = \"text-align: right;\">54.379</td><td style = \"text-align: right;\">0.236917</td><td style = \"text-align: right;\">0.130874</td><td style = \"text-align: right;\">0.098855</td><td style = \"text-align: left;\">[7.01808e-7, 1.40487e-6, 2.34421e-6, 3.52142e-6, 4.93839e-6, 6.59733e-6, 8.50064e-6, 1.06509e-5, 1.30509e-5, 1.57034e-5  …  0.000643739, 0.000643067, 0.000642396, 0.000641725, 0.000641054, 0.000640384, 0.000639714, 0.000639045, 0.000638376, 0.000637708]</td></tr><tr><td class = \"rowNumber\" style = \"font-weight: bold; text-align: right;\">9</td><td style = \"text-align: right;\">3.31855</td><td style = \"text-align: right;\">0.995932</td><td style = \"text-align: right;\">60.073</td><td style = \"text-align: right;\">0.217921</td><td style = \"text-align: right;\">0.084266</td><td style = \"text-align: right;\">0.090515</td><td style = \"text-align: left;\">[7.32622e-7, 1.46657e-6, 2.44719e-6, 3.67619e-6, 5.15559e-6, 6.88776e-6, 8.87532e-6, 1.11211e-5, 1.36282e-5, 1.63996e-5  …  0.000535759, 0.000535145, 0.000534532, 0.000533921, 0.000533311, 0.000532702, 0.000532094, 0.000531488, 0.000530884, 0.000530281]</td></tr><tr><td class = \"rowNumber\" style = \"font-weight: bold; text-align: right;\">10</td><td style = \"text-align: right;\">2.88975</td><td style = \"text-align: right;\">0.99056</td><td style = \"text-align: right;\">90.337</td><td style = \"text-align: right;\">0.221695</td><td style = \"text-align: right;\">0.191246</td><td style = \"text-align: right;\">0.117845</td><td style = \"text-align: left;\">[8.01169e-7, 1.60363e-6, 2.67557e-6, 4.0186e-6, 5.63469e-6, 7.52606e-6, 9.69518e-6, 1.21447e-5, 1.48772e-5, 1.78956e-5  …  0.00116192, 0.00116123, 0.00116053, 0.00115984, 0.00115915, 0.00115846, 0.00115777, 0.00115708, 0.00115639, 0.0011557]</td></tr><tr><td class = \"rowNumber\" style = \"font-weight: bold; text-align: right;\">11</td><td style = \"text-align: right;\">2.72545</td><td style = \"text-align: right;\">1.02466</td><td style = \"text-align: right;\">84.775</td><td style = \"text-align: right;\">0.198655</td><td style = \"text-align: right;\">0.103046</td><td style = \"text-align: right;\">0.069495</td><td style = \"text-align: left;\">[4.12142e-7, 8.24859e-7, 1.37604e-6, 2.06641e-6, 2.89689e-6, 3.86853e-6, 4.98251e-6, 6.24013e-6, 7.6428e-6, 9.19199e-6  …  0.000320038, 0.000319756, 0.000319473, 0.000319192, 0.00031891, 0.000318629, 0.000318349, 0.00031807, 0.00031779, 0.000317512]</td></tr><tr><td class = \"rowNumber\" style = \"font-weight: bold; text-align: right;\">12</td><td style = \"text-align: right;\">3.36725</td><td style = \"text-align: right;\">0.979034</td><td style = \"text-align: right;\">82.609</td><td style = \"text-align: right;\">0.208555</td><td style = \"text-align: right;\">0.121166</td><td style = \"text-align: right;\">0.114145</td><td style = \"text-align: left;\">[8.79328e-7, 1.76045e-6, 2.93803e-6, 4.41433e-6, 6.19207e-6, 8.27434e-6, 1.06646e-5, 1.33664e-5, 1.63837e-5, 1.97202e-5  …  0.000721246, 0.000720632, 0.000720017, 0.000719403, 0.00071879, 0.000718176, 0.000717564, 0.000716952, 0.000716341, 0.000715731]</td></tr><tr><td class = \"rowNumber\" style = \"font-weight: bold; text-align: right;\">13</td><td style = \"text-align: right;\">3.06055</td><td style = \"text-align: right;\">0.946955</td><td style = \"text-align: right;\">99.859</td><td style = \"text-align: right;\">0.236029</td><td style = \"text-align: right;\">0.125762</td><td style = \"text-align: right;\">0.064325</td><td style = \"text-align: left;\">[7.8487e-7, 1.57086e-6, 2.62057e-6, 3.93543e-6, 5.51721e-6, 7.36793e-6, 9.48992e-6, 1.18857e-5, 1.45579e-5, 1.75095e-5  …  0.000343308, 0.000343019, 0.00034273, 0.000342442, 0.000342154, 0.000341867, 0.000341581, 0.000341295, 0.00034101, 0.000340726]</td></tr><tr><td style = \"text-align: right;\">&vellip;</td><td style = \"text-align: right;\">&vellip;</td><td style = \"text-align: right;\">&vellip;</td><td style = \"text-align: right;\">&vellip;</td><td style = \"text-align: right;\">&vellip;</td><td style = \"text-align: right;\">&vellip;</td><td style = \"text-align: right;\">&vellip;</td><td style = \"text-align: right;\">&vellip;</td></tr><tr><td class = \"rowNumber\" style = \"font-weight: bold; text-align: right;\">9989</td><td style = \"text-align: right;\">3.43955</td><td style = \"text-align: right;\">0.900085</td><td style = \"text-align: right;\">40.159</td><td style = \"text-align: right;\">0.201463</td><td style = \"text-align: right;\">0.154238</td><td style = \"text-align: right;\">0.077345</td><td style = \"text-align: left;\">[1.58603e-6, 3.17438e-6, 5.29575e-6, 7.95309e-6, 1.115e-5, 1.48904e-5, 1.9179e-5, 2.40207e-5, 2.94204e-5, 3.53835e-5  …  0.00304248, 0.00304022, 0.00303795, 0.00303569, 0.00303343, 0.00303118, 0.00302892, 0.00302667, 0.00302441, 0.00302217]</td></tr><tr><td class = \"rowNumber\" style = \"font-weight: bold; text-align: right;\">9990</td><td style = \"text-align: right;\">2.85305</td><td style = \"text-align: right;\">0.920809</td><td style = \"text-align: right;\">85.123</td><td style = \"text-align: right;\">0.195223</td><td style = \"text-align: right;\">0.16913</td><td style = \"text-align: right;\">0.119845</td><td style = \"text-align: left;\">[7.00951e-7, 1.40347e-6, 2.34255e-6, 3.52015e-6, 4.93861e-6, 6.60057e-6, 8.50892e-6, 1.06667e-5, 1.3077e-5, 1.5743e-5  …  0.000764205, 0.000763695, 0.000763185, 0.000762675, 0.000762164, 0.000761654, 0.000761143, 0.000760633, 0.000760124, 0.000759615]</td></tr><tr><td class = \"rowNumber\" style = \"font-weight: bold; text-align: right;\">9991</td><td style = \"text-align: right;\">2.91275</td><td style = \"text-align: right;\">0.895325</td><td style = \"text-align: right;\">64.111</td><td style = \"text-align: right;\">0.215629</td><td style = \"text-align: right;\">0.170654</td><td style = \"text-align: right;\">0.051515</td><td style = \"text-align: left;\">[9.90936e-7, 1.983e-6, 3.30748e-6, 4.96584e-6, 6.95983e-6, 9.29153e-6, 1.19633e-5, 1.49776e-5, 1.83372e-5, 2.2045e-5  …  0.00107864, 0.00107784, 0.00107705, 0.00107625, 0.00107546, 0.00107466, 0.00107387, 0.00107307, 0.00107228, 0.00107149]</td></tr><tr><td class = \"rowNumber\" style = \"font-weight: bold; text-align: right;\">9992</td><td style = \"text-align: right;\">3.45165</td><td style = \"text-align: right;\">0.929785</td><td style = \"text-align: right;\">97.717</td><td style = \"text-align: right;\">0.242911</td><td style = \"text-align: right;\">0.17765</td><td style = \"text-align: right;\">0.085115</td><td style = \"text-align: left;\">[1.51417e-6, 3.03046e-6, 5.05546e-6, 7.59186e-6, 1.0643e-5, 1.42125e-5, 1.83048e-5, 2.29244e-5, 2.8076e-5, 3.37648e-5  …  0.00124533, 0.00124453, 0.00124373, 0.00124293, 0.00124213, 0.00124133, 0.00124054, 0.00123974, 0.00123895, 0.00123815]</td></tr><tr><td class = \"rowNumber\" style = \"font-weight: bold; text-align: right;\">9993</td><td style = \"text-align: right;\">2.88955</td><td style = \"text-align: right;\">1.0005</td><td style = \"text-align: right;\">81.697</td><td style = \"text-align: right;\">0.233365</td><td style = \"text-align: right;\">0.17687</td><td style = \"text-align: right;\">0.117625</td><td style = \"text-align: left;\">[7.72534e-7, 1.54633e-6, 2.57997e-6, 3.87506e-6, 5.4335e-6, 7.25746e-6, 9.34935e-6, 1.17117e-5, 1.43473e-5, 1.72587e-5  …  0.00100183, 0.00100112, 0.0010004, 0.00099968, 0.000998963, 0.000998246, 0.000997529, 0.000996814, 0.000996099, 0.000995384]</td></tr><tr><td class = \"rowNumber\" style = \"font-weight: bold; text-align: right;\">9994</td><td style = \"text-align: right;\">2.75825</td><td style = \"text-align: right;\">0.917799</td><td style = \"text-align: right;\">79.783</td><td style = \"text-align: right;\">0.248575</td><td style = \"text-align: right;\">0.159254</td><td style = \"text-align: right;\">0.071205</td><td style = \"text-align: left;\">[7.59088e-7, 1.51919e-6, 2.53424e-6, 3.80551e-6, 5.33462e-6, 7.12339e-6, 9.17388e-6, 1.14884e-5, 1.40692e-5, 1.6919e-5  …  0.000474379, 0.000473974, 0.000473568, 0.000473163, 0.000472758, 0.000472352, 0.000471948, 0.000471543, 0.000471139, 0.000470735]</td></tr><tr><td class = \"rowNumber\" style = \"font-weight: bold; text-align: right;\">9995</td><td style = \"text-align: right;\">3.36555</td><td style = \"text-align: right;\">0.917902</td><td style = \"text-align: right;\">58.069</td><td style = \"text-align: right;\">0.196351</td><td style = \"text-align: right;\">0.185798</td><td style = \"text-align: right;\">0.105435</td><td style = \"text-align: left;\">[1.47583e-6, 2.95434e-6, 4.92979e-6, 7.40554e-6, 1.03856e-5, 1.38745e-5, 1.78773e-5, 2.23992e-5, 2.74456e-5, 3.3022e-5  …  0.00321977, 0.00321781, 0.00321585, 0.00321389, 0.00321192, 0.00320996, 0.003208, 0.00320605, 0.00320409, 0.00320213]</td></tr><tr><td class = \"rowNumber\" style = \"font-weight: bold; text-align: right;\">9996</td><td style = \"text-align: right;\">2.94105</td><td style = \"text-align: right;\">1.04564</td><td style = \"text-align: right;\">67.441</td><td style = \"text-align: right;\">0.212737</td><td style = \"text-align: right;\">0.150326</td><td style = \"text-align: right;\">0.094155</td><td style = \"text-align: left;\">[7.19303e-7, 1.43952e-6, 2.4012e-6, 3.60552e-6, 5.05388e-6, 6.74791e-6, 8.68942e-6, 1.08804e-5, 1.33229e-5, 1.6019e-5  …  0.00128998, 0.00128906, 0.00128815, 0.00128723, 0.00128632, 0.0012854, 0.00128449, 0.00128358, 0.00128266, 0.00128175]</td></tr><tr><td class = \"rowNumber\" style = \"font-weight: bold; text-align: right;\">9997</td><td style = \"text-align: right;\">3.36035</td><td style = \"text-align: right;\">0.907906</td><td style = \"text-align: right;\">97.285</td><td style = \"text-align: right;\">0.209551</td><td style = \"text-align: right;\">0.109826</td><td style = \"text-align: right;\">0.078425</td><td style = \"text-align: left;\">[9.25253e-7, 1.85218e-6, 3.09064e-6, 4.64277e-6, 6.51115e-6, 8.69875e-6, 1.12089e-5, 1.40452e-5, 1.72115e-5, 2.07117e-5  …  0.000365245, 0.000364951, 0.000364656, 0.000364362, 0.000364068, 0.000363775, 0.000363482, 0.000363189, 0.000362897, 0.000362606]</td></tr><tr><td class = \"rowNumber\" style = \"font-weight: bold; text-align: right;\">9998</td><td style = \"text-align: right;\">3.02335</td><td style = \"text-align: right;\">0.898556</td><td style = \"text-align: right;\">87.631</td><td style = \"text-align: right;\">0.193825</td><td style = \"text-align: right;\">0.099206</td><td style = \"text-align: right;\">0.058405</td><td style = \"text-align: left;\">[6.41751e-7, 1.28456e-6, 2.14327e-6, 3.21923e-6, 4.5141e-6, 6.0298e-6, 7.76849e-6, 9.73253e-6, 1.19244e-5, 1.43469e-5  …  0.000264501, 0.000264265, 0.00026403, 0.000263796, 0.000263562, 0.000263329, 0.000263096, 0.000262864, 0.000262633, 0.000262402]</td></tr><tr><td class = \"rowNumber\" style = \"font-weight: bold; text-align: right;\">9999</td><td style = \"text-align: right;\">3.49005</td><td style = \"text-align: right;\">0.905984</td><td style = \"text-align: right;\">78.349</td><td style = \"text-align: right;\">0.200995</td><td style = \"text-align: right;\">0.107678</td><td style = \"text-align: right;\">0.050305</td><td style = \"text-align: left;\">[1.14344e-6, 2.28854e-6, 3.81792e-6, 5.73372e-6, 8.03857e-6, 1.07355e-5, 1.3828e-5, 1.73199e-5, 2.12152e-5, 2.55182e-5  …  0.000622, 0.000621381, 0.000620761, 0.000620142, 0.000619523, 0.000618905, 0.000618287, 0.00061767, 0.000617053, 0.000616437]</td></tr><tr><td class = \"rowNumber\" style = \"font-weight: bold; text-align: right;\">10000</td><td style = \"text-align: right;\">2.52595</td><td style = \"text-align: right;\">0.987415</td><td style = \"text-align: right;\">62.047</td><td style = \"text-align: right;\">0.210601</td><td style = \"text-align: right;\">0.120974</td><td style = \"text-align: right;\">0.072675</td><td style = \"text-align: left;\">[4.38567e-7, 8.77725e-7, 1.46418e-6, 2.19869e-6, 3.08217e-6, 4.11571e-6, 5.30049e-6, 6.63785e-6, 8.12918e-6, 9.77597e-6  …  0.000448297, 0.000447929, 0.000447561, 0.000447194, 0.000446828, 0.000446463, 0.000446098, 0.000445734, 0.000445371, 0.000445009]</td></tr></tbody></table></div>"
      ],
      "text/latex": [
       "\\begin{tabular}{r|ccccccc}\n",
       "\t& ln10A\\_s & n\\_s & h & omega\\_b & omega\\_cdm & tau & observable\\\\\n",
       "\t\\hline\n",
       "\t& Float64 & Float64 & Float64 & Float64 & Float64 & Float64 & Array\\\\\n",
       "\t\\hline\n",
       "\t1 & 3.32545 & 0.961728 & 65.623 & 0.247483 & 0.100226 & 0.054005 & [1.00088e-6, 2.00311e-6, 3.34152e-6, 5.01786e-6, 7.03427e-6, 9.39326e-6, 1.20977e-5, 1.51507e-5, 1.85556e-5, 2.23161e-5  …  0.000552773, 0.000552126, 0.000551481, 0.000550837, 0.000550193, 0.000549551, 0.000548911, 0.000548272, 0.000547634, 0.000546997] \\\\\n",
       "\t2 & 3.27485 & 1.00086 & 87.883 & 0.194455 & 0.181538 & 0.089555 & [1.15886e-6, 2.31914e-6, 3.86834e-6, 5.80825e-6, 8.14105e-6, 1.08692e-5, 1.39956e-5, 1.75232e-5, 2.14551e-5, 2.57946e-5  …  0.00234085, 0.00233952, 0.00233819, 0.00233686, 0.00233552, 0.00233419, 0.00233286, 0.00233154, 0.00233021, 0.00232888] \\\\\n",
       "\t3 & 2.82465 & 1.04693 & 98.665 & 0.247495 & 0.130622 & 0.079375 & [5.73671e-7, 1.14808e-6, 1.91509e-6, 2.87564e-6, 4.0309e-6, 5.38221e-6, 6.93109e-6, 8.6792e-6, 1.06283e-5, 1.27804e-5  …  0.000391259, 0.000390924, 0.00039059, 0.000390256, 0.000389923, 0.000389589, 0.000389257, 0.000388925, 0.000388593, 0.000388261] \\\\\n",
       "\t4 & 3.28415 & 0.997376 & 76.489 & 0.206647 & 0.084926 & 0.094475 & [6.44793e-7, 1.29081e-6, 2.15405e-6, 3.23607e-6, 4.53876e-6, 6.0643e-6, 7.8151e-6, 9.79379e-6, 1.20031e-5, 1.4446e-5  …  0.000386797, 0.000386397, 0.000385997, 0.000385596, 0.000385195, 0.000384794, 0.000384392, 0.00038399, 0.000383588, 0.000383187] \\\\\n",
       "\t5 & 2.95815 & 1.03731 & 54.457 & 0.245401 & 0.105086 & 0.110555 & [5.92875e-7, 1.1868e-6, 1.98031e-6, 2.97475e-6, 4.1717e-6, 5.57303e-6, 7.18078e-6, 8.99714e-6, 1.10244e-5, 1.32651e-5  …  0.000596367, 0.000595729, 0.00059509, 0.000594451, 0.00059381, 0.00059317, 0.000592528, 0.000591887, 0.000591245, 0.000590603] \\\\\n",
       "\t6 & 2.64435 & 0.911475 & 63.613 & 0.225019 & 0.104738 & 0.104215 & [4.68165e-7, 9.37416e-7, 1.56474e-6, 2.35151e-6, 3.29936e-6, 4.41016e-6, 5.68597e-6, 7.12898e-6, 8.74147e-6, 1.05257e-5  …  0.000252531, 0.000252273, 0.000252017, 0.00025176, 0.000251505, 0.00025125, 0.000250996, 0.000250742, 0.00025049, 0.000250239] \\\\\n",
       "\t7 & 2.77085 & 0.988231 & 89.035 & 0.251113 & 0.086354 & 0.070075 & [4.64461e-7, 9.29655e-7, 1.55104e-6, 2.32957e-6, 3.26638e-6, 4.36283e-6, 5.62042e-6, 7.04082e-6, 8.62583e-6, 1.03773e-5  …  0.000161654, 0.000161491, 0.000161327, 0.000161163, 0.000160999, 0.000160835, 0.00016067, 0.000160506, 0.000160342, 0.000160178] \\\\\n",
       "\t8 & 2.86625 & 0.949658 & 54.379 & 0.236917 & 0.130874 & 0.098855 & [7.01808e-7, 1.40487e-6, 2.34421e-6, 3.52142e-6, 4.93839e-6, 6.59733e-6, 8.50064e-6, 1.06509e-5, 1.30509e-5, 1.57034e-5  …  0.000643739, 0.000643067, 0.000642396, 0.000641725, 0.000641054, 0.000640384, 0.000639714, 0.000639045, 0.000638376, 0.000637708] \\\\\n",
       "\t9 & 3.31855 & 0.995932 & 60.073 & 0.217921 & 0.084266 & 0.090515 & [7.32622e-7, 1.46657e-6, 2.44719e-6, 3.67619e-6, 5.15559e-6, 6.88776e-6, 8.87532e-6, 1.11211e-5, 1.36282e-5, 1.63996e-5  …  0.000535759, 0.000535145, 0.000534532, 0.000533921, 0.000533311, 0.000532702, 0.000532094, 0.000531488, 0.000530884, 0.000530281] \\\\\n",
       "\t10 & 2.88975 & 0.99056 & 90.337 & 0.221695 & 0.191246 & 0.117845 & [8.01169e-7, 1.60363e-6, 2.67557e-6, 4.0186e-6, 5.63469e-6, 7.52606e-6, 9.69518e-6, 1.21447e-5, 1.48772e-5, 1.78956e-5  …  0.00116192, 0.00116123, 0.00116053, 0.00115984, 0.00115915, 0.00115846, 0.00115777, 0.00115708, 0.00115639, 0.0011557] \\\\\n",
       "\t11 & 2.72545 & 1.02466 & 84.775 & 0.198655 & 0.103046 & 0.069495 & [4.12142e-7, 8.24859e-7, 1.37604e-6, 2.06641e-6, 2.89689e-6, 3.86853e-6, 4.98251e-6, 6.24013e-6, 7.6428e-6, 9.19199e-6  …  0.000320038, 0.000319756, 0.000319473, 0.000319192, 0.00031891, 0.000318629, 0.000318349, 0.00031807, 0.00031779, 0.000317512] \\\\\n",
       "\t12 & 3.36725 & 0.979034 & 82.609 & 0.208555 & 0.121166 & 0.114145 & [8.79328e-7, 1.76045e-6, 2.93803e-6, 4.41433e-6, 6.19207e-6, 8.27434e-6, 1.06646e-5, 1.33664e-5, 1.63837e-5, 1.97202e-5  …  0.000721246, 0.000720632, 0.000720017, 0.000719403, 0.00071879, 0.000718176, 0.000717564, 0.000716952, 0.000716341, 0.000715731] \\\\\n",
       "\t13 & 3.06055 & 0.946955 & 99.859 & 0.236029 & 0.125762 & 0.064325 & [7.8487e-7, 1.57086e-6, 2.62057e-6, 3.93543e-6, 5.51721e-6, 7.36793e-6, 9.48992e-6, 1.18857e-5, 1.45579e-5, 1.75095e-5  …  0.000343308, 0.000343019, 0.00034273, 0.000342442, 0.000342154, 0.000341867, 0.000341581, 0.000341295, 0.00034101, 0.000340726] \\\\\n",
       "\t14 & 2.86635 & 0.932862 & 79.447 & 0.210355 & 0.171434 & 0.028455 & [9.08136e-7, 1.81718e-6, 3.03066e-6, 4.54973e-6, 6.37587e-6, 8.51076e-6, 1.09563e-5, 1.37147e-5, 1.67883e-5, 2.01795e-5  …  0.00099005, 0.000989358, 0.000988667, 0.000987976, 0.000987287, 0.000986599, 0.000985912, 0.000985225, 0.00098454, 0.000983856] \\\\\n",
       "\t15 & 2.85145 & 1.0471 & 86.719 & 0.205555 & 0.171374 & 0.092245 & [6.97804e-7, 1.39642e-6, 2.32916e-6, 3.49707e-6, 4.90139e-6, 6.5436e-6, 8.4253e-6, 1.05483e-5, 1.29144e-5, 1.55256e-5  …  0.00129072, 0.00128995, 0.00128918, 0.00128841, 0.00128764, 0.00128687, 0.0012861, 0.00128533, 0.00128457, 0.0012838] \\\\\n",
       "\t16 & 2.98375 & 0.917783 & 95.347 & 0.200047 & 0.169538 & 0.042875 & [9.36486e-7, 1.87402e-6, 3.12568e-6, 4.69281e-6, 6.57707e-6, 8.78039e-6, 1.13049e-5, 1.41531e-5, 1.73275e-5, 2.08309e-5  …  0.000846126, 0.000845522, 0.000844918, 0.000844314, 0.000843711, 0.000843108, 0.000842505, 0.000841902, 0.000841299, 0.000840697] \\\\\n",
       "\t17 & 3.40055 & 0.973305 & 93.925 & 0.237391 & 0.112034 & 0.059545 & [1.01581e-6, 2.03304e-6, 3.39152e-6, 5.0931e-6, 7.14e-6, 9.53484e-6, 1.22806e-5, 1.53804e-5, 1.88378e-5, 2.26566e-5  …  0.000471082, 0.000470608, 0.000470135, 0.000469663, 0.000469191, 0.000468719, 0.000468248, 0.000467777, 0.000467308, 0.000466838] \\\\\n",
       "\t18 & 3.26545 & 1.02203 & 97.927 & 0.243115 & 0.082826 & 0.104565 & [6.2805e-7, 1.25732e-6, 2.09821e-6, 3.15228e-6, 4.42141e-6, 5.90776e-6, 7.61376e-6, 9.54203e-6, 1.16953e-5, 1.40766e-5  …  0.000227909, 0.000227631, 0.000227353, 0.000227074, 0.000226796, 0.000226517, 0.000226238, 0.000225959, 0.00022568, 0.000225401] \\\\\n",
       "\t19 & 3.18245 & 0.94806 & 98.281 & 0.234553 & 0.10835 & 0.030105 & [8.58815e-7, 1.71879e-6, 2.86721e-6, 4.30559e-6, 6.03576e-6, 8.05988e-6, 1.03804e-5, 1.30001e-5, 1.59218e-5, 1.91488e-5  …  0.00031596, 0.00031565, 0.000315341, 0.000315032, 0.000314724, 0.000314416, 0.000314109, 0.000313803, 0.000313498, 0.000313193] \\\\\n",
       "\t20 & 3.10875 & 0.985664 & 80.095 & 0.201001 & 0.162626 & 0.114935 & [8.64285e-7, 1.73009e-6, 2.88681e-6, 4.33636e-6, 6.08102e-6, 8.12341e-6, 1.04664e-5, 1.3113e-5, 1.60664e-5, 1.93299e-5  …  0.00131316, 0.00131233, 0.0013115, 0.00131067, 0.00130984, 0.00130901, 0.00130818, 0.00130735, 0.00130653, 0.0013057] \\\\\n",
       "\t21 & 2.84875 & 1.03282 & 95.629 & 0.240775 & 0.110822 & 0.091865 & [5.06826e-7, 1.01443e-6, 1.69244e-6, 2.54184e-6, 3.56385e-6, 4.75987e-6, 6.13149e-6, 7.68041e-6, 9.40847e-6, 1.13176e-5  …  0.000279268, 0.000278991, 0.000278714, 0.000278437, 0.00027816, 0.000277884, 0.000277608, 0.000277331, 0.000277055, 0.00027678] \\\\\n",
       "\t22 & 3.25035 & 1.04035 & 73.567 & 0.224995 & 0.091418 & 0.030835 & [7.56316e-7, 1.51357e-6, 2.52468e-6, 3.79086e-6, 5.31361e-6, 7.09469e-6, 9.13609e-6, 1.144e-5, 1.4009e-5, 1.68455e-5  …  0.000550474, 0.000550006, 0.000549538, 0.000549071, 0.000548605, 0.00054814, 0.000547675, 0.000547211, 0.000546748, 0.000546286] \\\\\n",
       "\t23 & 2.93215 & 1.03656 & 57.181 & 0.250717 & 0.112814 & 0.073845 & [6.634e-7, 1.32764e-6, 2.21458e-6, 3.32531e-6, 4.66113e-6, 6.2236e-6, 8.01444e-6, 1.00355e-5, 1.2289e-5, 1.47769e-5  …  0.000651308, 0.000650602, 0.000649896, 0.00064919, 0.000648484, 0.000647777, 0.000647071, 0.000646365, 0.000645658, 0.000644952] \\\\\n",
       "\t24 & 2.86215 & 0.937706 & 45.523 & 0.209983 & 0.137786 & 0.029505 & [8.40317e-7, 1.6815e-6, 2.80442e-6, 4.21019e-6, 5.90021e-6, 7.87609e-6, 1.01397e-5, 1.2693e-5, 1.55384e-5, 1.86781e-5  …  0.00113598, 0.00113493, 0.00113388, 0.00113283, 0.00113178, 0.00113073, 0.00112969, 0.00112864, 0.0011276, 0.00112656] \\\\\n",
       "\t25 & 3.28135 & 0.945901 & 91.447 & 0.244003 & 0.155642 & 0.059625 & [1.21194e-6, 2.42536e-6, 4.04553e-6, 6.07434e-6, 8.51413e-6, 1.13676e-5, 1.46378e-5, 1.83281e-5, 2.24422e-5, 2.69837e-5  …  0.00082587, 0.000825206, 0.000824543, 0.00082388, 0.000823218, 0.000822557, 0.000821897, 0.000821237, 0.000820579, 0.000819921] \\\\\n",
       "\t26 & 2.64645 & 1.02153 & 56.287 & 0.226579 & 0.13259 & 0.081975 & [5.33539e-7, 1.06776e-6, 1.78111e-6, 2.67446e-6, 3.74888e-6, 5.0056e-6, 6.446e-6, 8.07159e-6, 9.88398e-6, 1.18849e-5  …  0.000707176, 0.000706543, 0.000705911, 0.00070528, 0.00070465, 0.000704022, 0.000703394, 0.000702767, 0.000702142, 0.000701518] \\\\\n",
       "\t27 & 3.42885 & 0.980002 & 62.383 & 0.217705 & 0.112022 & 0.109655 & [9.6652e-7, 1.93499e-6, 3.22927e-6, 4.8518e-6, 6.80555e-6, 9.0939e-6, 1.17205e-5, 1.46895e-5, 1.80048e-5, 2.16709e-5  …  0.000928944, 0.000928189, 0.000927434, 0.000926681, 0.000925928, 0.000925176, 0.000924426, 0.000923678, 0.000922931, 0.000922186] \\\\\n",
       "\t28 & 3.02475 & 0.991733 & 71.953 & 0.205831 & 0.12137 & 0.021225 & [7.71167e-7, 1.54318e-6, 2.57385e-6, 3.86428e-6, 5.41582e-6, 7.23007e-6, 9.30884e-6, 1.16542e-5, 1.42682e-5, 1.71534e-5  …  0.000748444, 0.000747786, 0.000747129, 0.000746472, 0.000745815, 0.000745158, 0.000744502, 0.000743846, 0.00074319, 0.000742534] \\\\\n",
       "\t29 & 2.93175 & 1.04411 & 87.451 & 0.208213 & 0.188786 & 0.042925 & [9.31357e-7, 1.86349e-6, 3.10754e-6, 4.66451e-6, 6.53563e-6, 8.72237e-6, 1.12264e-5, 1.40494e-5, 1.71935e-5, 2.06608e-5  …  0.00200221, 0.00200109, 0.00199996, 0.00199884, 0.00199772, 0.0019966, 0.00199548, 0.00199437, 0.00199325, 0.00199213] \\\\\n",
       "\t30 & 3.43915 & 0.906427 & 88.285 & 0.235045 & 0.180986 & 0.088345 & [1.55591e-6, 3.11417e-6, 5.19544e-6, 7.80269e-6, 1.09395e-5, 1.461e-5, 1.88188e-5, 2.35708e-5, 2.88712e-5, 3.47253e-5  …  0.00141454, 0.0014136, 0.00141265, 0.0014117, 0.00141075, 0.0014098, 0.00140886, 0.00140792, 0.00140697, 0.00140603] \\\\\n",
       "\t$\\dots$ & $\\dots$ & $\\dots$ & $\\dots$ & $\\dots$ & $\\dots$ & $\\dots$ & $\\dots$ \\\\\n",
       "\\end{tabular}\n"
      ],
      "text/plain": [
       "\u001b[1m10000×7 DataFrame\u001b[0m\n",
       "\u001b[1m   Row \u001b[0m│\u001b[1m ln10A_s \u001b[0m\u001b[1m n_s      \u001b[0m\u001b[1m h       \u001b[0m\u001b[1m omega_b  \u001b[0m\u001b[1m omega_cdm \u001b[0m\u001b[1m tau      \u001b[0m\u001b[1m observable\u001b[0m ⋯\n",
       "       │\u001b[90m Float64 \u001b[0m\u001b[90m Float64  \u001b[0m\u001b[90m Float64 \u001b[0m\u001b[90m Float64  \u001b[0m\u001b[90m Float64   \u001b[0m\u001b[90m Float64  \u001b[0m\u001b[90m Array     \u001b[0m ⋯\n",
       "───────┼────────────────────────────────────────────────────────────────────────\n",
       "     1 │ 3.32545  0.961728   65.623  0.247483   0.100226  0.054005  [1.00088e- ⋯\n",
       "     2 │ 3.27485  1.00086    87.883  0.194455   0.181538  0.089555  [1.15886e-\n",
       "     3 │ 2.82465  1.04693    98.665  0.247495   0.130622  0.079375  [5.73671e-\n",
       "     4 │ 3.28415  0.997376   76.489  0.206647   0.084926  0.094475  [6.44793e-\n",
       "     5 │ 2.95815  1.03731    54.457  0.245401   0.105086  0.110555  [5.92875e- ⋯\n",
       "     6 │ 2.64435  0.911475   63.613  0.225019   0.104738  0.104215  [4.68165e-\n",
       "     7 │ 2.77085  0.988231   89.035  0.251113   0.086354  0.070075  [4.64461e-\n",
       "     8 │ 2.86625  0.949658   54.379  0.236917   0.130874  0.098855  [7.01808e-\n",
       "     9 │ 3.31855  0.995932   60.073  0.217921   0.084266  0.090515  [7.32622e- ⋯\n",
       "    10 │ 2.88975  0.99056    90.337  0.221695   0.191246  0.117845  [8.01169e-\n",
       "    11 │ 2.72545  1.02466    84.775  0.198655   0.103046  0.069495  [4.12142e-\n",
       "   ⋮   │    ⋮        ⋮         ⋮        ⋮          ⋮         ⋮                 ⋱\n",
       "  9991 │ 2.91275  0.895325   64.111  0.215629   0.170654  0.051515  [9.90936e-\n",
       "  9992 │ 3.45165  0.929785   97.717  0.242911   0.17765   0.085115  [1.51417e- ⋯\n",
       "  9993 │ 2.88955  1.0005     81.697  0.233365   0.17687   0.117625  [7.72534e-\n",
       "  9994 │ 2.75825  0.917799   79.783  0.248575   0.159254  0.071205  [7.59088e-\n",
       "  9995 │ 3.36555  0.917902   58.069  0.196351   0.185798  0.105435  [1.47583e-\n",
       "  9996 │ 2.94105  1.04564    67.441  0.212737   0.150326  0.094155  [7.19303e- ⋯\n",
       "  9997 │ 3.36035  0.907906   97.285  0.209551   0.109826  0.078425  [9.25253e-\n",
       "  9998 │ 3.02335  0.898556   87.631  0.193825   0.099206  0.058405  [6.41751e-\n",
       "  9999 │ 3.49005  0.905984   78.349  0.200995   0.107678  0.050305  [1.14344e-\n",
       " 10000 │ 2.52595  0.987415   62.047  0.210601   0.120974  0.072675  [4.38567e- ⋯\n",
       "\u001b[36m                                                  1 column and 9979 rows omitted\u001b[0m"
      ]
     },
     "execution_count": 7,
     "metadata": {},
     "output_type": "execute_result"
    }
   ],
   "source": [
    "df"
   ]
  },
  {
   "cell_type": "markdown",
   "metadata": {},
   "source": [
    "`DataFrames.jl` is very fast (kudos to Bogul Kaminsky!).\n",
    "Now we can obtain the minimum and maximum value of each input and output feature."
   ]
  },
  {
   "cell_type": "code",
   "execution_count": 8,
   "metadata": {},
   "outputs": [
    {
     "data": {
      "text/plain": [
       "6×2 Matrix{Float64}:\n",
       "  2.50005    3.49995\n",
       "  0.880008   1.04999\n",
       " 40.003     99.997\n",
       "  0.193303   0.253297\n",
       "  0.080006   0.199994\n",
       "  0.020005   0.119995"
      ]
     },
     "execution_count": 8,
     "metadata": {},
     "output_type": "execute_result"
    }
   ],
   "source": [
    "n_input_features = 6\n",
    "n_output_features = last_idx - first_idx + 1\n",
    "array_pars_in = [\"ln10A_s\", \"n_s\", \"h\", \"omega_b\", \"omega_cdm\", \"tau\"]\n",
    "in_array, out_array = EmulatorsTrainer.extract_input_output_df(df, n_input_features, n_output_features)\n",
    "in_MinMax = EmulatorsTrainer.get_minmax_in(df, array_pars_in)\n",
    "out_MinMax = EmulatorsTrainer.get_minmax_out(out_array, n_output_features);\n",
    "in_MinMax"
   ]
  },
  {
   "cell_type": "markdown",
   "metadata": {},
   "source": [
    "Let us save these values within some `.npy` files (we are going to deliver them with the trained weights and biases)"
   ]
  },
  {
   "cell_type": "code",
   "execution_count": 9,
   "metadata": {},
   "outputs": [],
   "source": [
    "npzwrite(\"inMinMax_lcdm.npy\", in_MinMax)\n",
    "npzwrite(\"outMinMaxCℓ\"*Cℓkind*\"_lcdm.npy\", out_MinMax)"
   ]
  },
  {
   "cell_type": "markdown",
   "metadata": {},
   "source": [
    "Now we are going to apply a maximin normalization to the input and output features: in this way, each feature will be mapped to $[0,1]$"
   ]
  },
  {
   "cell_type": "code",
   "execution_count": 10,
   "metadata": {},
   "outputs": [],
   "source": [
    "EmulatorsTrainer.maximin_df!(df, in_MinMax, out_MinMax)"
   ]
  },
  {
   "cell_type": "markdown",
   "metadata": {},
   "source": [
    "Let us check that the rescaling worked as expected"
   ]
  },
  {
   "cell_type": "code",
   "execution_count": 11,
   "metadata": {},
   "outputs": [
    {
     "name": "stdout",
     "output_type": "stream",
     "text": [
      "0.0 , 1.0\n",
      "0.0 , 1.0\n",
      "0.0 , 1.0\n",
      "0.0 , 1.0\n",
      "0.0 , 1.0\n",
      "0.0 , 1.0\n"
     ]
    }
   ],
   "source": [
    "println(minimum(df[!,\"ln10A_s\"]), \" , \", maximum(df[!,\"ln10A_s\"]))\n",
    "println(minimum(df[!,\"n_s\"]), \" , \", maximum(df[!,\"n_s\"]))\n",
    "println(minimum(df[!,\"h\"]), \" , \", maximum(df[!,\"h\"]))\n",
    "println(minimum(df[!,\"omega_b\"]), \" , \", maximum(df[!,\"omega_b\"]))\n",
    "println(minimum(df[!,\"omega_cdm\"]), \" , \", maximum(df[!,\"omega_cdm\"]))\n",
    "println(minimum(minimum(df[!,\"observable\"])), \" , \", maximum(maximum(df[!,\"observable\"])))"
   ]
  },
  {
   "cell_type": "markdown",
   "metadata": {},
   "source": [
    "Now we can parse a JSON, containing the structure of the NN we are gonna use..."
   ]
  },
  {
   "cell_type": "code",
   "execution_count": 12,
   "metadata": {},
   "outputs": [
    {
     "data": {
      "text/plain": [
       "Dict{String, Any} with 5 entries:\n",
       "  \"n_input_features\"     => 6\n",
       "  \"emulator_description\" => Dict{String, Any}(\"author_email\"=>\"bonici.marco@gma…\n",
       "  \"layers\"               => Dict{String, Any}(\"layer_4\"=>Dict{String, Any}(\"n_n…\n",
       "  \"n_output_features\"    => 4999\n",
       "  \"n_hidden_layers\"      => 5"
      ]
     },
     "execution_count": 12,
     "metadata": {},
     "output_type": "execute_result"
    }
   ],
   "source": [
    "NN_dict = JSON.parsefile(\"nn_setup.json\")"
   ]
  },
  {
   "cell_type": "markdown",
   "metadata": {},
   "source": [
    "...and we can use it the created dictionary to instantiate our network. Here we are gonna use a `SimpleChains.jl` emulator (although we have the possibility to use `Lux.jl` as well!)"
   ]
  },
  {
   "cell_type": "code",
   "execution_count": 13,
   "metadata": {},
   "outputs": [],
   "source": [
    "mlpd = AbstractCosmologicalEmulators._get_nn_simplechains(NN_dict);"
   ]
  },
  {
   "cell_type": "markdown",
   "metadata": {},
   "source": [
    "Now we are gonna split the data in training and test datasets."
   ]
  },
  {
   "cell_type": "code",
   "execution_count": 14,
   "metadata": {},
   "outputs": [
    {
     "data": {
      "text/plain": [
       "([0.8254825482548255 0.7748774877487746 … 0.5233523352335231 0.025902590259025932; 0.48074807480748133 0.7109710971097116 … 0.10911091109110965 0.6318631863186326; … ; 0.16851685168516853 0.8461846184618464 … 0.16001600160015997 0.3414341434143415; 0.34003400340034 0.6955695569556956 … 0.384038403840384 0.5267526752675268], [0.3770367730661646 0.45991004470387 … 0.18865228385196078 0.08206975639919394; 0.3770933324783633 0.45994886264094087 … 0.18870235598824758 0.08203825441295452; … ; 0.05770186249303933 0.27362142469529355 … 0.023180243780840243 0.04531501932212782; 0.057668801348641496 0.2736241409124331 … 0.023177259333172842 0.04530834734747433], [0.458145814581458 0.22542254225422542 … 0.2582258225822581 0.9900990099009901; 0.9253925392539262 0.8509850985098518 … 0.22232223222322245 0.15281528152815282; … ; 0.20902090209020907 0.19201920192019195 … 0.6604660466046605 0.23062306230623053; 0.9055905590559056 0.494949494949495 … 0.5120512051205119 0.303030303030303], [0.1630138109371386 0.0682081084392927 … 0.25020309905825483 0.4518183273331417; 0.16307202221432113 0.06817783472339187 … 0.2502191912864268 0.45192784135058134; … ; 0.0629843769362993 0.029861388910412612 … 0.048436159726491804 0.06611048923120787; 0.06295354332617392 0.029856282449801434 … 0.04842614116811933 0.06608458289827591])"
      ]
     },
     "execution_count": 14,
     "metadata": {},
     "output_type": "execute_result"
    }
   ],
   "source": [
    "X, Y, Xtest, Ytest = EmulatorsTrainer.getdata(df, n_input_features, n_output_features)"
   ]
  },
  {
   "cell_type": "code",
   "execution_count": 18,
   "metadata": {},
   "outputs": [],
   "source": [
    "p = SimpleChains.init_params(mlpd)\n",
    "G = SimpleChains.alloc_threaded_grad(mlpd);"
   ]
  },
  {
   "cell_type": "code",
   "execution_count": 19,
   "metadata": {},
   "outputs": [],
   "source": [
    "mlpdloss = SimpleChains.add_loss(mlpd, SquaredLoss(Y))\n",
    "mlpdtest = SimpleChains.add_loss(mlpd, SquaredLoss(Ytest))\n",
    "\n",
    "report = let mtrain = mlpdloss, X=X, Xtest=Xtest, mtest = mlpdtest\n",
    "  p -> begin\n",
    "    let train = mlpdloss(X, p), test = mlpdtest(Xtest, p)\n",
    "      @info \"Loss:\" train test    \n",
    "    end\n",
    "  end\n",
    "end;"
   ]
  },
  {
   "cell_type": "code",
   "execution_count": 20,
   "metadata": {},
   "outputs": [
    {
     "name": "stdout",
     "output_type": "stream",
     "text": [
      "Initial Loss: 312108.73562316294\n",
      " 10.365460 seconds (467.98 k allocations: 28.169 MiB, 2.81% compilation time)\n"
     ]
    },
    {
     "name": "stderr",
     "output_type": "stream",
     "text": [
      "\u001b[36m\u001b[1m┌ \u001b[22m\u001b[39m\u001b[36m\u001b[1mInfo: \u001b[22m\u001b[39mLoss:\n",
      "\u001b[36m\u001b[1m│ \u001b[22m\u001b[39m  train = 315977.08837402664\n",
      "\u001b[36m\u001b[1m└ \u001b[22m\u001b[39m  test = 74851.93952876891\n",
      "\u001b[36m\u001b[1m┌ \u001b[22m\u001b[39m\u001b[36m\u001b[1mInfo: \u001b[22m\u001b[39mSaving coefficients! Test loss is equal to :\n",
      "\u001b[36m\u001b[1m└ \u001b[22m\u001b[39m  test = 74851.93952876891\n"
     ]
    },
    {
     "name": "stdout",
     "output_type": "stream",
     "text": [
      "  9.408879 seconds (194 allocations: 5.141 KiB)\n"
     ]
    },
    {
     "name": "stderr",
     "output_type": "stream",
     "text": [
      "\u001b[36m\u001b[1m┌ \u001b[22m\u001b[39m\u001b[36m\u001b[1mInfo: \u001b[22m\u001b[39mLoss:\n",
      "\u001b[36m\u001b[1m│ \u001b[22m\u001b[39m  train = 95503.37436778363\n",
      "\u001b[36m\u001b[1m└ \u001b[22m\u001b[39m  test = 22604.105982840814\n",
      "\u001b[36m\u001b[1m┌ \u001b[22m\u001b[39m\u001b[36m\u001b[1mInfo: \u001b[22m\u001b[39mSaving coefficients! Test loss is equal to :\n",
      "\u001b[36m\u001b[1m└ \u001b[22m\u001b[39m  test = 22604.105982840814\n"
     ]
    },
    {
     "name": "stdout",
     "output_type": "stream",
     "text": [
      "  9.987260 seconds (389 allocations: 19.125 KiB)\n"
     ]
    },
    {
     "name": "stderr",
     "output_type": "stream",
     "text": [
      "\u001b[36m\u001b[1m┌ \u001b[22m\u001b[39m\u001b[36m\u001b[1mInfo: \u001b[22m\u001b[39mLoss:\n",
      "\u001b[36m\u001b[1m│ \u001b[22m\u001b[39m  train = 46832.51093361279\n",
      "\u001b[36m\u001b[1m└ \u001b[22m\u001b[39m  test = 11204.474379273704\n",
      "\u001b[36m\u001b[1m┌ \u001b[22m\u001b[39m\u001b[36m\u001b[1mInfo: \u001b[22m\u001b[39mSaving coefficients! Test loss is equal to :\n",
      "\u001b[36m\u001b[1m└ \u001b[22m\u001b[39m  test = 11204.474379273704\n"
     ]
    },
    {
     "name": "stdout",
     "output_type": "stream",
     "text": [
      "  9.960674 seconds (393 allocations: 19.359 KiB)\n"
     ]
    },
    {
     "name": "stderr",
     "output_type": "stream",
     "text": [
      "\u001b[36m\u001b[1m┌ \u001b[22m\u001b[39m\u001b[36m\u001b[1mInfo: \u001b[22m\u001b[39mLoss:\n",
      "\u001b[36m\u001b[1m│ \u001b[22m\u001b[39m  train = 19224.225334794504\n",
      "\u001b[36m\u001b[1m└ \u001b[22m\u001b[39m  test = 4625.734292676579\n",
      "\u001b[36m\u001b[1m┌ \u001b[22m\u001b[39m\u001b[36m\u001b[1mInfo: \u001b[22m\u001b[39mSaving coefficients! Test loss is equal to :\n",
      "\u001b[36m\u001b[1m└ \u001b[22m\u001b[39m  test = 4625.734292676579\n"
     ]
    },
    {
     "name": "stdout",
     "output_type": "stream",
     "text": [
      " 10.073609 seconds (321 allocations: 17.047 KiB)\n"
     ]
    },
    {
     "name": "stderr",
     "output_type": "stream",
     "text": [
      "\u001b[36m\u001b[1m┌ \u001b[22m\u001b[39m\u001b[36m\u001b[1mInfo: \u001b[22m\u001b[39mLoss:\n",
      "\u001b[36m\u001b[1m│ \u001b[22m\u001b[39m  train = 12276.952560964466\n",
      "\u001b[36m\u001b[1m└ \u001b[22m\u001b[39m  test = 2973.256805656105\n",
      "\u001b[36m\u001b[1m┌ \u001b[22m\u001b[39m\u001b[36m\u001b[1mInfo: \u001b[22m\u001b[39mSaving coefficients! Test loss is equal to :\n",
      "\u001b[36m\u001b[1m└ \u001b[22m\u001b[39m  test = 2973.256805656105\n"
     ]
    },
    {
     "name": "stdout",
     "output_type": "stream",
     "text": [
      " 11.374836 seconds (371 allocations: 18.484 KiB)\n"
     ]
    },
    {
     "name": "stderr",
     "output_type": "stream",
     "text": [
      "\u001b[36m\u001b[1m┌ \u001b[22m\u001b[39m\u001b[36m\u001b[1mInfo: \u001b[22m\u001b[39mLoss:\n",
      "\u001b[36m\u001b[1m│ \u001b[22m\u001b[39m  train = 9144.379147437747\n",
      "\u001b[36m\u001b[1m└ \u001b[22m\u001b[39m  test = 2222.327047573792\n",
      "\u001b[36m\u001b[1m┌ \u001b[22m\u001b[39m\u001b[36m\u001b[1mInfo: \u001b[22m\u001b[39mSaving coefficients! Test loss is equal to :\n",
      "\u001b[36m\u001b[1m└ \u001b[22m\u001b[39m  test = 2222.327047573792\n"
     ]
    },
    {
     "name": "stdout",
     "output_type": "stream",
     "text": [
      " 10.441801 seconds (326 allocations: 17.141 KiB)\n"
     ]
    },
    {
     "name": "stderr",
     "output_type": "stream",
     "text": [
      "\u001b[36m\u001b[1m┌ \u001b[22m\u001b[39m\u001b[36m\u001b[1mInfo: \u001b[22m\u001b[39mLoss:\n",
      "\u001b[36m\u001b[1m│ \u001b[22m\u001b[39m  train = 7240.010330830473\n",
      "\u001b[36m\u001b[1m└ \u001b[22m\u001b[39m  test = 1765.2946079164444\n",
      "\u001b[36m\u001b[1m┌ \u001b[22m\u001b[39m\u001b[36m\u001b[1mInfo: \u001b[22m\u001b[39mSaving coefficients! Test loss is equal to :\n",
      "\u001b[36m\u001b[1m└ \u001b[22m\u001b[39m  test = 1765.2946079164444\n"
     ]
    },
    {
     "name": "stdout",
     "output_type": "stream",
     "text": [
      " 10.436675 seconds (323 allocations: 17.078 KiB)\n"
     ]
    },
    {
     "name": "stderr",
     "output_type": "stream",
     "text": [
      "\u001b[36m\u001b[1m┌ \u001b[22m\u001b[39m\u001b[36m\u001b[1mInfo: \u001b[22m\u001b[39mLoss:\n",
      "\u001b[36m\u001b[1m│ \u001b[22m\u001b[39m  train = 5707.582247548788\n",
      "\u001b[36m\u001b[1m└ \u001b[22m\u001b[39m  test = 1399.3087730067673\n",
      "\u001b[36m\u001b[1m┌ \u001b[22m\u001b[39m\u001b[36m\u001b[1mInfo: \u001b[22m\u001b[39mSaving coefficients! Test loss is equal to :\n",
      "\u001b[36m\u001b[1m└ \u001b[22m\u001b[39m  test = 1399.3087730067673\n"
     ]
    },
    {
     "name": "stdout",
     "output_type": "stream",
     "text": [
      " 10.615498 seconds (328 allocations: 17.141 KiB)\n"
     ]
    },
    {
     "name": "stderr",
     "output_type": "stream",
     "text": [
      "\u001b[36m\u001b[1m┌ \u001b[22m\u001b[39m\u001b[36m\u001b[1mInfo: \u001b[22m\u001b[39mLoss:\n",
      "\u001b[36m\u001b[1m│ \u001b[22m\u001b[39m  train = 4589.485961896546\n",
      "\u001b[36m\u001b[1m└ \u001b[22m\u001b[39m  test = 1132.523171321975\n",
      "\u001b[36m\u001b[1m┌ \u001b[22m\u001b[39m\u001b[36m\u001b[1mInfo: \u001b[22m\u001b[39mSaving coefficients! Test loss is equal to :\n",
      "\u001b[36m\u001b[1m└ \u001b[22m\u001b[39m  test = 1132.523171321975\n"
     ]
    },
    {
     "name": "stdout",
     "output_type": "stream",
     "text": [
      "  8.447428 seconds (274 allocations: 15.734 KiB)\n"
     ]
    },
    {
     "name": "stderr",
     "output_type": "stream",
     "text": [
      "\u001b[36m\u001b[1m┌ \u001b[22m\u001b[39m\u001b[36m\u001b[1mInfo: \u001b[22m\u001b[39mLoss:\n",
      "\u001b[36m\u001b[1m│ \u001b[22m\u001b[39m  train = 3807.394557991539\n",
      "\u001b[36m\u001b[1m└ \u001b[22m\u001b[39m  test = 945.8088818831111\n",
      "\u001b[36m\u001b[1m┌ \u001b[22m\u001b[39m\u001b[36m\u001b[1mInfo: \u001b[22m\u001b[39mSaving coefficients! Test loss is equal to :\n",
      "\u001b[36m\u001b[1m└ \u001b[22m\u001b[39m  test = 945.8088818831111\n"
     ]
    }
   ],
   "source": [
    "#p = npzread(\"weights_\"*Cℓkind*\"_lcdm.npy\")# if you don't have any weights, comment this line\n",
    "initial_test_loss = mlpdtest(Xtest, p)\n",
    "println(\"Initial Loss: \",initial_test_loss)\n",
    "\n",
    "for i in 1:10\n",
    "    @time SimpleChains.train_unbatched!(\n",
    "    G, p, mlpdloss, X, SimpleChains.ADAM(8e-5), 100   #η = 1e-4\n",
    "  );\n",
    "    report(p)\n",
    "    test = mlpdtest(Xtest, p)\n",
    "    if initial_test_loss > test\n",
    "        npzwrite(\"weights_\"*Cℓkind*\"_lcdm.npy\", p)\n",
    "        initial_test_loss = test\n",
    "        @info \"Saving coefficients! Test loss is equal to :\" test\n",
    "    end\n",
    "end"
   ]
  },
  {
   "cell_type": "code",
   "execution_count": 21,
   "metadata": {},
   "outputs": [
    {
     "name": "stdout",
     "output_type": "stream",
     "text": [
      "Initial Loss: 945.8088818831111\n",
      " 46.419995 seconds (912 allocations: 32.031 KiB)\n"
     ]
    },
    {
     "name": "stderr",
     "output_type": "stream",
     "text": [
      "\u001b[36m\u001b[1m┌ \u001b[22m\u001b[39m\u001b[36m\u001b[1mInfo: \u001b[22m\u001b[39mLoss:\n",
      "\u001b[36m\u001b[1m│ \u001b[22m\u001b[39m  train = 1514.928102253035\n",
      "\u001b[36m\u001b[1m└ \u001b[22m\u001b[39m  test = 392.60775506409493\n",
      "\u001b[36m\u001b[1m┌ \u001b[22m\u001b[39m\u001b[36m\u001b[1mInfo: \u001b[22m\u001b[39mSaving coefficients! Test loss is equal to :\n",
      "\u001b[36m\u001b[1m└ \u001b[22m\u001b[39m  test = 392.60775506409493\n"
     ]
    },
    {
     "name": "stdout",
     "output_type": "stream",
     "text": [
      " 52.345436 seconds (1.13 k allocations: 39.047 KiB)\n"
     ]
    },
    {
     "name": "stderr",
     "output_type": "stream",
     "text": [
      "\u001b[36m\u001b[1m┌ \u001b[22m\u001b[39m\u001b[36m\u001b[1mInfo: \u001b[22m\u001b[39mLoss:\n",
      "\u001b[36m\u001b[1m│ \u001b[22m\u001b[39m  train = 1056.4034951289009\n",
      "\u001b[36m\u001b[1m└ \u001b[22m\u001b[39m  test = 276.82883407764166\n",
      "\u001b[36m\u001b[1m┌ \u001b[22m\u001b[39m\u001b[36m\u001b[1mInfo: \u001b[22m\u001b[39mSaving coefficients! Test loss is equal to :\n",
      "\u001b[36m\u001b[1m└ \u001b[22m\u001b[39m  test = 276.82883407764166\n"
     ]
    },
    {
     "name": "stdout",
     "output_type": "stream",
     "text": [
      " 48.609341 seconds (1.12 k allocations: 38.797 KiB)\n"
     ]
    },
    {
     "name": "stderr",
     "output_type": "stream",
     "text": [
      "\u001b[36m\u001b[1m┌ \u001b[22m\u001b[39m\u001b[36m\u001b[1mInfo: \u001b[22m\u001b[39mLoss:\n",
      "\u001b[36m\u001b[1m│ \u001b[22m\u001b[39m  train = 785.6599347724301\n",
      "\u001b[36m\u001b[1m└ \u001b[22m\u001b[39m  test = 205.56826720414907\n",
      "\u001b[36m\u001b[1m┌ \u001b[22m\u001b[39m\u001b[36m\u001b[1mInfo: \u001b[22m\u001b[39mSaving coefficients! Test loss is equal to :\n",
      "\u001b[36m\u001b[1m└ \u001b[22m\u001b[39m  test = 205.56826720414907\n"
     ]
    },
    {
     "name": "stdout",
     "output_type": "stream",
     "text": [
      " 52.476931 seconds (1.21 k allocations: 41.328 KiB)\n"
     ]
    },
    {
     "name": "stderr",
     "output_type": "stream",
     "text": [
      "\u001b[36m\u001b[1m┌ \u001b[22m\u001b[39m\u001b[36m\u001b[1mInfo: \u001b[22m\u001b[39mLoss:\n",
      "\u001b[36m\u001b[1m│ \u001b[22m\u001b[39m  train = 597.1256025519116\n",
      "\u001b[36m\u001b[1m└ \u001b[22m\u001b[39m  test = 155.07072798937747\n",
      "\u001b[36m\u001b[1m┌ \u001b[22m\u001b[39m\u001b[36m\u001b[1mInfo: \u001b[22m\u001b[39mSaving coefficients! Test loss is equal to :\n",
      "\u001b[36m\u001b[1m└ \u001b[22m\u001b[39m  test = 155.07072798937747\n"
     ]
    },
    {
     "name": "stdout",
     "output_type": "stream",
     "text": [
      " 52.384076 seconds (1.27 k allocations: 43.203 KiB)\n"
     ]
    },
    {
     "name": "stderr",
     "output_type": "stream",
     "text": [
      "\u001b[36m\u001b[1m┌ \u001b[22m\u001b[39m\u001b[36m\u001b[1mInfo: \u001b[22m\u001b[39mLoss:\n",
      "\u001b[36m\u001b[1m│ \u001b[22m\u001b[39m  train = 456.3767104114535\n",
      "\u001b[36m\u001b[1m└ \u001b[22m\u001b[39m  test = 117.03379253406044\n",
      "\u001b[36m\u001b[1m┌ \u001b[22m\u001b[39m\u001b[36m\u001b[1mInfo: \u001b[22m\u001b[39mSaving coefficients! Test loss is equal to :\n",
      "\u001b[36m\u001b[1m└ \u001b[22m\u001b[39m  test = 117.03379253406044\n"
     ]
    },
    {
     "name": "stdout",
     "output_type": "stream",
     "text": [
      " 53.209067 seconds (1.19 k allocations: 40.609 KiB)\n"
     ]
    },
    {
     "name": "stderr",
     "output_type": "stream",
     "text": [
      "\u001b[36m\u001b[1m┌ \u001b[22m\u001b[39m\u001b[36m\u001b[1mInfo: \u001b[22m\u001b[39mLoss:\n",
      "\u001b[36m\u001b[1m│ \u001b[22m\u001b[39m  train = 357.3569153259416\n",
      "\u001b[36m\u001b[1m└ \u001b[22m\u001b[39m  test = 90.47883977913776\n",
      "\u001b[36m\u001b[1m┌ \u001b[22m\u001b[39m\u001b[36m\u001b[1mInfo: \u001b[22m\u001b[39mSaving coefficients! Test loss is equal to :\n",
      "\u001b[36m\u001b[1m└ \u001b[22m\u001b[39m  test = 90.47883977913776\n"
     ]
    },
    {
     "name": "stdout",
     "output_type": "stream",
     "text": [
      " 53.649523 seconds (1.26 k allocations: 42.906 KiB)\n"
     ]
    },
    {
     "name": "stderr",
     "output_type": "stream",
     "text": [
      "\u001b[36m\u001b[1m┌ \u001b[22m\u001b[39m\u001b[36m\u001b[1mInfo: \u001b[22m\u001b[39mLoss:\n",
      "\u001b[36m\u001b[1m│ \u001b[22m\u001b[39m  train = 293.891249941697\n",
      "\u001b[36m\u001b[1m└ \u001b[22m\u001b[39m  test = 73.83566055728419\n",
      "\u001b[36m\u001b[1m┌ \u001b[22m\u001b[39m\u001b[36m\u001b[1mInfo: \u001b[22m\u001b[39mSaving coefficients! Test loss is equal to :\n",
      "\u001b[36m\u001b[1m└ \u001b[22m\u001b[39m  test = 73.83566055728419\n"
     ]
    },
    {
     "name": "stdout",
     "output_type": "stream",
     "text": [
      " 53.006954 seconds (1.18 k allocations: 40.297 KiB)\n"
     ]
    },
    {
     "name": "stderr",
     "output_type": "stream",
     "text": [
      "\u001b[36m\u001b[1m┌ \u001b[22m\u001b[39m\u001b[36m\u001b[1mInfo: \u001b[22m\u001b[39mLoss:\n",
      "\u001b[36m\u001b[1m│ \u001b[22m\u001b[39m  train = 251.17426420020814\n",
      "\u001b[36m\u001b[1m└ \u001b[22m\u001b[39m  test = 62.90116026776103\n",
      "\u001b[36m\u001b[1m┌ \u001b[22m\u001b[39m\u001b[36m\u001b[1mInfo: \u001b[22m\u001b[39mSaving coefficients! Test loss is equal to :\n",
      "\u001b[36m\u001b[1m└ \u001b[22m\u001b[39m  test = 62.90116026776103\n"
     ]
    },
    {
     "name": "stdout",
     "output_type": "stream",
     "text": [
      " 52.955923 seconds (1.18 k allocations: 40.422 KiB)\n"
     ]
    },
    {
     "name": "stderr",
     "output_type": "stream",
     "text": [
      "\u001b[36m\u001b[1m┌ \u001b[22m\u001b[39m\u001b[36m\u001b[1mInfo: \u001b[22m\u001b[39mLoss:\n",
      "\u001b[36m\u001b[1m│ \u001b[22m\u001b[39m  train = 220.2261789598724\n",
      "\u001b[36m\u001b[1m└ \u001b[22m\u001b[39m  test = 55.107089989842635\n",
      "\u001b[36m\u001b[1m┌ \u001b[22m\u001b[39m\u001b[36m\u001b[1mInfo: \u001b[22m\u001b[39mSaving coefficients! Test loss is equal to :\n",
      "\u001b[36m\u001b[1m└ \u001b[22m\u001b[39m  test = 55.107089989842635\n"
     ]
    },
    {
     "name": "stdout",
     "output_type": "stream",
     "text": [
      " 53.599734 seconds (1.25 k allocations: 42.453 KiB)\n"
     ]
    },
    {
     "name": "stderr",
     "output_type": "stream",
     "text": [
      "\u001b[36m\u001b[1m┌ \u001b[22m\u001b[39m\u001b[36m\u001b[1mInfo: \u001b[22m\u001b[39mLoss:\n",
      "\u001b[36m\u001b[1m│ \u001b[22m\u001b[39m  train = 196.81228718534533\n",
      "\u001b[36m\u001b[1m└ \u001b[22m\u001b[39m  test = 49.257825178455775\n",
      "\u001b[36m\u001b[1m┌ \u001b[22m\u001b[39m\u001b[36m\u001b[1mInfo: \u001b[22m\u001b[39mSaving coefficients! Test loss is equal to :\n",
      "\u001b[36m\u001b[1m└ \u001b[22m\u001b[39m  test = 49.257825178455775\n"
     ]
    },
    {
     "name": "stdout",
     "output_type": "stream",
     "text": [
      " 52.208033 seconds (625 allocations: 25.516 KiB)\n"
     ]
    },
    {
     "name": "stderr",
     "output_type": "stream",
     "text": [
      "\u001b[36m\u001b[1m┌ \u001b[22m\u001b[39m\u001b[36m\u001b[1mInfo: \u001b[22m\u001b[39mLoss:\n",
      "\u001b[36m\u001b[1m│ \u001b[22m\u001b[39m  train = 178.60613952864904\n",
      "\u001b[36m\u001b[1m└ \u001b[22m\u001b[39m  test = 44.731376041283234\n",
      "\u001b[36m\u001b[1m┌ \u001b[22m\u001b[39m\u001b[36m\u001b[1mInfo: \u001b[22m\u001b[39mSaving coefficients! Test loss is equal to :\n",
      "\u001b[36m\u001b[1m└ \u001b[22m\u001b[39m  test = 44.731376041283234\n"
     ]
    },
    {
     "name": "stdout",
     "output_type": "stream",
     "text": [
      " 50.388890 seconds (1.07 k allocations: 37.359 KiB)\n"
     ]
    },
    {
     "name": "stderr",
     "output_type": "stream",
     "text": [
      "\u001b[36m\u001b[1m┌ \u001b[22m\u001b[39m\u001b[36m\u001b[1mInfo: \u001b[22m\u001b[39mLoss:\n",
      "\u001b[36m\u001b[1m│ \u001b[22m\u001b[39m  train = 163.81363073083023\n",
      "\u001b[36m\u001b[1m└ \u001b[22m\u001b[39m  test = 41.07224133976621\n",
      "\u001b[36m\u001b[1m┌ \u001b[22m\u001b[39m\u001b[36m\u001b[1mInfo: \u001b[22m\u001b[39mSaving coefficients! Test loss is equal to :\n",
      "\u001b[36m\u001b[1m└ \u001b[22m\u001b[39m  test = 41.07224133976621\n"
     ]
    },
    {
     "name": "stdout",
     "output_type": "stream",
     "text": [
      " 53.188045 seconds (1.17 k allocations: 39.844 KiB)\n"
     ]
    },
    {
     "name": "stderr",
     "output_type": "stream",
     "text": [
      "\u001b[36m\u001b[1m┌ \u001b[22m\u001b[39m\u001b[36m\u001b[1mInfo: \u001b[22m\u001b[39mLoss:\n",
      "\u001b[36m\u001b[1m│ \u001b[22m\u001b[39m  train = 151.67498492786092\n",
      "\u001b[36m\u001b[1m└ \u001b[22m\u001b[39m  test = 38.089190080848155\n",
      "\u001b[36m\u001b[1m┌ \u001b[22m\u001b[39m\u001b[36m\u001b[1mInfo: \u001b[22m\u001b[39mSaving coefficients! Test loss is equal to :\n",
      "\u001b[36m\u001b[1m└ \u001b[22m\u001b[39m  test = 38.089190080848155\n"
     ]
    },
    {
     "name": "stdout",
     "output_type": "stream",
     "text": [
      " 53.466296 seconds (770 allocations: 29.953 KiB)\n"
     ]
    },
    {
     "name": "stderr",
     "output_type": "stream",
     "text": [
      "\u001b[36m\u001b[1m┌ \u001b[22m\u001b[39m\u001b[36m\u001b[1mInfo: \u001b[22m\u001b[39mLoss:\n",
      "\u001b[36m\u001b[1m│ \u001b[22m\u001b[39m  train = 141.37160997637483\n",
      "\u001b[36m\u001b[1m└ \u001b[22m\u001b[39m  test = 35.57075533864496\n",
      "\u001b[36m\u001b[1m┌ \u001b[22m\u001b[39m\u001b[36m\u001b[1mInfo: \u001b[22m\u001b[39mSaving coefficients! Test loss is equal to :\n",
      "\u001b[36m\u001b[1m└ \u001b[22m\u001b[39m  test = 35.57075533864496\n"
     ]
    },
    {
     "name": "stdout",
     "output_type": "stream",
     "text": [
      " 52.789258 seconds (1.22 k allocations: 41.203 KiB)\n"
     ]
    },
    {
     "name": "stderr",
     "output_type": "stream",
     "text": [
      "\u001b[36m\u001b[1m┌ \u001b[22m\u001b[39m\u001b[36m\u001b[1mInfo: \u001b[22m\u001b[39mLoss:\n",
      "\u001b[36m\u001b[1m│ \u001b[22m\u001b[39m  train = 132.4516211612941\n",
      "\u001b[36m\u001b[1m└ \u001b[22m\u001b[39m  test = 33.39181617364261\n",
      "\u001b[36m\u001b[1m┌ \u001b[22m\u001b[39m\u001b[36m\u001b[1mInfo: \u001b[22m\u001b[39mSaving coefficients! Test loss is equal to :\n",
      "\u001b[36m\u001b[1m└ \u001b[22m\u001b[39m  test = 33.39181617364261\n"
     ]
    },
    {
     "name": "stdout",
     "output_type": "stream",
     "text": [
      " 54.292208 seconds (1.19 k allocations: 40.312 KiB)\n"
     ]
    },
    {
     "name": "stderr",
     "output_type": "stream",
     "text": [
      "\u001b[36m\u001b[1m┌ \u001b[22m\u001b[39m\u001b[36m\u001b[1mInfo: \u001b[22m\u001b[39mLoss:\n",
      "\u001b[36m\u001b[1m│ \u001b[22m\u001b[39m  train = 124.58984992058684\n",
      "\u001b[36m\u001b[1m└ \u001b[22m\u001b[39m  test = 31.473871679448834\n",
      "\u001b[36m\u001b[1m┌ \u001b[22m\u001b[39m\u001b[36m\u001b[1mInfo: \u001b[22m\u001b[39mSaving coefficients! Test loss is equal to :\n",
      "\u001b[36m\u001b[1m└ \u001b[22m\u001b[39m  test = 31.473871679448834\n"
     ]
    },
    {
     "name": "stdout",
     "output_type": "stream",
     "text": [
      " 53.431661 seconds (1.25 k allocations: 42.188 KiB)\n"
     ]
    },
    {
     "name": "stderr",
     "output_type": "stream",
     "text": [
      "\u001b[36m\u001b[1m┌ \u001b[22m\u001b[39m\u001b[36m\u001b[1mInfo: \u001b[22m\u001b[39mLoss:\n",
      "\u001b[36m\u001b[1m│ \u001b[22m\u001b[39m  train = 117.91034854052577\n",
      "\u001b[36m\u001b[1m└ \u001b[22m\u001b[39m  test = 29.84292867312074\n",
      "\u001b[36m\u001b[1m┌ \u001b[22m\u001b[39m\u001b[36m\u001b[1mInfo: \u001b[22m\u001b[39mSaving coefficients! Test loss is equal to :\n",
      "\u001b[36m\u001b[1m└ \u001b[22m\u001b[39m  test = 29.84292867312074\n"
     ]
    },
    {
     "name": "stdout",
     "output_type": "stream",
     "text": [
      " 54.212570 seconds (1.37 k allocations: 46.094 KiB)\n"
     ]
    },
    {
     "name": "stderr",
     "output_type": "stream",
     "text": [
      "\u001b[36m\u001b[1m┌ \u001b[22m\u001b[39m\u001b[36m\u001b[1mInfo: \u001b[22m\u001b[39mLoss:\n",
      "\u001b[36m\u001b[1m│ \u001b[22m\u001b[39m  train = 111.92285154175505\n",
      "\u001b[36m\u001b[1m└ \u001b[22m\u001b[39m  test = 28.38180467783735\n",
      "\u001b[36m\u001b[1m┌ \u001b[22m\u001b[39m\u001b[36m\u001b[1mInfo: \u001b[22m\u001b[39mSaving coefficients! Test loss is equal to :\n",
      "\u001b[36m\u001b[1m└ \u001b[22m\u001b[39m  test = 28.38180467783735\n"
     ]
    },
    {
     "name": "stdout",
     "output_type": "stream",
     "text": [
      " 52.347759 seconds (1.18 k allocations: 40.359 KiB)\n"
     ]
    },
    {
     "name": "stderr",
     "output_type": "stream",
     "text": [
      "\u001b[36m\u001b[1m┌ \u001b[22m\u001b[39m\u001b[36m\u001b[1mInfo: \u001b[22m\u001b[39mLoss:\n",
      "\u001b[36m\u001b[1m│ \u001b[22m\u001b[39m  train = 106.59862476105116\n",
      "\u001b[36m\u001b[1m└ \u001b[22m\u001b[39m  test = 27.0861112637378\n",
      "\u001b[36m\u001b[1m┌ \u001b[22m\u001b[39m\u001b[36m\u001b[1mInfo: \u001b[22m\u001b[39mSaving coefficients! Test loss is equal to :\n",
      "\u001b[36m\u001b[1m└ \u001b[22m\u001b[39m  test = 27.0861112637378\n"
     ]
    },
    {
     "name": "stdout",
     "output_type": "stream",
     "text": [
      " 51.900376 seconds (332 allocations: 17.625 KiB)\n"
     ]
    },
    {
     "name": "stderr",
     "output_type": "stream",
     "text": [
      "\u001b[36m\u001b[1m┌ \u001b[22m\u001b[39m\u001b[36m\u001b[1mInfo: \u001b[22m\u001b[39mLoss:\n",
      "\u001b[36m\u001b[1m│ \u001b[22m\u001b[39m  train = 101.8391387585648\n",
      "\u001b[36m\u001b[1m└ \u001b[22m\u001b[39m  test = 25.924633117945433\n",
      "\u001b[36m\u001b[1m┌ \u001b[22m\u001b[39m\u001b[36m\u001b[1mInfo: \u001b[22m\u001b[39mSaving coefficients! Test loss is equal to :\n",
      "\u001b[36m\u001b[1m└ \u001b[22m\u001b[39m  test = 25.924633117945433\n"
     ]
    },
    {
     "name": "stdout",
     "output_type": "stream",
     "text": [
      " 54.178459 seconds (1.30 k allocations: 43.922 KiB)\n"
     ]
    },
    {
     "name": "stderr",
     "output_type": "stream",
     "text": [
      "\u001b[36m\u001b[1m┌ \u001b[22m\u001b[39m\u001b[36m\u001b[1mInfo: \u001b[22m\u001b[39mLoss:\n",
      "\u001b[36m\u001b[1m│ \u001b[22m\u001b[39m  train = 97.49768114594269\n",
      "\u001b[36m\u001b[1m└ \u001b[22m\u001b[39m  test = 24.862994386931838\n",
      "\u001b[36m\u001b[1m┌ \u001b[22m\u001b[39m\u001b[36m\u001b[1mInfo: \u001b[22m\u001b[39mSaving coefficients! Test loss is equal to :\n",
      "\u001b[36m\u001b[1m└ \u001b[22m\u001b[39m  test = 24.862994386931838\n"
     ]
    },
    {
     "name": "stdout",
     "output_type": "stream",
     "text": [
      " 50.704901 seconds (834 allocations: 30.859 KiB)\n"
     ]
    },
    {
     "name": "stderr",
     "output_type": "stream",
     "text": [
      "\u001b[36m\u001b[1m┌ \u001b[22m\u001b[39m\u001b[36m\u001b[1mInfo: \u001b[22m\u001b[39mLoss:\n",
      "\u001b[36m\u001b[1m│ \u001b[22m\u001b[39m  train = 93.56330840953538\n",
      "\u001b[36m\u001b[1m└ \u001b[22m\u001b[39m  test = 23.901749375033663\n",
      "\u001b[36m\u001b[1m┌ \u001b[22m\u001b[39m\u001b[36m\u001b[1mInfo: \u001b[22m\u001b[39mSaving coefficients! Test loss is equal to :\n",
      "\u001b[36m\u001b[1m└ \u001b[22m\u001b[39m  test = 23.901749375033663\n"
     ]
    },
    {
     "name": "stdout",
     "output_type": "stream",
     "text": [
      " 53.856810 seconds (1.17 k allocations: 39.625 KiB)\n"
     ]
    },
    {
     "name": "stderr",
     "output_type": "stream",
     "text": [
      "\u001b[36m\u001b[1m┌ \u001b[22m\u001b[39m\u001b[36m\u001b[1mInfo: \u001b[22m\u001b[39mLoss:\n",
      "\u001b[36m\u001b[1m│ \u001b[22m\u001b[39m  train = 89.99766058205043\n",
      "\u001b[36m\u001b[1m└ \u001b[22m\u001b[39m  test = 23.02466602343323\n",
      "\u001b[36m\u001b[1m┌ \u001b[22m\u001b[39m\u001b[36m\u001b[1mInfo: \u001b[22m\u001b[39mSaving coefficients! Test loss is equal to :\n",
      "\u001b[36m\u001b[1m└ \u001b[22m\u001b[39m  test = 23.02466602343323\n"
     ]
    },
    {
     "name": "stdout",
     "output_type": "stream",
     "text": [
      " 53.502235 seconds (1.17 k allocations: 39.844 KiB)\n"
     ]
    },
    {
     "name": "stderr",
     "output_type": "stream",
     "text": [
      "\u001b[36m\u001b[1m┌ \u001b[22m\u001b[39m\u001b[36m\u001b[1mInfo: \u001b[22m\u001b[39mLoss:\n",
      "\u001b[36m\u001b[1m│ \u001b[22m\u001b[39m  train = 86.77329450794437\n",
      "\u001b[36m\u001b[1m└ \u001b[22m\u001b[39m  test = 22.22974621461632\n",
      "\u001b[36m\u001b[1m┌ \u001b[22m\u001b[39m\u001b[36m\u001b[1mInfo: \u001b[22m\u001b[39mSaving coefficients! Test loss is equal to :\n",
      "\u001b[36m\u001b[1m└ \u001b[22m\u001b[39m  test = 22.22974621461632\n"
     ]
    },
    {
     "name": "stdout",
     "output_type": "stream",
     "text": [
      " 55.068267 seconds (1.21 k allocations: 40.969 KiB)\n"
     ]
    },
    {
     "name": "stderr",
     "output_type": "stream",
     "text": [
      "\u001b[36m\u001b[1m┌ \u001b[22m\u001b[39m\u001b[36m\u001b[1mInfo: \u001b[22m\u001b[39mLoss:\n",
      "\u001b[36m\u001b[1m│ \u001b[22m\u001b[39m  train = 83.78793627523734\n",
      "\u001b[36m\u001b[1m└ \u001b[22m\u001b[39m  test = 21.492387106702296\n",
      "\u001b[36m\u001b[1m┌ \u001b[22m\u001b[39m\u001b[36m\u001b[1mInfo: \u001b[22m\u001b[39mSaving coefficients! Test loss is equal to :\n",
      "\u001b[36m\u001b[1m└ \u001b[22m\u001b[39m  test = 21.492387106702296\n"
     ]
    },
    {
     "name": "stdout",
     "output_type": "stream",
     "text": [
      " 55.756591 seconds (1.26 k allocations: 42.469 KiB)\n"
     ]
    },
    {
     "name": "stderr",
     "output_type": "stream",
     "text": [
      "\u001b[36m\u001b[1m┌ \u001b[22m\u001b[39m\u001b[36m\u001b[1mInfo: \u001b[22m\u001b[39mLoss:\n",
      "\u001b[36m\u001b[1m│ \u001b[22m\u001b[39m  train = 81.03030311023039\n",
      "\u001b[36m\u001b[1m└ \u001b[22m\u001b[39m  test = 20.809463389995265\n",
      "\u001b[36m\u001b[1m┌ \u001b[22m\u001b[39m\u001b[36m\u001b[1mInfo: \u001b[22m\u001b[39mSaving coefficients! Test loss is equal to :\n",
      "\u001b[36m\u001b[1m└ \u001b[22m\u001b[39m  test = 20.809463389995265\n"
     ]
    },
    {
     "name": "stdout",
     "output_type": "stream",
     "text": [
      " 56.167095 seconds (1.32 k allocations: 44.328 KiB)\n"
     ]
    },
    {
     "name": "stderr",
     "output_type": "stream",
     "text": [
      "\u001b[36m\u001b[1m┌ \u001b[22m\u001b[39m\u001b[36m\u001b[1mInfo: \u001b[22m\u001b[39mLoss:\n",
      "\u001b[36m\u001b[1m│ \u001b[22m\u001b[39m  train = 78.42021269292606\n",
      "\u001b[36m\u001b[1m└ \u001b[22m\u001b[39m  test = 20.16185394797875\n",
      "\u001b[36m\u001b[1m┌ \u001b[22m\u001b[39m\u001b[36m\u001b[1mInfo: \u001b[22m\u001b[39mSaving coefficients! Test loss is equal to :\n",
      "\u001b[36m\u001b[1m└ \u001b[22m\u001b[39m  test = 20.16185394797875\n"
     ]
    },
    {
     "name": "stdout",
     "output_type": "stream",
     "text": [
      " 54.119165 seconds (1.67 k allocations: 55.375 KiB)\n"
     ]
    },
    {
     "name": "stderr",
     "output_type": "stream",
     "text": [
      "\u001b[36m\u001b[1m┌ \u001b[22m\u001b[39m\u001b[36m\u001b[1mInfo: \u001b[22m\u001b[39mLoss:\n",
      "\u001b[36m\u001b[1m│ \u001b[22m\u001b[39m  train = 75.49931240710177\n",
      "\u001b[36m\u001b[1m└ \u001b[22m\u001b[39m  test = 19.439590383830218\n",
      "\u001b[36m\u001b[1m┌ \u001b[22m\u001b[39m\u001b[36m\u001b[1mInfo: \u001b[22m\u001b[39mSaving coefficients! Test loss is equal to :\n",
      "\u001b[36m\u001b[1m└ \u001b[22m\u001b[39m  test = 19.439590383830218\n"
     ]
    },
    {
     "name": "stdout",
     "output_type": "stream",
     "text": [
      " 54.756662 seconds (1.88 k allocations: 62.062 KiB)\n"
     ]
    },
    {
     "name": "stderr",
     "output_type": "stream",
     "text": [
      "\u001b[36m\u001b[1m┌ \u001b[22m\u001b[39m\u001b[36m\u001b[1mInfo: \u001b[22m\u001b[39mLoss:\n",
      "\u001b[36m\u001b[1m│ \u001b[22m\u001b[39m  train = 73.32887120335265\n",
      "\u001b[36m\u001b[1m└ \u001b[22m\u001b[39m  test = 18.894050108279817\n",
      "\u001b[36m\u001b[1m┌ \u001b[22m\u001b[39m\u001b[36m\u001b[1mInfo: \u001b[22m\u001b[39mSaving coefficients! Test loss is equal to :\n",
      "\u001b[36m\u001b[1m└ \u001b[22m\u001b[39m  test = 18.894050108279817\n"
     ]
    },
    {
     "name": "stdout",
     "output_type": "stream",
     "text": [
      " 53.328155 seconds (1.54 k allocations: 51.578 KiB)\n"
     ]
    },
    {
     "name": "stderr",
     "output_type": "stream",
     "text": [
      "\u001b[36m\u001b[1m┌ \u001b[22m\u001b[39m\u001b[36m\u001b[1mInfo: \u001b[22m\u001b[39mLoss:\n",
      "\u001b[36m\u001b[1m│ \u001b[22m\u001b[39m  train = 71.3203805306903\n",
      "\u001b[36m\u001b[1m└ \u001b[22m\u001b[39m  test = 18.389555675690723\n",
      "\u001b[36m\u001b[1m┌ \u001b[22m\u001b[39m\u001b[36m\u001b[1mInfo: \u001b[22m\u001b[39mSaving coefficients! Test loss is equal to :\n",
      "\u001b[36m\u001b[1m└ \u001b[22m\u001b[39m  test = 18.389555675690723\n"
     ]
    },
    {
     "name": "stdout",
     "output_type": "stream",
     "text": [
      " 54.209927 seconds (1.64 k allocations: 55.406 KiB)\n"
     ]
    },
    {
     "name": "stderr",
     "output_type": "stream",
     "text": [
      "\u001b[36m\u001b[1m┌ \u001b[22m\u001b[39m\u001b[36m\u001b[1mInfo: \u001b[22m\u001b[39mLoss:\n",
      "\u001b[36m\u001b[1m│ \u001b[22m\u001b[39m  train = 69.46596664953843\n",
      "\u001b[36m\u001b[1m└ \u001b[22m\u001b[39m  test = 17.921948779750572\n",
      "\u001b[36m\u001b[1m┌ \u001b[22m\u001b[39m\u001b[36m\u001b[1mInfo: \u001b[22m\u001b[39mSaving coefficients! Test loss is equal to :\n",
      "\u001b[36m\u001b[1m└ \u001b[22m\u001b[39m  test = 17.921948779750572\n"
     ]
    },
    {
     "name": "stdout",
     "output_type": "stream",
     "text": [
      " 55.705669 seconds (2.06 k allocations: 67.922 KiB)\n"
     ]
    },
    {
     "name": "stderr",
     "output_type": "stream",
     "text": [
      "\u001b[36m\u001b[1m┌ \u001b[22m\u001b[39m\u001b[36m\u001b[1mInfo: \u001b[22m\u001b[39mLoss:\n",
      "\u001b[36m\u001b[1m│ \u001b[22m\u001b[39m  train = 67.32605203750859\n",
      "\u001b[36m\u001b[1m└ \u001b[22m\u001b[39m  test = 17.387257348019144\n",
      "\u001b[36m\u001b[1m┌ \u001b[22m\u001b[39m\u001b[36m\u001b[1mInfo: \u001b[22m\u001b[39mSaving coefficients! Test loss is equal to :\n",
      "\u001b[36m\u001b[1m└ \u001b[22m\u001b[39m  test = 17.387257348019144\n"
     ]
    },
    {
     "name": "stdout",
     "output_type": "stream",
     "text": [
      " 51.841607 seconds (1.23 k allocations: 42.047 KiB)\n"
     ]
    },
    {
     "name": "stderr",
     "output_type": "stream",
     "text": [
      "\u001b[36m\u001b[1m┌ \u001b[22m\u001b[39m\u001b[36m\u001b[1mInfo: \u001b[22m\u001b[39mLoss:\n",
      "\u001b[36m\u001b[1m│ \u001b[22m\u001b[39m  train = 65.65872249867752\n",
      "\u001b[36m\u001b[1m└ \u001b[22m\u001b[39m  test = 16.965719847270258\n",
      "\u001b[36m\u001b[1m┌ \u001b[22m\u001b[39m\u001b[36m\u001b[1mInfo: \u001b[22m\u001b[39mSaving coefficients! Test loss is equal to :\n",
      "\u001b[36m\u001b[1m└ \u001b[22m\u001b[39m  test = 16.965719847270258\n"
     ]
    },
    {
     "name": "stdout",
     "output_type": "stream",
     "text": [
      " 52.587026 seconds (1.50 k allocations: 50.281 KiB)\n"
     ]
    },
    {
     "name": "stderr",
     "output_type": "stream",
     "text": [
      "\u001b[36m\u001b[1m┌ \u001b[22m\u001b[39m\u001b[36m\u001b[1mInfo: \u001b[22m\u001b[39mLoss:\n",
      "\u001b[36m\u001b[1m│ \u001b[22m\u001b[39m  train = 64.04674364431594\n",
      "\u001b[36m\u001b[1m└ \u001b[22m\u001b[39m  test = 16.558268843694876\n",
      "\u001b[36m\u001b[1m┌ \u001b[22m\u001b[39m\u001b[36m\u001b[1mInfo: \u001b[22m\u001b[39mSaving coefficients! Test loss is equal to :\n",
      "\u001b[36m\u001b[1m└ \u001b[22m\u001b[39m  test = 16.558268843694876\n"
     ]
    },
    {
     "name": "stdout",
     "output_type": "stream",
     "text": [
      " 51.971051 seconds (1.41 k allocations: 47.500 KiB)\n"
     ]
    },
    {
     "name": "stderr",
     "output_type": "stream",
     "text": [
      "\u001b[36m\u001b[1m┌ \u001b[22m\u001b[39m\u001b[36m\u001b[1mInfo: \u001b[22m\u001b[39mLoss:\n",
      "\u001b[36m\u001b[1m│ \u001b[22m\u001b[39m  train = 62.375842069254354\n",
      "\u001b[36m\u001b[1m└ \u001b[22m\u001b[39m  test = 16.140208152684288\n",
      "\u001b[36m\u001b[1m┌ \u001b[22m\u001b[39m\u001b[36m\u001b[1mInfo: \u001b[22m\u001b[39mSaving coefficients! Test loss is equal to :\n",
      "\u001b[36m\u001b[1m└ \u001b[22m\u001b[39m  test = 16.140208152684288\n"
     ]
    },
    {
     "name": "stdout",
     "output_type": "stream",
     "text": [
      " 55.930091 seconds (2.09 k allocations: 68.766 KiB)\n"
     ]
    },
    {
     "name": "stderr",
     "output_type": "stream",
     "text": [
      "\u001b[36m\u001b[1m┌ \u001b[22m\u001b[39m\u001b[36m\u001b[1mInfo: \u001b[22m\u001b[39mLoss:\n",
      "\u001b[36m\u001b[1m│ \u001b[22m\u001b[39m  train = 60.70880798469766\n",
      "\u001b[36m\u001b[1m└ \u001b[22m\u001b[39m  test = 15.71816166695907\n",
      "\u001b[36m\u001b[1m┌ \u001b[22m\u001b[39m\u001b[36m\u001b[1mInfo: \u001b[22m\u001b[39mSaving coefficients! Test loss is equal to :\n",
      "\u001b[36m\u001b[1m└ \u001b[22m\u001b[39m  test = 15.71816166695907\n"
     ]
    },
    {
     "name": "stdout",
     "output_type": "stream",
     "text": [
      " 51.835989 seconds (1.28 k allocations: 43.422 KiB)\n"
     ]
    },
    {
     "name": "stderr",
     "output_type": "stream",
     "text": [
      "\u001b[36m\u001b[1m┌ \u001b[22m\u001b[39m\u001b[36m\u001b[1mInfo: \u001b[22m\u001b[39mLoss:\n",
      "\u001b[36m\u001b[1m│ \u001b[22m\u001b[39m  train = 59.44398133286748\n",
      "\u001b[36m\u001b[1m└ \u001b[22m\u001b[39m  test = 15.396458762297712\n",
      "\u001b[36m\u001b[1m┌ \u001b[22m\u001b[39m\u001b[36m\u001b[1mInfo: \u001b[22m\u001b[39mSaving coefficients! Test loss is equal to :\n",
      "\u001b[36m\u001b[1m└ \u001b[22m\u001b[39m  test = 15.396458762297712\n"
     ]
    },
    {
     "name": "stdout",
     "output_type": "stream",
     "text": [
      " 53.197611 seconds (894 allocations: 35.531 KiB)\n"
     ]
    },
    {
     "name": "stderr",
     "output_type": "stream",
     "text": [
      "\u001b[36m\u001b[1m┌ \u001b[22m\u001b[39m\u001b[36m\u001b[1mInfo: \u001b[22m\u001b[39mLoss:\n",
      "\u001b[36m\u001b[1m│ \u001b[22m\u001b[39m  train = 58.23428947779643\n",
      "\u001b[36m\u001b[1m└ \u001b[22m\u001b[39m  test = 15.091909332833573\n",
      "\u001b[36m\u001b[1m┌ \u001b[22m\u001b[39m\u001b[36m\u001b[1mInfo: \u001b[22m\u001b[39mSaving coefficients! Test loss is equal to :\n",
      "\u001b[36m\u001b[1m└ \u001b[22m\u001b[39m  test = 15.091909332833573\n"
     ]
    },
    {
     "name": "stdout",
     "output_type": "stream",
     "text": [
      " 54.072156 seconds (1.70 k allocations: 56.516 KiB)\n"
     ]
    },
    {
     "name": "stderr",
     "output_type": "stream",
     "text": [
      "\u001b[36m\u001b[1m┌ \u001b[22m\u001b[39m\u001b[36m\u001b[1mInfo: \u001b[22m\u001b[39mLoss:\n",
      "\u001b[36m\u001b[1m│ \u001b[22m\u001b[39m  train = 57.08382465897673\n",
      "\u001b[36m\u001b[1m└ \u001b[22m\u001b[39m  test = 14.801117912273362\n",
      "\u001b[36m\u001b[1m┌ \u001b[22m\u001b[39m\u001b[36m\u001b[1mInfo: \u001b[22m\u001b[39mSaving coefficients! Test loss is equal to :\n",
      "\u001b[36m\u001b[1m└ \u001b[22m\u001b[39m  test = 14.801117912273362\n"
     ]
    },
    {
     "name": "stdout",
     "output_type": "stream",
     "text": [
      " 52.938419 seconds (1.47 k allocations: 49.266 KiB)\n"
     ]
    },
    {
     "name": "stderr",
     "output_type": "stream",
     "text": [
      "\u001b[36m\u001b[1m┌ \u001b[22m\u001b[39m\u001b[36m\u001b[1mInfo: \u001b[22m\u001b[39mLoss:\n",
      "\u001b[36m\u001b[1m│ \u001b[22m\u001b[39m  train = 55.979696779774805\n",
      "\u001b[36m\u001b[1m└ \u001b[22m\u001b[39m  test = 14.520758204282654\n",
      "\u001b[36m\u001b[1m┌ \u001b[22m\u001b[39m\u001b[36m\u001b[1mInfo: \u001b[22m\u001b[39mSaving coefficients! Test loss is equal to :\n",
      "\u001b[36m\u001b[1m└ \u001b[22m\u001b[39m  test = 14.520758204282654\n"
     ]
    },
    {
     "name": "stdout",
     "output_type": "stream",
     "text": [
      " 53.506373 seconds (1.61 k allocations: 53.703 KiB)\n"
     ]
    },
    {
     "name": "stderr",
     "output_type": "stream",
     "text": [
      "\u001b[36m\u001b[1m┌ \u001b[22m\u001b[39m\u001b[36m\u001b[1mInfo: \u001b[22m\u001b[39mLoss:\n",
      "\u001b[36m\u001b[1m│ \u001b[22m\u001b[39m  train = 54.933334806274274\n",
      "\u001b[36m\u001b[1m└ \u001b[22m\u001b[39m  test = 14.254776136013115\n",
      "\u001b[36m\u001b[1m┌ \u001b[22m\u001b[39m\u001b[36m\u001b[1mInfo: \u001b[22m\u001b[39mSaving coefficients! Test loss is equal to :\n",
      "\u001b[36m\u001b[1m└ \u001b[22m\u001b[39m  test = 14.254776136013115\n"
     ]
    },
    {
     "name": "stdout",
     "output_type": "stream",
     "text": [
      " 51.505493 seconds (1.20 k allocations: 40.859 KiB)\n"
     ]
    },
    {
     "name": "stderr",
     "output_type": "stream",
     "text": [
      "\u001b[36m\u001b[1m┌ \u001b[22m\u001b[39m\u001b[36m\u001b[1mInfo: \u001b[22m\u001b[39mLoss:\n",
      "\u001b[36m\u001b[1m│ \u001b[22m\u001b[39m  train = 53.931207436304945\n",
      "\u001b[36m\u001b[1m└ \u001b[22m\u001b[39m  test = 14.000176609836547\n",
      "\u001b[36m\u001b[1m┌ \u001b[22m\u001b[39m\u001b[36m\u001b[1mInfo: \u001b[22m\u001b[39mSaving coefficients! Test loss is equal to :\n",
      "\u001b[36m\u001b[1m└ \u001b[22m\u001b[39m  test = 14.000176609836547\n"
     ]
    },
    {
     "name": "stdout",
     "output_type": "stream",
     "text": [
      " 50.427659 seconds (1.09 k allocations: 38.047 KiB)\n"
     ]
    },
    {
     "name": "stderr",
     "output_type": "stream",
     "text": [
      "\u001b[36m\u001b[1m┌ \u001b[22m\u001b[39m\u001b[36m\u001b[1mInfo: \u001b[22m\u001b[39mLoss:\n",
      "\u001b[36m\u001b[1m│ \u001b[22m\u001b[39m  train = 52.96600252268931\n",
      "\u001b[36m\u001b[1m└ \u001b[22m\u001b[39m  test = 13.755582454311746\n",
      "\u001b[36m\u001b[1m┌ \u001b[22m\u001b[39m\u001b[36m\u001b[1mInfo: \u001b[22m\u001b[39mSaving coefficients! Test loss is equal to :\n",
      "\u001b[36m\u001b[1m└ \u001b[22m\u001b[39m  test = 13.755582454311746\n"
     ]
    },
    {
     "name": "stdout",
     "output_type": "stream",
     "text": [
      " 54.909934 seconds (1.88 k allocations: 62.094 KiB)\n"
     ]
    },
    {
     "name": "stderr",
     "output_type": "stream",
     "text": [
      "\u001b[36m\u001b[1m┌ \u001b[22m\u001b[39m\u001b[36m\u001b[1mInfo: \u001b[22m\u001b[39mLoss:\n",
      "\u001b[36m\u001b[1m│ \u001b[22m\u001b[39m  train = 52.00635502054368\n",
      "\u001b[36m\u001b[1m└ \u001b[22m\u001b[39m  test = 13.513024620953466\n",
      "\u001b[36m\u001b[1m┌ \u001b[22m\u001b[39m\u001b[36m\u001b[1mInfo: \u001b[22m\u001b[39mSaving coefficients! Test loss is equal to :\n",
      "\u001b[36m\u001b[1m└ \u001b[22m\u001b[39m  test = 13.513024620953466\n"
     ]
    },
    {
     "name": "stdout",
     "output_type": "stream",
     "text": [
      " 51.448149 seconds (1.17 k allocations: 40.047 KiB)\n"
     ]
    },
    {
     "name": "stderr",
     "output_type": "stream",
     "text": [
      "\u001b[36m\u001b[1m┌ \u001b[22m\u001b[39m\u001b[36m\u001b[1mInfo: \u001b[22m\u001b[39mLoss:\n",
      "\u001b[36m\u001b[1m│ \u001b[22m\u001b[39m  train = 50.925476566974915\n",
      "\u001b[36m\u001b[1m└ \u001b[22m\u001b[39m  test = 13.239275133298424\n",
      "\u001b[36m\u001b[1m┌ \u001b[22m\u001b[39m\u001b[36m\u001b[1mInfo: \u001b[22m\u001b[39mSaving coefficients! Test loss is equal to :\n",
      "\u001b[36m\u001b[1m└ \u001b[22m\u001b[39m  test = 13.239275133298424\n"
     ]
    },
    {
     "name": "stdout",
     "output_type": "stream",
     "text": [
      " 53.538892 seconds (1.59 k allocations: 53.234 KiB)\n"
     ]
    },
    {
     "name": "stderr",
     "output_type": "stream",
     "text": [
      "\u001b[36m\u001b[1m┌ \u001b[22m\u001b[39m\u001b[36m\u001b[1mInfo: \u001b[22m\u001b[39mLoss:\n",
      "\u001b[36m\u001b[1m│ \u001b[22m\u001b[39m  train = 50.0317503135685\n",
      "\u001b[36m\u001b[1m└ \u001b[22m\u001b[39m  test = 13.010633360126942\n",
      "\u001b[36m\u001b[1m┌ \u001b[22m\u001b[39m\u001b[36m\u001b[1mInfo: \u001b[22m\u001b[39mSaving coefficients! Test loss is equal to :\n",
      "\u001b[36m\u001b[1m└ \u001b[22m\u001b[39m  test = 13.010633360126942\n"
     ]
    },
    {
     "name": "stdout",
     "output_type": "stream",
     "text": [
      " 56.237595 seconds (2.17 k allocations: 71.234 KiB)\n"
     ]
    },
    {
     "name": "stderr",
     "output_type": "stream",
     "text": [
      "\u001b[36m\u001b[1m┌ \u001b[22m\u001b[39m\u001b[36m\u001b[1mInfo: \u001b[22m\u001b[39mLoss:\n",
      "\u001b[36m\u001b[1m│ \u001b[22m\u001b[39m  train = 49.163510716823325\n",
      "\u001b[36m\u001b[1m└ \u001b[22m\u001b[39m  test = 12.790227648326251\n",
      "\u001b[36m\u001b[1m┌ \u001b[22m\u001b[39m\u001b[36m\u001b[1mInfo: \u001b[22m\u001b[39mSaving coefficients! Test loss is equal to :\n",
      "\u001b[36m\u001b[1m└ \u001b[22m\u001b[39m  test = 12.790227648326251\n"
     ]
    },
    {
     "name": "stdout",
     "output_type": "stream",
     "text": [
      " 53.539760 seconds (1.59 k allocations: 53.016 KiB)\n"
     ]
    },
    {
     "name": "stderr",
     "output_type": "stream",
     "text": [
      "\u001b[36m\u001b[1m┌ \u001b[22m\u001b[39m\u001b[36m\u001b[1mInfo: \u001b[22m\u001b[39mLoss:\n",
      "\u001b[36m\u001b[1m│ \u001b[22m\u001b[39m  train = 48.33051335490604\n",
      "\u001b[36m\u001b[1m└ \u001b[22m\u001b[39m  test = 12.577743917144002\n",
      "\u001b[36m\u001b[1m┌ \u001b[22m\u001b[39m\u001b[36m\u001b[1mInfo: \u001b[22m\u001b[39mSaving coefficients! Test loss is equal to :\n",
      "\u001b[36m\u001b[1m└ \u001b[22m\u001b[39m  test = 12.577743917144002\n"
     ]
    },
    {
     "name": "stdout",
     "output_type": "stream",
     "text": [
      " 51.710633 seconds (1.19 k allocations: 40.734 KiB)\n"
     ]
    },
    {
     "name": "stderr",
     "output_type": "stream",
     "text": [
      "\u001b[36m\u001b[1m┌ \u001b[22m\u001b[39m\u001b[36m\u001b[1mInfo: \u001b[22m\u001b[39mLoss:\n",
      "\u001b[36m\u001b[1m│ \u001b[22m\u001b[39m  train = 47.50295791779517\n",
      "\u001b[36m\u001b[1m└ \u001b[22m\u001b[39m  test = 12.367089045751452\n",
      "\u001b[36m\u001b[1m┌ \u001b[22m\u001b[39m\u001b[36m\u001b[1mInfo: \u001b[22m\u001b[39mSaving coefficients! Test loss is equal to :\n",
      "\u001b[36m\u001b[1m└ \u001b[22m\u001b[39m  test = 12.367089045751452\n"
     ]
    },
    {
     "name": "stdout",
     "output_type": "stream",
     "text": [
      " 52.577668 seconds (1.35 k allocations: 45.406 KiB)\n"
     ]
    },
    {
     "name": "stderr",
     "output_type": "stream",
     "text": [
      "\u001b[36m\u001b[1m┌ \u001b[22m\u001b[39m\u001b[36m\u001b[1mInfo: \u001b[22m\u001b[39mLoss:\n",
      "\u001b[36m\u001b[1m│ \u001b[22m\u001b[39m  train = 46.693985456547345\n",
      "\u001b[36m\u001b[1m└ \u001b[22m\u001b[39m  test = 12.160025171121259\n",
      "\u001b[36m\u001b[1m┌ \u001b[22m\u001b[39m\u001b[36m\u001b[1mInfo: \u001b[22m\u001b[39mSaving coefficients! Test loss is equal to :\n",
      "\u001b[36m\u001b[1m└ \u001b[22m\u001b[39m  test = 12.160025171121259\n"
     ]
    }
   ],
   "source": [
    "p = npzread(\"weights_\"*Cℓkind*\"_lcdm.npy\")# if you don't have any weights, comment this line\n",
    "initial_test_loss = mlpdtest(Xtest, p)\n",
    "println(\"Initial Loss: \",initial_test_loss)\n",
    "\n",
    "for i in 1:50\n",
    "    @time SimpleChains.train_unbatched!(\n",
    "    G, p, mlpdloss, X, SimpleChains.ADAM(8e-5), 500   #η = 1e-4\n",
    "  );\n",
    "    report(p)\n",
    "    test = mlpdtest(Xtest, p)\n",
    "    if initial_test_loss > test\n",
    "        npzwrite(\"weights_\"*Cℓkind*\"_lcdm.npy\", p)\n",
    "        initial_test_loss = test\n",
    "        @info \"Saving coefficients! Test loss is equal to :\" test\n",
    "    end\n",
    "end"
   ]
  },
  {
   "cell_type": "code",
   "execution_count": 22,
   "metadata": {},
   "outputs": [
    {
     "name": "stdout",
     "output_type": "stream",
     "text": [
      "Initial Loss: 12.160025171121259\n",
      " 52.124201 seconds (1.42 k allocations: 46.602 KiB)\n"
     ]
    },
    {
     "name": "stderr",
     "output_type": "stream",
     "text": [
      "\u001b[36m\u001b[1m┌ \u001b[22m\u001b[39m\u001b[36m\u001b[1mInfo: \u001b[22m\u001b[39mLoss:\n",
      "\u001b[36m\u001b[1m│ \u001b[22m\u001b[39m  train = 45.85405784447428\n",
      "\u001b[36m\u001b[1m└ \u001b[22m\u001b[39m  test = 11.94568858387537\n",
      "\u001b[36m\u001b[1m┌ \u001b[22m\u001b[39m\u001b[36m\u001b[1mInfo: \u001b[22m\u001b[39mSaving coefficients! Test loss is equal to :\n",
      "\u001b[36m\u001b[1m└ \u001b[22m\u001b[39m  test = 11.94568858387537\n"
     ]
    },
    {
     "name": "stdout",
     "output_type": "stream",
     "text": [
      " 51.239520 seconds (1.20 k allocations: 40.766 KiB)\n"
     ]
    },
    {
     "name": "stderr",
     "output_type": "stream",
     "text": [
      "\u001b[36m\u001b[1m┌ \u001b[22m\u001b[39m\u001b[36m\u001b[1mInfo: \u001b[22m\u001b[39mLoss:\n",
      "\u001b[36m\u001b[1m│ \u001b[22m\u001b[39m  train = 45.2157265724257\n",
      "\u001b[36m\u001b[1m└ \u001b[22m\u001b[39m  test = 11.782781350471982\n",
      "\u001b[36m\u001b[1m┌ \u001b[22m\u001b[39m\u001b[36m\u001b[1mInfo: \u001b[22m\u001b[39mSaving coefficients! Test loss is equal to :\n",
      "\u001b[36m\u001b[1m└ \u001b[22m\u001b[39m  test = 11.782781350471982\n"
     ]
    },
    {
     "name": "stdout",
     "output_type": "stream",
     "text": [
      " 51.462415 seconds (847 allocations: 31.906 KiB)\n"
     ]
    },
    {
     "name": "stderr",
     "output_type": "stream",
     "text": [
      "\u001b[36m\u001b[1m┌ \u001b[22m\u001b[39m\u001b[36m\u001b[1mInfo: \u001b[22m\u001b[39mLoss:\n",
      "\u001b[36m\u001b[1m│ \u001b[22m\u001b[39m  train = 44.41673677785249\n",
      "\u001b[36m\u001b[1m└ \u001b[22m\u001b[39m  test = 11.5773170478498\n",
      "\u001b[36m\u001b[1m┌ \u001b[22m\u001b[39m\u001b[36m\u001b[1mInfo: \u001b[22m\u001b[39mSaving coefficients! Test loss is equal to :\n",
      "\u001b[36m\u001b[1m└ \u001b[22m\u001b[39m  test = 11.5773170478498\n"
     ]
    },
    {
     "name": "stdout",
     "output_type": "stream",
     "text": [
      " 56.964973 seconds (2.38 k allocations: 77.891 KiB)\n"
     ]
    },
    {
     "name": "stderr",
     "output_type": "stream",
     "text": [
      "\u001b[36m\u001b[1m┌ \u001b[22m\u001b[39m\u001b[36m\u001b[1mInfo: \u001b[22m\u001b[39mLoss:\n",
      "\u001b[36m\u001b[1m│ \u001b[22m\u001b[39m  train = 43.76953745399101\n",
      "\u001b[36m\u001b[1m└ \u001b[22m\u001b[39m  test = 11.411269982381336\n",
      "\u001b[36m\u001b[1m┌ \u001b[22m\u001b[39m\u001b[36m\u001b[1mInfo: \u001b[22m\u001b[39mSaving coefficients! Test loss is equal to :\n",
      "\u001b[36m\u001b[1m└ \u001b[22m\u001b[39m  test = 11.411269982381336\n"
     ]
    },
    {
     "name": "stdout",
     "output_type": "stream",
     "text": [
      " 52.382668 seconds (1.38 k allocations: 46.391 KiB)\n"
     ]
    },
    {
     "name": "stderr",
     "output_type": "stream",
     "text": [
      "\u001b[36m\u001b[1m┌ \u001b[22m\u001b[39m\u001b[36m\u001b[1mInfo: \u001b[22m\u001b[39mLoss:\n",
      "\u001b[36m\u001b[1m│ \u001b[22m\u001b[39m  train = 43.14339180454627\n",
      "\u001b[36m\u001b[1m└ \u001b[22m\u001b[39m  test = 11.251598384604776\n",
      "\u001b[36m\u001b[1m┌ \u001b[22m\u001b[39m\u001b[36m\u001b[1mInfo: \u001b[22m\u001b[39mSaving coefficients! Test loss is equal to :\n",
      "\u001b[36m\u001b[1m└ \u001b[22m\u001b[39m  test = 11.251598384604776\n"
     ]
    },
    {
     "name": "stdout",
     "output_type": "stream",
     "text": [
      " 51.785792 seconds (1.28 k allocations: 43.391 KiB)\n"
     ]
    },
    {
     "name": "stderr",
     "output_type": "stream",
     "text": [
      "\u001b[36m\u001b[1m┌ \u001b[22m\u001b[39m\u001b[36m\u001b[1mInfo: \u001b[22m\u001b[39mLoss:\n",
      "\u001b[36m\u001b[1m│ \u001b[22m\u001b[39m  train = 42.398456123454245\n",
      "\u001b[36m\u001b[1m└ \u001b[22m\u001b[39m  test = 11.059725051349792\n",
      "\u001b[36m\u001b[1m┌ \u001b[22m\u001b[39m\u001b[36m\u001b[1mInfo: \u001b[22m\u001b[39mSaving coefficients! Test loss is equal to :\n",
      "\u001b[36m\u001b[1m└ \u001b[22m\u001b[39m  test = 11.059725051349792\n"
     ]
    },
    {
     "name": "stdout",
     "output_type": "stream",
     "text": [
      " 52.733158 seconds (1.47 k allocations: 49.391 KiB)\n"
     ]
    },
    {
     "name": "stderr",
     "output_type": "stream",
     "text": [
      "\u001b[36m\u001b[1m┌ \u001b[22m\u001b[39m\u001b[36m\u001b[1mInfo: \u001b[22m\u001b[39mLoss:\n",
      "\u001b[36m\u001b[1m│ \u001b[22m\u001b[39m  train = 41.77283305524831\n",
      "\u001b[36m\u001b[1m└ \u001b[22m\u001b[39m  test = 10.898066396992585\n",
      "\u001b[36m\u001b[1m┌ \u001b[22m\u001b[39m\u001b[36m\u001b[1mInfo: \u001b[22m\u001b[39mSaving coefficients! Test loss is equal to :\n",
      "\u001b[36m\u001b[1m└ \u001b[22m\u001b[39m  test = 10.898066396992585\n"
     ]
    },
    {
     "name": "stdout",
     "output_type": "stream",
     "text": [
      " 53.630483 seconds (1.71 k allocations: 56.500 KiB)\n"
     ]
    },
    {
     "name": "stderr",
     "output_type": "stream",
     "text": [
      "\u001b[36m\u001b[1m┌ \u001b[22m\u001b[39m\u001b[36m\u001b[1mInfo: \u001b[22m\u001b[39mLoss:\n",
      "\u001b[36m\u001b[1m│ \u001b[22m\u001b[39m  train = 41.070851931414786\n",
      "\u001b[36m\u001b[1m└ \u001b[22m\u001b[39m  test = 10.71729479522854\n",
      "\u001b[36m\u001b[1m┌ \u001b[22m\u001b[39m\u001b[36m\u001b[1mInfo: \u001b[22m\u001b[39mSaving coefficients! Test loss is equal to :\n",
      "\u001b[36m\u001b[1m└ \u001b[22m\u001b[39m  test = 10.71729479522854\n"
     ]
    },
    {
     "name": "stdout",
     "output_type": "stream",
     "text": [
      " 54.535368 seconds (1.84 k allocations: 60.781 KiB)\n"
     ]
    },
    {
     "name": "stderr",
     "output_type": "stream",
     "text": [
      "\u001b[36m\u001b[1m┌ \u001b[22m\u001b[39m\u001b[36m\u001b[1mInfo: \u001b[22m\u001b[39mLoss:\n",
      "\u001b[36m\u001b[1m│ \u001b[22m\u001b[39m  train = 40.741270692756956\n",
      "\u001b[36m\u001b[1m└ \u001b[22m\u001b[39m  test = 10.632056173439455\n",
      "\u001b[36m\u001b[1m┌ \u001b[22m\u001b[39m\u001b[36m\u001b[1mInfo: \u001b[22m\u001b[39mSaving coefficients! Test loss is equal to :\n",
      "\u001b[36m\u001b[1m└ \u001b[22m\u001b[39m  test = 10.632056173439455\n"
     ]
    },
    {
     "name": "stdout",
     "output_type": "stream",
     "text": [
      " 51.719011 seconds (1.24 k allocations: 41.938 KiB)\n"
     ]
    },
    {
     "name": "stderr",
     "output_type": "stream",
     "text": [
      "\u001b[36m\u001b[1m┌ \u001b[22m\u001b[39m\u001b[36m\u001b[1mInfo: \u001b[22m\u001b[39mLoss:\n",
      "\u001b[36m\u001b[1m│ \u001b[22m\u001b[39m  train = 39.95550918824345\n",
      "\u001b[36m\u001b[1m└ \u001b[22m\u001b[39m  test = 10.428064069947453\n",
      "\u001b[36m\u001b[1m┌ \u001b[22m\u001b[39m\u001b[36m\u001b[1mInfo: \u001b[22m\u001b[39mSaving coefficients! Test loss is equal to :\n",
      "\u001b[36m\u001b[1m└ \u001b[22m\u001b[39m  test = 10.428064069947453\n"
     ]
    },
    {
     "name": "stdout",
     "output_type": "stream",
     "text": [
      " 52.799562 seconds (1.50 k allocations: 50.094 KiB)\n"
     ]
    },
    {
     "name": "stderr",
     "output_type": "stream",
     "text": [
      "\u001b[36m\u001b[1m┌ \u001b[22m\u001b[39m\u001b[36m\u001b[1mInfo: \u001b[22m\u001b[39mLoss:\n",
      "\u001b[36m\u001b[1m│ \u001b[22m\u001b[39m  train = 39.349943995230575\n",
      "\u001b[36m\u001b[1m└ \u001b[22m\u001b[39m  test = 10.270501764446951\n",
      "\u001b[36m\u001b[1m┌ \u001b[22m\u001b[39m\u001b[36m\u001b[1mInfo: \u001b[22m\u001b[39mSaving coefficients! Test loss is equal to :\n",
      "\u001b[36m\u001b[1m└ \u001b[22m\u001b[39m  test = 10.270501764446951\n"
     ]
    },
    {
     "name": "stdout",
     "output_type": "stream",
     "text": [
      " 52.271885 seconds (1.43 k allocations: 48.016 KiB)\n"
     ]
    },
    {
     "name": "stderr",
     "output_type": "stream",
     "text": [
      "\u001b[36m\u001b[1m┌ \u001b[22m\u001b[39m\u001b[36m\u001b[1mInfo: \u001b[22m\u001b[39mLoss:\n",
      "\u001b[36m\u001b[1m│ \u001b[22m\u001b[39m  train = 38.75228541079974\n",
      "\u001b[36m\u001b[1m└ \u001b[22m\u001b[39m  test = 10.115361088161226\n",
      "\u001b[36m\u001b[1m┌ \u001b[22m\u001b[39m\u001b[36m\u001b[1mInfo: \u001b[22m\u001b[39mSaving coefficients! Test loss is equal to :\n",
      "\u001b[36m\u001b[1m└ \u001b[22m\u001b[39m  test = 10.115361088161226\n"
     ]
    },
    {
     "name": "stdout",
     "output_type": "stream",
     "text": [
      " 52.122637 seconds (1.34 k allocations: 45.328 KiB)\n"
     ]
    },
    {
     "name": "stderr",
     "output_type": "stream",
     "text": [
      "\u001b[36m\u001b[1m┌ \u001b[22m\u001b[39m\u001b[36m\u001b[1mInfo: \u001b[22m\u001b[39mLoss:\n",
      "\u001b[36m\u001b[1m│ \u001b[22m\u001b[39m  train = 38.0990046668128\n",
      "\u001b[36m\u001b[1m└ \u001b[22m\u001b[39m  test = 9.945594367725956\n",
      "\u001b[36m\u001b[1m┌ \u001b[22m\u001b[39m\u001b[36m\u001b[1mInfo: \u001b[22m\u001b[39mSaving coefficients! Test loss is equal to :\n",
      "\u001b[36m\u001b[1m└ \u001b[22m\u001b[39m  test = 9.945594367725956\n"
     ]
    },
    {
     "name": "stdout",
     "output_type": "stream",
     "text": [
      " 53.116823 seconds (1.56 k allocations: 52.078 KiB)\n"
     ]
    },
    {
     "name": "stderr",
     "output_type": "stream",
     "text": [
      "\u001b[36m\u001b[1m┌ \u001b[22m\u001b[39m\u001b[36m\u001b[1mInfo: \u001b[22m\u001b[39mLoss:\n",
      "\u001b[36m\u001b[1m│ \u001b[22m\u001b[39m  train = 37.37232755316486\n",
      "\u001b[36m\u001b[1m└ \u001b[22m\u001b[39m  test = 9.754291863908387\n",
      "\u001b[36m\u001b[1m┌ \u001b[22m\u001b[39m\u001b[36m\u001b[1mInfo: \u001b[22m\u001b[39mSaving coefficients! Test loss is equal to :\n",
      "\u001b[36m\u001b[1m└ \u001b[22m\u001b[39m  test = 9.754291863908387\n"
     ]
    },
    {
     "name": "stdout",
     "output_type": "stream",
     "text": [
      " 51.995208 seconds (1.31 k allocations: 44.391 KiB)\n"
     ]
    },
    {
     "name": "stderr",
     "output_type": "stream",
     "text": [
      "\u001b[36m\u001b[1m┌ \u001b[22m\u001b[39m\u001b[36m\u001b[1mInfo: \u001b[22m\u001b[39mLoss:\n",
      "\u001b[36m\u001b[1m│ \u001b[22m\u001b[39m  train = 36.72962687386406\n",
      "\u001b[36m\u001b[1m└ \u001b[22m\u001b[39m  test = 9.585961242098637\n",
      "\u001b[36m\u001b[1m┌ \u001b[22m\u001b[39m\u001b[36m\u001b[1mInfo: \u001b[22m\u001b[39mSaving coefficients! Test loss is equal to :\n",
      "\u001b[36m\u001b[1m└ \u001b[22m\u001b[39m  test = 9.585961242098637\n"
     ]
    },
    {
     "name": "stdout",
     "output_type": "stream",
     "text": [
      " 52.964087 seconds (1.52 k allocations: 50.797 KiB)\n"
     ]
    },
    {
     "name": "stderr",
     "output_type": "stream",
     "text": [
      "\u001b[36m\u001b[1m┌ \u001b[22m\u001b[39m\u001b[36m\u001b[1mInfo: \u001b[22m\u001b[39mLoss:\n",
      "\u001b[36m\u001b[1m│ \u001b[22m\u001b[39m  train = 36.15219568111193\n",
      "\u001b[36m\u001b[1m└ \u001b[22m\u001b[39m  test = 9.434336762265898\n",
      "\u001b[36m\u001b[1m┌ \u001b[22m\u001b[39m\u001b[36m\u001b[1mInfo: \u001b[22m\u001b[39mSaving coefficients! Test loss is equal to :\n",
      "\u001b[36m\u001b[1m└ \u001b[22m\u001b[39m  test = 9.434336762265898\n"
     ]
    },
    {
     "name": "stdout",
     "output_type": "stream",
     "text": [
      " 55.413967 seconds (1.96 k allocations: 64.797 KiB)\n"
     ]
    },
    {
     "name": "stderr",
     "output_type": "stream",
     "text": [
      "\u001b[36m\u001b[1m┌ \u001b[22m\u001b[39m\u001b[36m\u001b[1mInfo: \u001b[22m\u001b[39mLoss:\n",
      "\u001b[36m\u001b[1m│ \u001b[22m\u001b[39m  train = 35.578212980694786\n",
      "\u001b[36m\u001b[1m└ \u001b[22m\u001b[39m  test = 9.28325998117364\n",
      "\u001b[36m\u001b[1m┌ \u001b[22m\u001b[39m\u001b[36m\u001b[1mInfo: \u001b[22m\u001b[39mSaving coefficients! Test loss is equal to :\n",
      "\u001b[36m\u001b[1m└ \u001b[22m\u001b[39m  test = 9.28325998117364\n"
     ]
    },
    {
     "name": "stdout",
     "output_type": "stream",
     "text": [
      " 52.192391 seconds (1.33 k allocations: 45.109 KiB)\n"
     ]
    },
    {
     "name": "stderr",
     "output_type": "stream",
     "text": [
      "\u001b[36m\u001b[1m┌ \u001b[22m\u001b[39m\u001b[36m\u001b[1mInfo: \u001b[22m\u001b[39mLoss:\n",
      "\u001b[36m\u001b[1m│ \u001b[22m\u001b[39m  train = 34.90032698509438\n",
      "\u001b[36m\u001b[1m└ \u001b[22m\u001b[39m  test = 9.104117850903034\n",
      "\u001b[36m\u001b[1m┌ \u001b[22m\u001b[39m\u001b[36m\u001b[1mInfo: \u001b[22m\u001b[39mSaving coefficients! Test loss is equal to :\n",
      "\u001b[36m\u001b[1m└ \u001b[22m\u001b[39m  test = 9.104117850903034\n"
     ]
    },
    {
     "name": "stdout",
     "output_type": "stream",
     "text": [
      " 51.019133 seconds (1.29 k allocations: 43.953 KiB)\n"
     ]
    },
    {
     "name": "stderr",
     "output_type": "stream",
     "text": [
      "\u001b[36m\u001b[1m┌ \u001b[22m\u001b[39m\u001b[36m\u001b[1mInfo: \u001b[22m\u001b[39mLoss:\n",
      "\u001b[36m\u001b[1m│ \u001b[22m\u001b[39m  train = 34.25662612965387\n",
      "\u001b[36m\u001b[1m└ \u001b[22m\u001b[39m  test = 8.934671975682889\n",
      "\u001b[36m\u001b[1m┌ \u001b[22m\u001b[39m\u001b[36m\u001b[1mInfo: \u001b[22m\u001b[39mSaving coefficients! Test loss is equal to :\n",
      "\u001b[36m\u001b[1m└ \u001b[22m\u001b[39m  test = 8.934671975682889\n"
     ]
    },
    {
     "name": "stdout",
     "output_type": "stream",
     "text": [
      " 51.408306 seconds (1.21 k allocations: 41.359 KiB)\n"
     ]
    },
    {
     "name": "stderr",
     "output_type": "stream",
     "text": [
      "\u001b[36m\u001b[1m┌ \u001b[22m\u001b[39m\u001b[36m\u001b[1mInfo: \u001b[22m\u001b[39mLoss:\n",
      "\u001b[36m\u001b[1m│ \u001b[22m\u001b[39m  train = 33.64953555609397\n",
      "\u001b[36m\u001b[1m└ \u001b[22m\u001b[39m  test = 8.77345511215727\n",
      "\u001b[36m\u001b[1m┌ \u001b[22m\u001b[39m\u001b[36m\u001b[1mInfo: \u001b[22m\u001b[39mSaving coefficients! Test loss is equal to :\n",
      "\u001b[36m\u001b[1m└ \u001b[22m\u001b[39m  test = 8.77345511215727\n"
     ]
    },
    {
     "name": "stdout",
     "output_type": "stream",
     "text": [
      " 51.745539 seconds (1.29 k allocations: 43.734 KiB)\n"
     ]
    },
    {
     "name": "stderr",
     "output_type": "stream",
     "text": [
      "\u001b[36m\u001b[1m┌ \u001b[22m\u001b[39m\u001b[36m\u001b[1mInfo: \u001b[22m\u001b[39mLoss:\n",
      "\u001b[36m\u001b[1m│ \u001b[22m\u001b[39m  train = 33.05742684089961\n",
      "\u001b[36m\u001b[1m└ \u001b[22m\u001b[39m  test = 8.615906264558355\n",
      "\u001b[36m\u001b[1m┌ \u001b[22m\u001b[39m\u001b[36m\u001b[1mInfo: \u001b[22m\u001b[39mSaving coefficients! Test loss is equal to :\n",
      "\u001b[36m\u001b[1m└ \u001b[22m\u001b[39m  test = 8.615906264558355\n"
     ]
    },
    {
     "name": "stdout",
     "output_type": "stream",
     "text": [
      " 55.691434 seconds (2.08 k allocations: 68.453 KiB)\n"
     ]
    },
    {
     "name": "stderr",
     "output_type": "stream",
     "text": [
      "\u001b[36m\u001b[1m┌ \u001b[22m\u001b[39m\u001b[36m\u001b[1mInfo: \u001b[22m\u001b[39mLoss:\n",
      "\u001b[36m\u001b[1m│ \u001b[22m\u001b[39m  train = 32.49470847584666\n",
      "\u001b[36m\u001b[1m└ \u001b[22m\u001b[39m  test = 8.466754096162262\n",
      "\u001b[36m\u001b[1m┌ \u001b[22m\u001b[39m\u001b[36m\u001b[1mInfo: \u001b[22m\u001b[39mSaving coefficients! Test loss is equal to :\n",
      "\u001b[36m\u001b[1m└ \u001b[22m\u001b[39m  test = 8.466754096162262\n"
     ]
    },
    {
     "name": "stdout",
     "output_type": "stream",
     "text": [
      " 54.464075 seconds (1.80 k allocations: 59.875 KiB)\n"
     ]
    },
    {
     "name": "stderr",
     "output_type": "stream",
     "text": [
      "\u001b[36m\u001b[1m┌ \u001b[22m\u001b[39m\u001b[36m\u001b[1mInfo: \u001b[22m\u001b[39mLoss:\n",
      "\u001b[36m\u001b[1m│ \u001b[22m\u001b[39m  train = 31.978657377540458\n",
      "\u001b[36m\u001b[1m└ \u001b[22m\u001b[39m  test = 8.329601929134057\n",
      "\u001b[36m\u001b[1m┌ \u001b[22m\u001b[39m\u001b[36m\u001b[1mInfo: \u001b[22m\u001b[39mSaving coefficients! Test loss is equal to :\n",
      "\u001b[36m\u001b[1m└ \u001b[22m\u001b[39m  test = 8.329601929134057\n"
     ]
    },
    {
     "name": "stdout",
     "output_type": "stream",
     "text": [
      " 53.030157 seconds (1.34 k allocations: 46.812 KiB)\n"
     ]
    },
    {
     "name": "stderr",
     "output_type": "stream",
     "text": [
      "\u001b[36m\u001b[1m┌ \u001b[22m\u001b[39m\u001b[36m\u001b[1mInfo: \u001b[22m\u001b[39mLoss:\n",
      "\u001b[36m\u001b[1m│ \u001b[22m\u001b[39m  train = 31.453578551870983\n",
      "\u001b[36m\u001b[1m└ \u001b[22m\u001b[39m  test = 8.189627414648168\n",
      "\u001b[36m\u001b[1m┌ \u001b[22m\u001b[39m\u001b[36m\u001b[1mInfo: \u001b[22m\u001b[39mSaving coefficients! Test loss is equal to :\n",
      "\u001b[36m\u001b[1m└ \u001b[22m\u001b[39m  test = 8.189627414648168\n"
     ]
    },
    {
     "name": "stdout",
     "output_type": "stream",
     "text": [
      " 55.507946 seconds (2.04 k allocations: 67.266 KiB)\n"
     ]
    },
    {
     "name": "stderr",
     "output_type": "stream",
     "text": [
      "\u001b[36m\u001b[1m┌ \u001b[22m\u001b[39m\u001b[36m\u001b[1mInfo: \u001b[22m\u001b[39mLoss:\n",
      "\u001b[36m\u001b[1m│ \u001b[22m\u001b[39m  train = 30.945141091905565\n",
      "\u001b[36m\u001b[1m└ \u001b[22m\u001b[39m  test = 8.053756510383309\n",
      "\u001b[36m\u001b[1m┌ \u001b[22m\u001b[39m\u001b[36m\u001b[1mInfo: \u001b[22m\u001b[39mSaving coefficients! Test loss is equal to :\n",
      "\u001b[36m\u001b[1m└ \u001b[22m\u001b[39m  test = 8.053756510383309\n"
     ]
    },
    {
     "name": "stdout",
     "output_type": "stream",
     "text": [
      " 51.857370 seconds (1.31 k allocations: 44.359 KiB)\n"
     ]
    },
    {
     "name": "stderr",
     "output_type": "stream",
     "text": [
      "\u001b[36m\u001b[1m┌ \u001b[22m\u001b[39m\u001b[36m\u001b[1mInfo: \u001b[22m\u001b[39mLoss:\n",
      "\u001b[36m\u001b[1m│ \u001b[22m\u001b[39m  train = 30.44571691749187\n",
      "\u001b[36m\u001b[1m└ \u001b[22m\u001b[39m  test = 7.920334192411754\n",
      "\u001b[36m\u001b[1m┌ \u001b[22m\u001b[39m\u001b[36m\u001b[1mInfo: \u001b[22m\u001b[39mSaving coefficients! Test loss is equal to :\n",
      "\u001b[36m\u001b[1m└ \u001b[22m\u001b[39m  test = 7.920334192411754\n"
     ]
    },
    {
     "name": "stdout",
     "output_type": "stream",
     "text": [
      " 54.970771 seconds (1.91 k allocations: 63.141 KiB)\n"
     ]
    },
    {
     "name": "stderr",
     "output_type": "stream",
     "text": [
      "\u001b[36m\u001b[1m┌ \u001b[22m\u001b[39m\u001b[36m\u001b[1mInfo: \u001b[22m\u001b[39mLoss:\n",
      "\u001b[36m\u001b[1m│ \u001b[22m\u001b[39m  train = 29.936011228537147\n",
      "\u001b[36m\u001b[1m└ \u001b[22m\u001b[39m  test = 7.784009644292302\n",
      "\u001b[36m\u001b[1m┌ \u001b[22m\u001b[39m\u001b[36m\u001b[1mInfo: \u001b[22m\u001b[39mSaving coefficients! Test loss is equal to :\n",
      "\u001b[36m\u001b[1m└ \u001b[22m\u001b[39m  test = 7.784009644292302\n"
     ]
    },
    {
     "name": "stdout",
     "output_type": "stream",
     "text": [
      " 52.034646 seconds (1.28 k allocations: 43.359 KiB)\n"
     ]
    },
    {
     "name": "stderr",
     "output_type": "stream",
     "text": [
      "\u001b[36m\u001b[1m┌ \u001b[22m\u001b[39m\u001b[36m\u001b[1mInfo: \u001b[22m\u001b[39mLoss:\n",
      "\u001b[36m\u001b[1m│ \u001b[22m\u001b[39m  train = 29.372022717282917\n",
      "\u001b[36m\u001b[1m└ \u001b[22m\u001b[39m  test = 7.633783588721371\n",
      "\u001b[36m\u001b[1m┌ \u001b[22m\u001b[39m\u001b[36m\u001b[1mInfo: \u001b[22m\u001b[39mSaving coefficients! Test loss is equal to :\n",
      "\u001b[36m\u001b[1m└ \u001b[22m\u001b[39m  test = 7.633783588721371\n"
     ]
    },
    {
     "name": "stdout",
     "output_type": "stream",
     "text": [
      " 53.463891 seconds (1.61 k allocations: 53.828 KiB)\n"
     ]
    },
    {
     "name": "stderr",
     "output_type": "stream",
     "text": [
      "\u001b[36m\u001b[1m┌ \u001b[22m\u001b[39m\u001b[36m\u001b[1mInfo: \u001b[22m\u001b[39mLoss:\n",
      "\u001b[36m\u001b[1m│ \u001b[22m\u001b[39m  train = 28.83167881635911\n",
      "\u001b[36m\u001b[1m└ \u001b[22m\u001b[39m  test = 7.488545707617877\n",
      "\u001b[36m\u001b[1m┌ \u001b[22m\u001b[39m\u001b[36m\u001b[1mInfo: \u001b[22m\u001b[39mSaving coefficients! Test loss is equal to :\n",
      "\u001b[36m\u001b[1m└ \u001b[22m\u001b[39m  test = 7.488545707617877\n"
     ]
    },
    {
     "name": "stdout",
     "output_type": "stream",
     "text": [
      " 51.953839 seconds (1.32 k allocations: 44.828 KiB)\n"
     ]
    },
    {
     "name": "stderr",
     "output_type": "stream",
     "text": [
      "\u001b[36m\u001b[1m┌ \u001b[22m\u001b[39m\u001b[36m\u001b[1mInfo: \u001b[22m\u001b[39mLoss:\n",
      "\u001b[36m\u001b[1m│ \u001b[22m\u001b[39m  train = 28.386675864890954\n",
      "\u001b[36m\u001b[1m└ \u001b[22m\u001b[39m  test = 7.36989601950464\n",
      "\u001b[36m\u001b[1m┌ \u001b[22m\u001b[39m\u001b[36m\u001b[1mInfo: \u001b[22m\u001b[39mSaving coefficients! Test loss is equal to :\n",
      "\u001b[36m\u001b[1m└ \u001b[22m\u001b[39m  test = 7.36989601950464\n"
     ]
    },
    {
     "name": "stdout",
     "output_type": "stream",
     "text": [
      " 54.281122 seconds (1.85 k allocations: 61.250 KiB)\n"
     ]
    },
    {
     "name": "stderr",
     "output_type": "stream",
     "text": [
      "\u001b[36m\u001b[1m┌ \u001b[22m\u001b[39m\u001b[36m\u001b[1mInfo: \u001b[22m\u001b[39mLoss:\n",
      "\u001b[36m\u001b[1m│ \u001b[22m\u001b[39m  train = 27.945686248964073\n",
      "\u001b[36m\u001b[1m└ \u001b[22m\u001b[39m  test = 7.251739959038752\n",
      "\u001b[36m\u001b[1m┌ \u001b[22m\u001b[39m\u001b[36m\u001b[1mInfo: \u001b[22m\u001b[39mSaving coefficients! Test loss is equal to :\n",
      "\u001b[36m\u001b[1m└ \u001b[22m\u001b[39m  test = 7.251739959038752\n"
     ]
    },
    {
     "name": "stdout",
     "output_type": "stream",
     "text": [
      " 55.191474 seconds (1.97 k allocations: 64.719 KiB)\n"
     ]
    },
    {
     "name": "stderr",
     "output_type": "stream",
     "text": [
      "\u001b[36m\u001b[1m┌ \u001b[22m\u001b[39m\u001b[36m\u001b[1mInfo: \u001b[22m\u001b[39mLoss:\n",
      "\u001b[36m\u001b[1m│ \u001b[22m\u001b[39m  train = 27.522439650510794\n",
      "\u001b[36m\u001b[1m└ \u001b[22m\u001b[39m  test = 7.138667354408917\n",
      "\u001b[36m\u001b[1m┌ \u001b[22m\u001b[39m\u001b[36m\u001b[1mInfo: \u001b[22m\u001b[39mSaving coefficients! Test loss is equal to :\n",
      "\u001b[36m\u001b[1m└ \u001b[22m\u001b[39m  test = 7.138667354408917\n"
     ]
    },
    {
     "name": "stdout",
     "output_type": "stream",
     "text": [
      " 52.553049 seconds (1.41 k allocations: 47.312 KiB)\n"
     ]
    },
    {
     "name": "stderr",
     "output_type": "stream",
     "text": [
      "\u001b[36m\u001b[1m┌ \u001b[22m\u001b[39m\u001b[36m\u001b[1mInfo: \u001b[22m\u001b[39mLoss:\n",
      "\u001b[36m\u001b[1m│ \u001b[22m\u001b[39m  train = 27.11863240185547\n",
      "\u001b[36m\u001b[1m└ \u001b[22m\u001b[39m  test = 7.030663933942591\n",
      "\u001b[36m\u001b[1m┌ \u001b[22m\u001b[39m\u001b[36m\u001b[1mInfo: \u001b[22m\u001b[39mSaving coefficients! Test loss is equal to :\n",
      "\u001b[36m\u001b[1m└ \u001b[22m\u001b[39m  test = 7.030663933942591\n"
     ]
    },
    {
     "name": "stdout",
     "output_type": "stream",
     "text": [
      " 53.824186 seconds (1.85 k allocations: 61.266 KiB)\n"
     ]
    },
    {
     "name": "stderr",
     "output_type": "stream",
     "text": [
      "\u001b[36m\u001b[1m┌ \u001b[22m\u001b[39m\u001b[36m\u001b[1mInfo: \u001b[22m\u001b[39mLoss:\n",
      "\u001b[36m\u001b[1m│ \u001b[22m\u001b[39m  train = 26.73200337575623\n",
      "\u001b[36m\u001b[1m└ \u001b[22m\u001b[39m  test = 6.9274158270678\n",
      "\u001b[36m\u001b[1m┌ \u001b[22m\u001b[39m\u001b[36m\u001b[1mInfo: \u001b[22m\u001b[39mSaving coefficients! Test loss is equal to :\n",
      "\u001b[36m\u001b[1m└ \u001b[22m\u001b[39m  test = 6.9274158270678\n"
     ]
    },
    {
     "name": "stdout",
     "output_type": "stream",
     "text": [
      " 55.565364 seconds (2.05 k allocations: 67.359 KiB)\n"
     ]
    },
    {
     "name": "stderr",
     "output_type": "stream",
     "text": [
      "\u001b[36m\u001b[1m┌ \u001b[22m\u001b[39m\u001b[36m\u001b[1mInfo: \u001b[22m\u001b[39mLoss:\n",
      "\u001b[36m\u001b[1m│ \u001b[22m\u001b[39m  train = 26.357664634677363\n",
      "\u001b[36m\u001b[1m└ \u001b[22m\u001b[39m  test = 6.8270937350932215\n",
      "\u001b[36m\u001b[1m┌ \u001b[22m\u001b[39m\u001b[36m\u001b[1mInfo: \u001b[22m\u001b[39mSaving coefficients! Test loss is equal to :\n",
      "\u001b[36m\u001b[1m└ \u001b[22m\u001b[39m  test = 6.8270937350932215\n"
     ]
    },
    {
     "name": "stdout",
     "output_type": "stream",
     "text": [
      " 53.869190 seconds (1.70 k allocations: 56.609 KiB)\n"
     ]
    },
    {
     "name": "stderr",
     "output_type": "stream",
     "text": [
      "\u001b[36m\u001b[1m┌ \u001b[22m\u001b[39m\u001b[36m\u001b[1mInfo: \u001b[22m\u001b[39mLoss:\n",
      "\u001b[36m\u001b[1m│ \u001b[22m\u001b[39m  train = 26.00510237009849\n",
      "\u001b[36m\u001b[1m└ \u001b[22m\u001b[39m  test = 6.732369384357803\n",
      "\u001b[36m\u001b[1m┌ \u001b[22m\u001b[39m\u001b[36m\u001b[1mInfo: \u001b[22m\u001b[39mSaving coefficients! Test loss is equal to :\n",
      "\u001b[36m\u001b[1m└ \u001b[22m\u001b[39m  test = 6.732369384357803\n"
     ]
    },
    {
     "name": "stdout",
     "output_type": "stream",
     "text": [
      " 57.563137 seconds (2.47 k allocations: 80.734 KiB)\n"
     ]
    },
    {
     "name": "stderr",
     "output_type": "stream",
     "text": [
      "\u001b[36m\u001b[1m┌ \u001b[22m\u001b[39m\u001b[36m\u001b[1mInfo: \u001b[22m\u001b[39mLoss:\n",
      "\u001b[36m\u001b[1m│ \u001b[22m\u001b[39m  train = 25.66181522003329\n",
      "\u001b[36m\u001b[1m└ \u001b[22m\u001b[39m  test = 6.640361405537031\n",
      "\u001b[36m\u001b[1m┌ \u001b[22m\u001b[39m\u001b[36m\u001b[1mInfo: \u001b[22m\u001b[39mSaving coefficients! Test loss is equal to :\n",
      "\u001b[36m\u001b[1m└ \u001b[22m\u001b[39m  test = 6.640361405537031\n"
     ]
    },
    {
     "name": "stdout",
     "output_type": "stream",
     "text": [
      " 53.611602 seconds (1.67 k allocations: 55.734 KiB)\n"
     ]
    },
    {
     "name": "stderr",
     "output_type": "stream",
     "text": [
      "\u001b[36m\u001b[1m┌ \u001b[22m\u001b[39m\u001b[36m\u001b[1mInfo: \u001b[22m\u001b[39mLoss:\n",
      "\u001b[36m\u001b[1m│ \u001b[22m\u001b[39m  train = 25.32872376098944\n",
      "\u001b[36m\u001b[1m└ \u001b[22m\u001b[39m  test = 6.551773380424894\n",
      "\u001b[36m\u001b[1m┌ \u001b[22m\u001b[39m\u001b[36m\u001b[1mInfo: \u001b[22m\u001b[39mSaving coefficients! Test loss is equal to :\n",
      "\u001b[36m\u001b[1m└ \u001b[22m\u001b[39m  test = 6.551773380424894\n"
     ]
    },
    {
     "name": "stdout",
     "output_type": "stream",
     "text": [
      " 54.190366 seconds (1.74 k allocations: 57.797 KiB)\n"
     ]
    },
    {
     "name": "stderr",
     "output_type": "stream",
     "text": [
      "\u001b[36m\u001b[1m┌ \u001b[22m\u001b[39m\u001b[36m\u001b[1mInfo: \u001b[22m\u001b[39mLoss:\n",
      "\u001b[36m\u001b[1m│ \u001b[22m\u001b[39m  train = 24.939048179738958\n",
      "\u001b[36m\u001b[1m└ \u001b[22m\u001b[39m  test = 6.4465710706534125\n",
      "\u001b[36m\u001b[1m┌ \u001b[22m\u001b[39m\u001b[36m\u001b[1mInfo: \u001b[22m\u001b[39mSaving coefficients! Test loss is equal to :\n",
      "\u001b[36m\u001b[1m└ \u001b[22m\u001b[39m  test = 6.4465710706534125\n"
     ]
    },
    {
     "name": "stdout",
     "output_type": "stream",
     "text": [
      " 55.312734 seconds (2.00 k allocations: 65.797 KiB)\n"
     ]
    },
    {
     "name": "stderr",
     "output_type": "stream",
     "text": [
      "\u001b[36m\u001b[1m┌ \u001b[22m\u001b[39m\u001b[36m\u001b[1mInfo: \u001b[22m\u001b[39mLoss:\n",
      "\u001b[36m\u001b[1m│ \u001b[22m\u001b[39m  train = 24.61837061870373\n",
      "\u001b[36m\u001b[1m└ \u001b[22m\u001b[39m  test = 6.360489813741255\n",
      "\u001b[36m\u001b[1m┌ \u001b[22m\u001b[39m\u001b[36m\u001b[1mInfo: \u001b[22m\u001b[39mSaving coefficients! Test loss is equal to :\n",
      "\u001b[36m\u001b[1m└ \u001b[22m\u001b[39m  test = 6.360489813741255\n"
     ]
    },
    {
     "name": "stdout",
     "output_type": "stream",
     "text": [
      " 55.508726 seconds (2.02 k allocations: 66.547 KiB)\n"
     ]
    },
    {
     "name": "stderr",
     "output_type": "stream",
     "text": [
      "\u001b[36m\u001b[1m┌ \u001b[22m\u001b[39m\u001b[36m\u001b[1mInfo: \u001b[22m\u001b[39mLoss:\n",
      "\u001b[36m\u001b[1m│ \u001b[22m\u001b[39m  train = 24.33293968408669\n",
      "\u001b[36m\u001b[1m└ \u001b[22m\u001b[39m  test = 6.28438961541015\n",
      "\u001b[36m\u001b[1m┌ \u001b[22m\u001b[39m\u001b[36m\u001b[1mInfo: \u001b[22m\u001b[39mSaving coefficients! Test loss is equal to :\n",
      "\u001b[36m\u001b[1m└ \u001b[22m\u001b[39m  test = 6.28438961541015\n"
     ]
    },
    {
     "name": "stdout",
     "output_type": "stream",
     "text": [
      " 56.238921 seconds (2.21 k allocations: 72.453 KiB)\n"
     ]
    },
    {
     "name": "stderr",
     "output_type": "stream",
     "text": [
      "\u001b[36m\u001b[1m┌ \u001b[22m\u001b[39m\u001b[36m\u001b[1mInfo: \u001b[22m\u001b[39mLoss:\n",
      "\u001b[36m\u001b[1m│ \u001b[22m\u001b[39m  train = 24.044333037629272\n",
      "\u001b[36m\u001b[1m└ \u001b[22m\u001b[39m  test = 6.207436655854961\n",
      "\u001b[36m\u001b[1m┌ \u001b[22m\u001b[39m\u001b[36m\u001b[1mInfo: \u001b[22m\u001b[39mSaving coefficients! Test loss is equal to :\n",
      "\u001b[36m\u001b[1m└ \u001b[22m\u001b[39m  test = 6.207436655854961\n"
     ]
    },
    {
     "name": "stdout",
     "output_type": "stream",
     "text": [
      " 51.265297 seconds (1.31 k allocations: 44.422 KiB)\n"
     ]
    },
    {
     "name": "stderr",
     "output_type": "stream",
     "text": [
      "\u001b[36m\u001b[1m┌ \u001b[22m\u001b[39m\u001b[36m\u001b[1mInfo: \u001b[22m\u001b[39mLoss:\n",
      "\u001b[36m\u001b[1m│ \u001b[22m\u001b[39m  train = 23.769047614826825\n",
      "\u001b[36m\u001b[1m└ \u001b[22m\u001b[39m  test = 6.133971289095326\n",
      "\u001b[36m\u001b[1m┌ \u001b[22m\u001b[39m\u001b[36m\u001b[1mInfo: \u001b[22m\u001b[39mSaving coefficients! Test loss is equal to :\n",
      "\u001b[36m\u001b[1m└ \u001b[22m\u001b[39m  test = 6.133971289095326\n"
     ]
    },
    {
     "name": "stdout",
     "output_type": "stream",
     "text": [
      " 54.994054 seconds (1.92 k allocations: 63.484 KiB)\n"
     ]
    },
    {
     "name": "stderr",
     "output_type": "stream",
     "text": [
      "\u001b[36m\u001b[1m┌ \u001b[22m\u001b[39m\u001b[36m\u001b[1mInfo: \u001b[22m\u001b[39mLoss:\n",
      "\u001b[36m\u001b[1m│ \u001b[22m\u001b[39m  train = 23.508623844545127\n",
      "\u001b[36m\u001b[1m└ \u001b[22m\u001b[39m  test = 6.0645015246382705\n",
      "\u001b[36m\u001b[1m┌ \u001b[22m\u001b[39m\u001b[36m\u001b[1mInfo: \u001b[22m\u001b[39mSaving coefficients! Test loss is equal to :\n",
      "\u001b[36m\u001b[1m└ \u001b[22m\u001b[39m  test = 6.0645015246382705\n"
     ]
    },
    {
     "name": "stdout",
     "output_type": "stream",
     "text": [
      " 53.111473 seconds (1.52 k allocations: 51.016 KiB)\n"
     ]
    },
    {
     "name": "stderr",
     "output_type": "stream",
     "text": [
      "\u001b[36m\u001b[1m┌ \u001b[22m\u001b[39m\u001b[36m\u001b[1mInfo: \u001b[22m\u001b[39mLoss:\n",
      "\u001b[36m\u001b[1m│ \u001b[22m\u001b[39m  train = 23.2582324262496\n",
      "\u001b[36m\u001b[1m└ \u001b[22m\u001b[39m  test = 5.997525037991929\n",
      "\u001b[36m\u001b[1m┌ \u001b[22m\u001b[39m\u001b[36m\u001b[1mInfo: \u001b[22m\u001b[39mSaving coefficients! Test loss is equal to :\n",
      "\u001b[36m\u001b[1m└ \u001b[22m\u001b[39m  test = 5.997525037991929\n"
     ]
    },
    {
     "name": "stdout",
     "output_type": "stream",
     "text": [
      " 54.119960 seconds (1.87 k allocations: 61.812 KiB)\n"
     ]
    },
    {
     "name": "stderr",
     "output_type": "stream",
     "text": [
      "\u001b[36m\u001b[1m┌ \u001b[22m\u001b[39m\u001b[36m\u001b[1mInfo: \u001b[22m\u001b[39mLoss:\n",
      "\u001b[36m\u001b[1m│ \u001b[22m\u001b[39m  train = 23.008325735941728\n",
      "\u001b[36m\u001b[1m└ \u001b[22m\u001b[39m  test = 5.930764629117139\n",
      "\u001b[36m\u001b[1m┌ \u001b[22m\u001b[39m\u001b[36m\u001b[1mInfo: \u001b[22m\u001b[39mSaving coefficients! Test loss is equal to :\n",
      "\u001b[36m\u001b[1m└ \u001b[22m\u001b[39m  test = 5.930764629117139\n"
     ]
    },
    {
     "name": "stdout",
     "output_type": "stream",
     "text": [
      " 53.314663 seconds (1.57 k allocations: 52.391 KiB)\n"
     ]
    },
    {
     "name": "stderr",
     "output_type": "stream",
     "text": [
      "\u001b[36m\u001b[1m┌ \u001b[22m\u001b[39m\u001b[36m\u001b[1mInfo: \u001b[22m\u001b[39mLoss:\n",
      "\u001b[36m\u001b[1m│ \u001b[22m\u001b[39m  train = 22.768373352743644\n",
      "\u001b[36m\u001b[1m└ \u001b[22m\u001b[39m  test = 5.866190057109805\n",
      "\u001b[36m\u001b[1m┌ \u001b[22m\u001b[39m\u001b[36m\u001b[1mInfo: \u001b[22m\u001b[39mSaving coefficients! Test loss is equal to :\n",
      "\u001b[36m\u001b[1m└ \u001b[22m\u001b[39m  test = 5.866190057109805\n"
     ]
    },
    {
     "name": "stdout",
     "output_type": "stream",
     "text": [
      " 55.088907 seconds (1.97 k allocations: 64.891 KiB)\n"
     ]
    },
    {
     "name": "stderr",
     "output_type": "stream",
     "text": [
      "\u001b[36m\u001b[1m┌ \u001b[22m\u001b[39m\u001b[36m\u001b[1mInfo: \u001b[22m\u001b[39mLoss:\n",
      "\u001b[36m\u001b[1m│ \u001b[22m\u001b[39m  train = 22.503676391133634\n",
      "\u001b[36m\u001b[1m└ \u001b[22m\u001b[39m  test = 5.7952446982437\n",
      "\u001b[36m\u001b[1m┌ \u001b[22m\u001b[39m\u001b[36m\u001b[1mInfo: \u001b[22m\u001b[39mSaving coefficients! Test loss is equal to :\n",
      "\u001b[36m\u001b[1m└ \u001b[22m\u001b[39m  test = 5.7952446982437\n"
     ]
    },
    {
     "name": "stdout",
     "output_type": "stream",
     "text": [
      " 52.127668 seconds (1.32 k allocations: 44.797 KiB)\n"
     ]
    },
    {
     "name": "stderr",
     "output_type": "stream",
     "text": [
      "\u001b[36m\u001b[1m┌ \u001b[22m\u001b[39m\u001b[36m\u001b[1mInfo: \u001b[22m\u001b[39mLoss:\n",
      "\u001b[36m\u001b[1m│ \u001b[22m\u001b[39m  train = 22.280261130217628\n",
      "\u001b[36m\u001b[1m└ \u001b[22m\u001b[39m  test = 5.736803000645871\n",
      "\u001b[36m\u001b[1m┌ \u001b[22m\u001b[39m\u001b[36m\u001b[1mInfo: \u001b[22m\u001b[39mSaving coefficients! Test loss is equal to :\n",
      "\u001b[36m\u001b[1m└ \u001b[22m\u001b[39m  test = 5.736803000645871\n"
     ]
    },
    {
     "name": "stdout",
     "output_type": "stream",
     "text": [
      " 51.629082 seconds (1.30 k allocations: 44.203 KiB)\n"
     ]
    },
    {
     "name": "stderr",
     "output_type": "stream",
     "text": [
      "\u001b[36m\u001b[1m┌ \u001b[22m\u001b[39m\u001b[36m\u001b[1mInfo: \u001b[22m\u001b[39mLoss:\n",
      "\u001b[36m\u001b[1m│ \u001b[22m\u001b[39m  train = 22.060859111343362\n",
      "\u001b[36m\u001b[1m└ \u001b[22m\u001b[39m  test = 5.678719669054726\n",
      "\u001b[36m\u001b[1m┌ \u001b[22m\u001b[39m\u001b[36m\u001b[1mInfo: \u001b[22m\u001b[39mSaving coefficients! Test loss is equal to :\n",
      "\u001b[36m\u001b[1m└ \u001b[22m\u001b[39m  test = 5.678719669054726\n"
     ]
    }
   ],
   "source": [
    "p = npzread(\"weights_\"*Cℓkind*\"_lcdm.npy\")# if you don't have any weights, comment this line\n",
    "initial_test_loss = mlpdtest(Xtest, p)\n",
    "println(\"Initial Loss: \",initial_test_loss)\n",
    "\n",
    "for i in 1:50\n",
    "    @time SimpleChains.train_unbatched!(\n",
    "    G, p, mlpdloss, X, SimpleChains.ADAM(5e-5), 500   #η = 1e-4\n",
    "  );\n",
    "    report(p)\n",
    "    test = mlpdtest(Xtest, p)\n",
    "    if initial_test_loss > test\n",
    "        npzwrite(\"weights_\"*Cℓkind*\"_lcdm.npy\", p)\n",
    "        initial_test_loss = test\n",
    "        @info \"Saving coefficients! Test loss is equal to :\" test\n",
    "    end\n",
    "end"
   ]
  },
  {
   "cell_type": "code",
   "execution_count": 23,
   "metadata": {},
   "outputs": [
    {
     "name": "stdout",
     "output_type": "stream",
     "text": [
      "Initial Loss: 5.678719669054726\n",
      " 54.406729 seconds (1.83 k allocations: 59.172 KiB)\n"
     ]
    },
    {
     "name": "stderr",
     "output_type": "stream",
     "text": [
      "\u001b[36m\u001b[1m┌ \u001b[22m\u001b[39m\u001b[36m\u001b[1mInfo: \u001b[22m\u001b[39mLoss:\n",
      "\u001b[36m\u001b[1m│ \u001b[22m\u001b[39m  train = 21.89522012085851\n",
      "\u001b[36m\u001b[1m└ \u001b[22m\u001b[39m  test = 5.634995549989692\n",
      "\u001b[36m\u001b[1m┌ \u001b[22m\u001b[39m\u001b[36m\u001b[1mInfo: \u001b[22m\u001b[39mSaving coefficients! Test loss is equal to :\n",
      "\u001b[36m\u001b[1m└ \u001b[22m\u001b[39m  test = 5.634995549989692\n"
     ]
    },
    {
     "name": "stdout",
     "output_type": "stream",
     "text": [
      " 56.376631 seconds (2.23 k allocations: 73.000 KiB)\n"
     ]
    },
    {
     "name": "stderr",
     "output_type": "stream",
     "text": [
      "\u001b[36m\u001b[1m┌ \u001b[22m\u001b[39m\u001b[36m\u001b[1mInfo: \u001b[22m\u001b[39mLoss:\n",
      "\u001b[36m\u001b[1m│ \u001b[22m\u001b[39m  train = 21.729727401259378\n",
      "\u001b[36m\u001b[1m└ \u001b[22m\u001b[39m  test = 5.5907943399079105\n",
      "\u001b[36m\u001b[1m┌ \u001b[22m\u001b[39m\u001b[36m\u001b[1mInfo: \u001b[22m\u001b[39mSaving coefficients! Test loss is equal to :\n",
      "\u001b[36m\u001b[1m└ \u001b[22m\u001b[39m  test = 5.5907943399079105\n"
     ]
    },
    {
     "name": "stdout",
     "output_type": "stream",
     "text": [
      " 51.948009 seconds (1.29 k allocations: 43.734 KiB)\n"
     ]
    },
    {
     "name": "stderr",
     "output_type": "stream",
     "text": [
      "\u001b[36m\u001b[1m┌ \u001b[22m\u001b[39m\u001b[36m\u001b[1mInfo: \u001b[22m\u001b[39mLoss:\n",
      "\u001b[36m\u001b[1m│ \u001b[22m\u001b[39m  train = 21.569263023373118\n",
      "\u001b[36m\u001b[1m└ \u001b[22m\u001b[39m  test = 5.548387008604423\n",
      "\u001b[36m\u001b[1m┌ \u001b[22m\u001b[39m\u001b[36m\u001b[1mInfo: \u001b[22m\u001b[39mSaving coefficients! Test loss is equal to :\n",
      "\u001b[36m\u001b[1m└ \u001b[22m\u001b[39m  test = 5.548387008604423\n"
     ]
    },
    {
     "name": "stdout",
     "output_type": "stream",
     "text": [
      " 54.461640 seconds (1.82 k allocations: 60.203 KiB)\n"
     ]
    },
    {
     "name": "stderr",
     "output_type": "stream",
     "text": [
      "\u001b[36m\u001b[1m┌ \u001b[22m\u001b[39m\u001b[36m\u001b[1mInfo: \u001b[22m\u001b[39mLoss:\n",
      "\u001b[36m\u001b[1m│ \u001b[22m\u001b[39m  train = 21.406120049973893\n",
      "\u001b[36m\u001b[1m└ \u001b[22m\u001b[39m  test = 5.505104065956258\n",
      "\u001b[36m\u001b[1m┌ \u001b[22m\u001b[39m\u001b[36m\u001b[1mInfo: \u001b[22m\u001b[39mSaving coefficients! Test loss is equal to :\n",
      "\u001b[36m\u001b[1m└ \u001b[22m\u001b[39m  test = 5.505104065956258\n"
     ]
    },
    {
     "name": "stdout",
     "output_type": "stream",
     "text": [
      " 51.955204 seconds (1.29 k allocations: 43.891 KiB)\n"
     ]
    },
    {
     "name": "stderr",
     "output_type": "stream",
     "text": [
      "\u001b[36m\u001b[1m┌ \u001b[22m\u001b[39m\u001b[36m\u001b[1mInfo: \u001b[22m\u001b[39mLoss:\n",
      "\u001b[36m\u001b[1m│ \u001b[22m\u001b[39m  train = 21.250609537087644\n",
      "\u001b[36m\u001b[1m└ \u001b[22m\u001b[39m  test = 5.463936543173584\n",
      "\u001b[36m\u001b[1m┌ \u001b[22m\u001b[39m\u001b[36m\u001b[1mInfo: \u001b[22m\u001b[39mSaving coefficients! Test loss is equal to :\n",
      "\u001b[36m\u001b[1m└ \u001b[22m\u001b[39m  test = 5.463936543173584\n"
     ]
    },
    {
     "name": "stdout",
     "output_type": "stream",
     "text": [
      " 54.624943 seconds (1.86 k allocations: 61.609 KiB)\n"
     ]
    },
    {
     "name": "stderr",
     "output_type": "stream",
     "text": [
      "\u001b[36m\u001b[1m┌ \u001b[22m\u001b[39m\u001b[36m\u001b[1mInfo: \u001b[22m\u001b[39mLoss:\n",
      "\u001b[36m\u001b[1m│ \u001b[22m\u001b[39m  train = 21.099660812728207\n",
      "\u001b[36m\u001b[1m└ \u001b[22m\u001b[39m  test = 5.4241110359150015\n",
      "\u001b[36m\u001b[1m┌ \u001b[22m\u001b[39m\u001b[36m\u001b[1mInfo: \u001b[22m\u001b[39mSaving coefficients! Test loss is equal to :\n",
      "\u001b[36m\u001b[1m└ \u001b[22m\u001b[39m  test = 5.4241110359150015\n"
     ]
    },
    {
     "name": "stdout",
     "output_type": "stream",
     "text": [
      " 54.959380 seconds (1.90 k allocations: 62.766 KiB)\n"
     ]
    },
    {
     "name": "stderr",
     "output_type": "stream",
     "text": [
      "\u001b[36m\u001b[1m┌ \u001b[22m\u001b[39m\u001b[36m\u001b[1mInfo: \u001b[22m\u001b[39mLoss:\n",
      "\u001b[36m\u001b[1m│ \u001b[22m\u001b[39m  train = 20.93835233984143\n",
      "\u001b[36m\u001b[1m└ \u001b[22m\u001b[39m  test = 5.381582365721163\n",
      "\u001b[36m\u001b[1m┌ \u001b[22m\u001b[39m\u001b[36m\u001b[1mInfo: \u001b[22m\u001b[39mSaving coefficients! Test loss is equal to :\n",
      "\u001b[36m\u001b[1m└ \u001b[22m\u001b[39m  test = 5.381582365721163\n"
     ]
    },
    {
     "name": "stdout",
     "output_type": "stream",
     "text": [
      " 54.576716 seconds (1.85 k allocations: 61.234 KiB)\n"
     ]
    },
    {
     "name": "stderr",
     "output_type": "stream",
     "text": [
      "\u001b[36m\u001b[1m┌ \u001b[22m\u001b[39m\u001b[36m\u001b[1mInfo: \u001b[22m\u001b[39mLoss:\n",
      "\u001b[36m\u001b[1m│ \u001b[22m\u001b[39m  train = 20.795504792317686\n",
      "\u001b[36m\u001b[1m└ \u001b[22m\u001b[39m  test = 5.344337476406867\n",
      "\u001b[36m\u001b[1m┌ \u001b[22m\u001b[39m\u001b[36m\u001b[1mInfo: \u001b[22m\u001b[39mSaving coefficients! Test loss is equal to :\n",
      "\u001b[36m\u001b[1m└ \u001b[22m\u001b[39m  test = 5.344337476406867\n"
     ]
    },
    {
     "name": "stdout",
     "output_type": "stream",
     "text": [
      " 52.594683 seconds (1.43 k allocations: 47.984 KiB)\n"
     ]
    },
    {
     "name": "stderr",
     "output_type": "stream",
     "text": [
      "\u001b[36m\u001b[1m┌ \u001b[22m\u001b[39m\u001b[36m\u001b[1mInfo: \u001b[22m\u001b[39mLoss:\n",
      "\u001b[36m\u001b[1m│ \u001b[22m\u001b[39m  train = 20.642612784807206\n",
      "\u001b[36m\u001b[1m└ \u001b[22m\u001b[39m  test = 5.303780803349337\n",
      "\u001b[36m\u001b[1m┌ \u001b[22m\u001b[39m\u001b[36m\u001b[1mInfo: \u001b[22m\u001b[39mSaving coefficients! Test loss is equal to :\n",
      "\u001b[36m\u001b[1m└ \u001b[22m\u001b[39m  test = 5.303780803349337\n"
     ]
    },
    {
     "name": "stdout",
     "output_type": "stream",
     "text": [
      " 55.026055 seconds (1.93 k allocations: 63.859 KiB)\n"
     ]
    },
    {
     "name": "stderr",
     "output_type": "stream",
     "text": [
      "\u001b[36m\u001b[1m┌ \u001b[22m\u001b[39m\u001b[36m\u001b[1mInfo: \u001b[22m\u001b[39mLoss:\n",
      "\u001b[36m\u001b[1m│ \u001b[22m\u001b[39m  train = 20.50577906329417\n",
      "\u001b[36m\u001b[1m└ \u001b[22m\u001b[39m  test = 5.268361674785238\n",
      "\u001b[36m\u001b[1m┌ \u001b[22m\u001b[39m\u001b[36m\u001b[1mInfo: \u001b[22m\u001b[39mSaving coefficients! Test loss is equal to :\n",
      "\u001b[36m\u001b[1m└ \u001b[22m\u001b[39m  test = 5.268361674785238\n"
     ]
    },
    {
     "name": "stdout",
     "output_type": "stream",
     "text": [
      " 53.000131 seconds (1.50 k allocations: 50.422 KiB)\n"
     ]
    },
    {
     "name": "stderr",
     "output_type": "stream",
     "text": [
      "\u001b[36m\u001b[1m┌ \u001b[22m\u001b[39m\u001b[36m\u001b[1mInfo: \u001b[22m\u001b[39mLoss:\n",
      "\u001b[36m\u001b[1m│ \u001b[22m\u001b[39m  train = 20.36769569211164\n",
      "\u001b[36m\u001b[1m└ \u001b[22m\u001b[39m  test = 5.2314917469795805\n",
      "\u001b[36m\u001b[1m┌ \u001b[22m\u001b[39m\u001b[36m\u001b[1mInfo: \u001b[22m\u001b[39mSaving coefficients! Test loss is equal to :\n",
      "\u001b[36m\u001b[1m└ \u001b[22m\u001b[39m  test = 5.2314917469795805\n"
     ]
    },
    {
     "name": "stdout",
     "output_type": "stream",
     "text": [
      " 51.868188 seconds (1.27 k allocations: 43.172 KiB)\n"
     ]
    },
    {
     "name": "stderr",
     "output_type": "stream",
     "text": [
      "\u001b[36m\u001b[1m┌ \u001b[22m\u001b[39m\u001b[36m\u001b[1mInfo: \u001b[22m\u001b[39mLoss:\n",
      "\u001b[36m\u001b[1m│ \u001b[22m\u001b[39m  train = 20.22570028187475\n",
      "\u001b[36m\u001b[1m└ \u001b[22m\u001b[39m  test = 5.19389350367976\n",
      "\u001b[36m\u001b[1m┌ \u001b[22m\u001b[39m\u001b[36m\u001b[1mInfo: \u001b[22m\u001b[39mSaving coefficients! Test loss is equal to :\n",
      "\u001b[36m\u001b[1m└ \u001b[22m\u001b[39m  test = 5.19389350367976\n"
     ]
    },
    {
     "name": "stdout",
     "output_type": "stream",
     "text": [
      " 54.030870 seconds (1.72 k allocations: 57.141 KiB)\n"
     ]
    },
    {
     "name": "stderr",
     "output_type": "stream",
     "text": [
      "\u001b[36m\u001b[1m┌ \u001b[22m\u001b[39m\u001b[36m\u001b[1mInfo: \u001b[22m\u001b[39mLoss:\n",
      "\u001b[36m\u001b[1m│ \u001b[22m\u001b[39m  train = 20.092697594031236\n",
      "\u001b[36m\u001b[1m└ \u001b[22m\u001b[39m  test = 5.159123624510972\n",
      "\u001b[36m\u001b[1m┌ \u001b[22m\u001b[39m\u001b[36m\u001b[1mInfo: \u001b[22m\u001b[39mSaving coefficients! Test loss is equal to :\n",
      "\u001b[36m\u001b[1m└ \u001b[22m\u001b[39m  test = 5.159123624510972\n"
     ]
    },
    {
     "name": "stdout",
     "output_type": "stream",
     "text": [
      " 53.932305 seconds (1.72 k allocations: 57.266 KiB)\n"
     ]
    },
    {
     "name": "stderr",
     "output_type": "stream",
     "text": [
      "\u001b[36m\u001b[1m┌ \u001b[22m\u001b[39m\u001b[36m\u001b[1mInfo: \u001b[22m\u001b[39mLoss:\n",
      "\u001b[36m\u001b[1m│ \u001b[22m\u001b[39m  train = 19.964968341103084\n",
      "\u001b[36m\u001b[1m└ \u001b[22m\u001b[39m  test = 5.1255735009580405\n",
      "\u001b[36m\u001b[1m┌ \u001b[22m\u001b[39m\u001b[36m\u001b[1mInfo: \u001b[22m\u001b[39mSaving coefficients! Test loss is equal to :\n",
      "\u001b[36m\u001b[1m└ \u001b[22m\u001b[39m  test = 5.1255735009580405\n"
     ]
    },
    {
     "name": "stdout",
     "output_type": "stream",
     "text": [
      " 54.739644 seconds (1.90 k allocations: 62.766 KiB)\n"
     ]
    },
    {
     "name": "stderr",
     "output_type": "stream",
     "text": [
      "\u001b[36m\u001b[1m┌ \u001b[22m\u001b[39m\u001b[36m\u001b[1mInfo: \u001b[22m\u001b[39mLoss:\n",
      "\u001b[36m\u001b[1m│ \u001b[22m\u001b[39m  train = 19.828705456967292\n",
      "\u001b[36m\u001b[1m└ \u001b[22m\u001b[39m  test = 5.0894426805197295\n",
      "\u001b[36m\u001b[1m┌ \u001b[22m\u001b[39m\u001b[36m\u001b[1mInfo: \u001b[22m\u001b[39mSaving coefficients! Test loss is equal to :\n",
      "\u001b[36m\u001b[1m└ \u001b[22m\u001b[39m  test = 5.0894426805197295\n"
     ]
    },
    {
     "name": "stdout",
     "output_type": "stream",
     "text": [
      " 53.151945 seconds (1.58 k allocations: 52.703 KiB)\n"
     ]
    },
    {
     "name": "stderr",
     "output_type": "stream",
     "text": [
      "\u001b[36m\u001b[1m┌ \u001b[22m\u001b[39m\u001b[36m\u001b[1mInfo: \u001b[22m\u001b[39mLoss:\n",
      "\u001b[36m\u001b[1m│ \u001b[22m\u001b[39m  train = 19.701210787192842\n",
      "\u001b[36m\u001b[1m└ \u001b[22m\u001b[39m  test = 5.056272098461903\n",
      "\u001b[36m\u001b[1m┌ \u001b[22m\u001b[39m\u001b[36m\u001b[1mInfo: \u001b[22m\u001b[39mSaving coefficients! Test loss is equal to :\n",
      "\u001b[36m\u001b[1m└ \u001b[22m\u001b[39m  test = 5.056272098461903\n"
     ]
    },
    {
     "name": "stdout",
     "output_type": "stream",
     "text": [
      " 52.402321 seconds (1.39 k allocations: 46.859 KiB)\n"
     ]
    },
    {
     "name": "stderr",
     "output_type": "stream",
     "text": [
      "\u001b[36m\u001b[1m┌ \u001b[22m\u001b[39m\u001b[36m\u001b[1mInfo: \u001b[22m\u001b[39mLoss:\n",
      "\u001b[36m\u001b[1m│ \u001b[22m\u001b[39m  train = 19.57875771840102\n",
      "\u001b[36m\u001b[1m└ \u001b[22m\u001b[39m  test = 5.02427164494355\n",
      "\u001b[36m\u001b[1m┌ \u001b[22m\u001b[39m\u001b[36m\u001b[1mInfo: \u001b[22m\u001b[39mSaving coefficients! Test loss is equal to :\n",
      "\u001b[36m\u001b[1m└ \u001b[22m\u001b[39m  test = 5.02427164494355\n"
     ]
    },
    {
     "name": "stdout",
     "output_type": "stream",
     "text": [
      " 54.819732 seconds (1.89 k allocations: 62.547 KiB)\n"
     ]
    },
    {
     "name": "stderr",
     "output_type": "stream",
     "text": [
      "\u001b[36m\u001b[1m┌ \u001b[22m\u001b[39m\u001b[36m\u001b[1mInfo: \u001b[22m\u001b[39mLoss:\n",
      "\u001b[36m\u001b[1m│ \u001b[22m\u001b[39m  train = 19.457024026270545\n",
      "\u001b[36m\u001b[1m└ \u001b[22m\u001b[39m  test = 4.992300491842425\n",
      "\u001b[36m\u001b[1m┌ \u001b[22m\u001b[39m\u001b[36m\u001b[1mInfo: \u001b[22m\u001b[39mSaving coefficients! Test loss is equal to :\n",
      "\u001b[36m\u001b[1m└ \u001b[22m\u001b[39m  test = 4.992300491842425\n"
     ]
    },
    {
     "name": "stdout",
     "output_type": "stream",
     "text": [
      " 53.111362 seconds (1.57 k allocations: 52.422 KiB)\n"
     ]
    },
    {
     "name": "stderr",
     "output_type": "stream",
     "text": [
      "\u001b[36m\u001b[1m┌ \u001b[22m\u001b[39m\u001b[36m\u001b[1mInfo: \u001b[22m\u001b[39mLoss:\n",
      "\u001b[36m\u001b[1m│ \u001b[22m\u001b[39m  train = 19.32555260109796\n",
      "\u001b[36m\u001b[1m└ \u001b[22m\u001b[39m  test = 4.958072749527543\n",
      "\u001b[36m\u001b[1m┌ \u001b[22m\u001b[39m\u001b[36m\u001b[1mInfo: \u001b[22m\u001b[39mSaving coefficients! Test loss is equal to :\n",
      "\u001b[36m\u001b[1m└ \u001b[22m\u001b[39m  test = 4.958072749527543\n"
     ]
    },
    {
     "name": "stdout",
     "output_type": "stream",
     "text": [
      " 52.303433 seconds (1.36 k allocations: 45.891 KiB)\n"
     ]
    },
    {
     "name": "stderr",
     "output_type": "stream",
     "text": [
      "\u001b[36m\u001b[1m┌ \u001b[22m\u001b[39m\u001b[36m\u001b[1mInfo: \u001b[22m\u001b[39mLoss:\n",
      "\u001b[36m\u001b[1m│ \u001b[22m\u001b[39m  train = 19.21059950073772\n",
      "\u001b[36m\u001b[1m└ \u001b[22m\u001b[39m  test = 4.928081900145551\n",
      "\u001b[36m\u001b[1m┌ \u001b[22m\u001b[39m\u001b[36m\u001b[1mInfo: \u001b[22m\u001b[39mSaving coefficients! Test loss is equal to :\n",
      "\u001b[36m\u001b[1m└ \u001b[22m\u001b[39m  test = 4.928081900145551\n"
     ]
    },
    {
     "name": "stdout",
     "output_type": "stream",
     "text": [
      " 55.122667 seconds (1.96 k allocations: 64.797 KiB)\n"
     ]
    },
    {
     "name": "stderr",
     "output_type": "stream",
     "text": [
      "\u001b[36m\u001b[1m┌ \u001b[22m\u001b[39m\u001b[36m\u001b[1mInfo: \u001b[22m\u001b[39mLoss:\n",
      "\u001b[36m\u001b[1m│ \u001b[22m\u001b[39m  train = 19.095472645647042\n",
      "\u001b[36m\u001b[1m└ \u001b[22m\u001b[39m  test = 4.898190201166012\n",
      "\u001b[36m\u001b[1m┌ \u001b[22m\u001b[39m\u001b[36m\u001b[1mInfo: \u001b[22m\u001b[39mSaving coefficients! Test loss is equal to :\n",
      "\u001b[36m\u001b[1m└ \u001b[22m\u001b[39m  test = 4.898190201166012\n"
     ]
    },
    {
     "name": "stdout",
     "output_type": "stream",
     "text": [
      " 57.361017 seconds (2.43 k allocations: 79.266 KiB)\n"
     ]
    },
    {
     "name": "stderr",
     "output_type": "stream",
     "text": [
      "\u001b[36m\u001b[1m┌ \u001b[22m\u001b[39m\u001b[36m\u001b[1mInfo: \u001b[22m\u001b[39mLoss:\n",
      "\u001b[36m\u001b[1m│ \u001b[22m\u001b[39m  train = 18.981010379908184\n",
      "\u001b[36m\u001b[1m└ \u001b[22m\u001b[39m  test = 4.868208915284318\n",
      "\u001b[36m\u001b[1m┌ \u001b[22m\u001b[39m\u001b[36m\u001b[1mInfo: \u001b[22m\u001b[39mSaving coefficients! Test loss is equal to :\n",
      "\u001b[36m\u001b[1m└ \u001b[22m\u001b[39m  test = 4.868208915284318\n"
     ]
    },
    {
     "name": "stdout",
     "output_type": "stream",
     "text": [
      " 54.927676 seconds (1.92 k allocations: 63.188 KiB)\n"
     ]
    },
    {
     "name": "stderr",
     "output_type": "stream",
     "text": [
      "\u001b[36m\u001b[1m┌ \u001b[22m\u001b[39m\u001b[36m\u001b[1mInfo: \u001b[22m\u001b[39mLoss:\n",
      "\u001b[36m\u001b[1m│ \u001b[22m\u001b[39m  train = 18.86748180386232\n",
      "\u001b[36m\u001b[1m└ \u001b[22m\u001b[39m  test = 4.838720574036815\n",
      "\u001b[36m\u001b[1m┌ \u001b[22m\u001b[39m\u001b[36m\u001b[1mInfo: \u001b[22m\u001b[39mSaving coefficients! Test loss is equal to :\n",
      "\u001b[36m\u001b[1m└ \u001b[22m\u001b[39m  test = 4.838720574036815\n"
     ]
    },
    {
     "name": "stdout",
     "output_type": "stream",
     "text": [
      " 56.046363 seconds (2.15 k allocations: 70.422 KiB)\n"
     ]
    },
    {
     "name": "stderr",
     "output_type": "stream",
     "text": [
      "\u001b[36m\u001b[1m┌ \u001b[22m\u001b[39m\u001b[36m\u001b[1mInfo: \u001b[22m\u001b[39mLoss:\n",
      "\u001b[36m\u001b[1m│ \u001b[22m\u001b[39m  train = 18.758927613572776\n",
      "\u001b[36m\u001b[1m└ \u001b[22m\u001b[39m  test = 4.810675338852578\n",
      "\u001b[36m\u001b[1m┌ \u001b[22m\u001b[39m\u001b[36m\u001b[1mInfo: \u001b[22m\u001b[39mSaving coefficients! Test loss is equal to :\n",
      "\u001b[36m\u001b[1m└ \u001b[22m\u001b[39m  test = 4.810675338852578\n"
     ]
    },
    {
     "name": "stdout",
     "output_type": "stream",
     "text": [
      " 51.614330 seconds (1.19 k allocations: 40.641 KiB)\n"
     ]
    },
    {
     "name": "stderr",
     "output_type": "stream",
     "text": [
      "\u001b[36m\u001b[1m┌ \u001b[22m\u001b[39m\u001b[36m\u001b[1mInfo: \u001b[22m\u001b[39mLoss:\n",
      "\u001b[36m\u001b[1m│ \u001b[22m\u001b[39m  train = 18.64667306242371\n",
      "\u001b[36m\u001b[1m└ \u001b[22m\u001b[39m  test = 4.781548693143958\n",
      "\u001b[36m\u001b[1m┌ \u001b[22m\u001b[39m\u001b[36m\u001b[1mInfo: \u001b[22m\u001b[39mSaving coefficients! Test loss is equal to :\n",
      "\u001b[36m\u001b[1m└ \u001b[22m\u001b[39m  test = 4.781548693143958\n"
     ]
    },
    {
     "name": "stdout",
     "output_type": "stream",
     "text": [
      " 53.159341 seconds (1.54 k allocations: 51.422 KiB)\n"
     ]
    },
    {
     "name": "stderr",
     "output_type": "stream",
     "text": [
      "\u001b[36m\u001b[1m┌ \u001b[22m\u001b[39m\u001b[36m\u001b[1mInfo: \u001b[22m\u001b[39mLoss:\n",
      "\u001b[36m\u001b[1m│ \u001b[22m\u001b[39m  train = 18.533613134719964\n",
      "\u001b[36m\u001b[1m└ \u001b[22m\u001b[39m  test = 4.752065470883648\n",
      "\u001b[36m\u001b[1m┌ \u001b[22m\u001b[39m\u001b[36m\u001b[1mInfo: \u001b[22m\u001b[39mSaving coefficients! Test loss is equal to :\n",
      "\u001b[36m\u001b[1m└ \u001b[22m\u001b[39m  test = 4.752065470883648\n"
     ]
    },
    {
     "name": "stdout",
     "output_type": "stream",
     "text": [
      " 50.993067 seconds (1.16 k allocations: 39.438 KiB)\n"
     ]
    },
    {
     "name": "stderr",
     "output_type": "stream",
     "text": [
      "\u001b[36m\u001b[1m┌ \u001b[22m\u001b[39m\u001b[36m\u001b[1mInfo: \u001b[22m\u001b[39mLoss:\n",
      "\u001b[36m\u001b[1m│ \u001b[22m\u001b[39m  train = 18.42722732984506\n",
      "\u001b[36m\u001b[1m└ \u001b[22m\u001b[39m  test = 4.724389193530869\n",
      "\u001b[36m\u001b[1m┌ \u001b[22m\u001b[39m\u001b[36m\u001b[1mInfo: \u001b[22m\u001b[39mSaving coefficients! Test loss is equal to :\n",
      "\u001b[36m\u001b[1m└ \u001b[22m\u001b[39m  test = 4.724389193530869\n"
     ]
    },
    {
     "name": "stdout",
     "output_type": "stream",
     "text": [
      " 55.510257 seconds (2.04 k allocations: 66.906 KiB)\n"
     ]
    },
    {
     "name": "stderr",
     "output_type": "stream",
     "text": [
      "\u001b[36m\u001b[1m┌ \u001b[22m\u001b[39m\u001b[36m\u001b[1mInfo: \u001b[22m\u001b[39mLoss:\n",
      "\u001b[36m\u001b[1m│ \u001b[22m\u001b[39m  train = 18.324346132960635\n",
      "\u001b[36m\u001b[1m└ \u001b[22m\u001b[39m  test = 4.697571613921378\n",
      "\u001b[36m\u001b[1m┌ \u001b[22m\u001b[39m\u001b[36m\u001b[1mInfo: \u001b[22m\u001b[39mSaving coefficients! Test loss is equal to :\n",
      "\u001b[36m\u001b[1m└ \u001b[22m\u001b[39m  test = 4.697571613921378\n"
     ]
    },
    {
     "name": "stdout",
     "output_type": "stream",
     "text": [
      " 54.285736 seconds (1.76 k allocations: 58.516 KiB)\n"
     ]
    },
    {
     "name": "stderr",
     "output_type": "stream",
     "text": [
      "\u001b[36m\u001b[1m┌ \u001b[22m\u001b[39m\u001b[36m\u001b[1mInfo: \u001b[22m\u001b[39mLoss:\n",
      "\u001b[36m\u001b[1m│ \u001b[22m\u001b[39m  train = 18.19717405236304\n",
      "\u001b[36m\u001b[1m└ \u001b[22m\u001b[39m  test = 4.664641137449356\n",
      "\u001b[36m\u001b[1m┌ \u001b[22m\u001b[39m\u001b[36m\u001b[1mInfo: \u001b[22m\u001b[39mSaving coefficients! Test loss is equal to :\n",
      "\u001b[36m\u001b[1m└ \u001b[22m\u001b[39m  test = 4.664641137449356\n"
     ]
    },
    {
     "name": "stdout",
     "output_type": "stream",
     "text": [
      " 53.319560 seconds (1.57 k allocations: 52.703 KiB)\n"
     ]
    },
    {
     "name": "stderr",
     "output_type": "stream",
     "text": [
      "\u001b[36m\u001b[1m┌ \u001b[22m\u001b[39m\u001b[36m\u001b[1mInfo: \u001b[22m\u001b[39mLoss:\n",
      "\u001b[36m\u001b[1m│ \u001b[22m\u001b[39m  train = 18.095138644430023\n",
      "\u001b[36m\u001b[1m└ \u001b[22m\u001b[39m  test = 4.637798719725052\n",
      "\u001b[36m\u001b[1m┌ \u001b[22m\u001b[39m\u001b[36m\u001b[1mInfo: \u001b[22m\u001b[39mSaving coefficients! Test loss is equal to :\n",
      "\u001b[36m\u001b[1m└ \u001b[22m\u001b[39m  test = 4.637798719725052\n"
     ]
    },
    {
     "name": "stdout",
     "output_type": "stream",
     "text": [
      " 52.396849 seconds (1.45 k allocations: 48.656 KiB)\n"
     ]
    },
    {
     "name": "stderr",
     "output_type": "stream",
     "text": [
      "\u001b[36m\u001b[1m┌ \u001b[22m\u001b[39m\u001b[36m\u001b[1mInfo: \u001b[22m\u001b[39mLoss:\n",
      "\u001b[36m\u001b[1m│ \u001b[22m\u001b[39m  train = 17.988311680049236\n",
      "\u001b[36m\u001b[1m└ \u001b[22m\u001b[39m  test = 4.610216466215771\n",
      "\u001b[36m\u001b[1m┌ \u001b[22m\u001b[39m\u001b[36m\u001b[1mInfo: \u001b[22m\u001b[39mSaving coefficients! Test loss is equal to :\n",
      "\u001b[36m\u001b[1m└ \u001b[22m\u001b[39m  test = 4.610216466215771\n"
     ]
    },
    {
     "name": "stdout",
     "output_type": "stream",
     "text": [
      " 54.282276 seconds (1.78 k allocations: 58.969 KiB)\n"
     ]
    },
    {
     "name": "stderr",
     "output_type": "stream",
     "text": [
      "\u001b[36m\u001b[1m┌ \u001b[22m\u001b[39m\u001b[36m\u001b[1mInfo: \u001b[22m\u001b[39mLoss:\n",
      "\u001b[36m\u001b[1m│ \u001b[22m\u001b[39m  train = 17.87609723057327\n",
      "\u001b[36m\u001b[1m└ \u001b[22m\u001b[39m  test = 4.580888466359514\n",
      "\u001b[36m\u001b[1m┌ \u001b[22m\u001b[39m\u001b[36m\u001b[1mInfo: \u001b[22m\u001b[39mSaving coefficients! Test loss is equal to :\n",
      "\u001b[36m\u001b[1m└ \u001b[22m\u001b[39m  test = 4.580888466359514\n"
     ]
    },
    {
     "name": "stdout",
     "output_type": "stream",
     "text": [
      " 53.674348 seconds (1.61 k allocations: 53.469 KiB)\n"
     ]
    },
    {
     "name": "stderr",
     "output_type": "stream",
     "text": [
      "\u001b[36m\u001b[1m┌ \u001b[22m\u001b[39m\u001b[36m\u001b[1mInfo: \u001b[22m\u001b[39mLoss:\n",
      "\u001b[36m\u001b[1m│ \u001b[22m\u001b[39m  train = 17.776591508495507\n",
      "\u001b[36m\u001b[1m└ \u001b[22m\u001b[39m  test = 4.555518568885306\n",
      "\u001b[36m\u001b[1m┌ \u001b[22m\u001b[39m\u001b[36m\u001b[1mInfo: \u001b[22m\u001b[39mSaving coefficients! Test loss is equal to :\n",
      "\u001b[36m\u001b[1m└ \u001b[22m\u001b[39m  test = 4.555518568885306\n"
     ]
    },
    {
     "name": "stdout",
     "output_type": "stream",
     "text": [
      " 50.696572 seconds (1.15 k allocations: 39.375 KiB)\n"
     ]
    },
    {
     "name": "stderr",
     "output_type": "stream",
     "text": [
      "\u001b[36m\u001b[1m┌ \u001b[22m\u001b[39m\u001b[36m\u001b[1mInfo: \u001b[22m\u001b[39mLoss:\n",
      "\u001b[36m\u001b[1m│ \u001b[22m\u001b[39m  train = 17.6806146023027\n",
      "\u001b[36m\u001b[1m└ \u001b[22m\u001b[39m  test = 4.530364726486081\n",
      "\u001b[36m\u001b[1m┌ \u001b[22m\u001b[39m\u001b[36m\u001b[1mInfo: \u001b[22m\u001b[39mSaving coefficients! Test loss is equal to :\n",
      "\u001b[36m\u001b[1m└ \u001b[22m\u001b[39m  test = 4.530364726486081\n"
     ]
    },
    {
     "name": "stdout",
     "output_type": "stream",
     "text": [
      " 52.041499 seconds (1.33 k allocations: 45.016 KiB)\n"
     ]
    },
    {
     "name": "stderr",
     "output_type": "stream",
     "text": [
      "\u001b[36m\u001b[1m┌ \u001b[22m\u001b[39m\u001b[36m\u001b[1mInfo: \u001b[22m\u001b[39mLoss:\n",
      "\u001b[36m\u001b[1m│ \u001b[22m\u001b[39m  train = 17.584387969632765\n",
      "\u001b[36m\u001b[1m└ \u001b[22m\u001b[39m  test = 4.505257807249604\n",
      "\u001b[36m\u001b[1m┌ \u001b[22m\u001b[39m\u001b[36m\u001b[1mInfo: \u001b[22m\u001b[39mSaving coefficients! Test loss is equal to :\n",
      "\u001b[36m\u001b[1m└ \u001b[22m\u001b[39m  test = 4.505257807249604\n"
     ]
    },
    {
     "name": "stdout",
     "output_type": "stream",
     "text": [
      " 54.987252 seconds (1.97 k allocations: 64.812 KiB)\n"
     ]
    },
    {
     "name": "stderr",
     "output_type": "stream",
     "text": [
      "\u001b[36m\u001b[1m┌ \u001b[22m\u001b[39m\u001b[36m\u001b[1mInfo: \u001b[22m\u001b[39mLoss:\n",
      "\u001b[36m\u001b[1m│ \u001b[22m\u001b[39m  train = 17.488537077410783\n",
      "\u001b[36m\u001b[1m└ \u001b[22m\u001b[39m  test = 4.480456390482333\n",
      "\u001b[36m\u001b[1m┌ \u001b[22m\u001b[39m\u001b[36m\u001b[1mInfo: \u001b[22m\u001b[39mSaving coefficients! Test loss is equal to :\n",
      "\u001b[36m\u001b[1m└ \u001b[22m\u001b[39m  test = 4.480456390482333\n"
     ]
    },
    {
     "name": "stdout",
     "output_type": "stream",
     "text": [
      " 52.913630 seconds (1.48 k allocations: 49.750 KiB)\n"
     ]
    },
    {
     "name": "stderr",
     "output_type": "stream",
     "text": [
      "\u001b[36m\u001b[1m┌ \u001b[22m\u001b[39m\u001b[36m\u001b[1mInfo: \u001b[22m\u001b[39mLoss:\n",
      "\u001b[36m\u001b[1m│ \u001b[22m\u001b[39m  train = 17.38988722411088\n",
      "\u001b[36m\u001b[1m└ \u001b[22m\u001b[39m  test = 4.454886357469092\n",
      "\u001b[36m\u001b[1m┌ \u001b[22m\u001b[39m\u001b[36m\u001b[1mInfo: \u001b[22m\u001b[39mSaving coefficients! Test loss is equal to :\n",
      "\u001b[36m\u001b[1m└ \u001b[22m\u001b[39m  test = 4.454886357469092\n"
     ]
    },
    {
     "name": "stdout",
     "output_type": "stream",
     "text": [
      " 53.664478 seconds (1.68 k allocations: 55.797 KiB)\n"
     ]
    },
    {
     "name": "stderr",
     "output_type": "stream",
     "text": [
      "\u001b[36m\u001b[1m┌ \u001b[22m\u001b[39m\u001b[36m\u001b[1mInfo: \u001b[22m\u001b[39mLoss:\n",
      "\u001b[36m\u001b[1m│ \u001b[22m\u001b[39m  train = 17.298224919580917\n",
      "\u001b[36m\u001b[1m└ \u001b[22m\u001b[39m  test = 4.431236629367563\n",
      "\u001b[36m\u001b[1m┌ \u001b[22m\u001b[39m\u001b[36m\u001b[1mInfo: \u001b[22m\u001b[39mSaving coefficients! Test loss is equal to :\n",
      "\u001b[36m\u001b[1m└ \u001b[22m\u001b[39m  test = 4.431236629367563\n"
     ]
    },
    {
     "name": "stdout",
     "output_type": "stream",
     "text": [
      " 52.605713 seconds (1.43 k allocations: 47.953 KiB)\n"
     ]
    },
    {
     "name": "stderr",
     "output_type": "stream",
     "text": [
      "\u001b[36m\u001b[1m┌ \u001b[22m\u001b[39m\u001b[36m\u001b[1mInfo: \u001b[22m\u001b[39mLoss:\n",
      "\u001b[36m\u001b[1m│ \u001b[22m\u001b[39m  train = 17.200911310048944\n",
      "\u001b[36m\u001b[1m└ \u001b[22m\u001b[39m  test = 4.405931629108965\n",
      "\u001b[36m\u001b[1m┌ \u001b[22m\u001b[39m\u001b[36m\u001b[1mInfo: \u001b[22m\u001b[39mSaving coefficients! Test loss is equal to :\n",
      "\u001b[36m\u001b[1m└ \u001b[22m\u001b[39m  test = 4.405931629108965\n"
     ]
    },
    {
     "name": "stdout",
     "output_type": "stream",
     "text": [
      " 57.157229 seconds (2.41 k allocations: 78.641 KiB)\n"
     ]
    },
    {
     "name": "stderr",
     "output_type": "stream",
     "text": [
      "\u001b[36m\u001b[1m┌ \u001b[22m\u001b[39m\u001b[36m\u001b[1mInfo: \u001b[22m\u001b[39mLoss:\n",
      "\u001b[36m\u001b[1m│ \u001b[22m\u001b[39m  train = 17.110071208348252\n",
      "\u001b[36m\u001b[1m└ \u001b[22m\u001b[39m  test = 4.382468946799436\n",
      "\u001b[36m\u001b[1m┌ \u001b[22m\u001b[39m\u001b[36m\u001b[1mInfo: \u001b[22m\u001b[39mSaving coefficients! Test loss is equal to :\n",
      "\u001b[36m\u001b[1m└ \u001b[22m\u001b[39m  test = 4.382468946799436\n"
     ]
    },
    {
     "name": "stdout",
     "output_type": "stream",
     "text": [
      " 52.134852 seconds (1.43 k allocations: 48.062 KiB)\n"
     ]
    },
    {
     "name": "stderr",
     "output_type": "stream",
     "text": [
      "\u001b[36m\u001b[1m┌ \u001b[22m\u001b[39m\u001b[36m\u001b[1mInfo: \u001b[22m\u001b[39mLoss:\n",
      "\u001b[36m\u001b[1m│ \u001b[22m\u001b[39m  train = 17.01915260170597\n",
      "\u001b[36m\u001b[1m└ \u001b[22m\u001b[39m  test = 4.35871110406515\n",
      "\u001b[36m\u001b[1m┌ \u001b[22m\u001b[39m\u001b[36m\u001b[1mInfo: \u001b[22m\u001b[39mSaving coefficients! Test loss is equal to :\n",
      "\u001b[36m\u001b[1m└ \u001b[22m\u001b[39m  test = 4.35871110406515\n"
     ]
    },
    {
     "name": "stdout",
     "output_type": "stream",
     "text": [
      " 51.275803 seconds (1.17 k allocations: 39.859 KiB)\n"
     ]
    },
    {
     "name": "stderr",
     "output_type": "stream",
     "text": [
      "\u001b[36m\u001b[1m┌ \u001b[22m\u001b[39m\u001b[36m\u001b[1mInfo: \u001b[22m\u001b[39mLoss:\n",
      "\u001b[36m\u001b[1m│ \u001b[22m\u001b[39m  train = 16.929066361188426\n",
      "\u001b[36m\u001b[1m└ \u001b[22m\u001b[39m  test = 4.335520488138971\n",
      "\u001b[36m\u001b[1m┌ \u001b[22m\u001b[39m\u001b[36m\u001b[1mInfo: \u001b[22m\u001b[39mSaving coefficients! Test loss is equal to :\n",
      "\u001b[36m\u001b[1m└ \u001b[22m\u001b[39m  test = 4.335520488138971\n"
     ]
    },
    {
     "name": "stdout",
     "output_type": "stream",
     "text": [
      " 52.672463 seconds (1.47 k allocations: 49.234 KiB)\n"
     ]
    },
    {
     "name": "stderr",
     "output_type": "stream",
     "text": [
      "\u001b[36m\u001b[1m┌ \u001b[22m\u001b[39m\u001b[36m\u001b[1mInfo: \u001b[22m\u001b[39mLoss:\n",
      "\u001b[36m\u001b[1m│ \u001b[22m\u001b[39m  train = 16.842353075317426\n",
      "\u001b[36m\u001b[1m└ \u001b[22m\u001b[39m  test = 4.3130544024186275\n",
      "\u001b[36m\u001b[1m┌ \u001b[22m\u001b[39m\u001b[36m\u001b[1mInfo: \u001b[22m\u001b[39mSaving coefficients! Test loss is equal to :\n",
      "\u001b[36m\u001b[1m└ \u001b[22m\u001b[39m  test = 4.3130544024186275\n"
     ]
    },
    {
     "name": "stdout",
     "output_type": "stream",
     "text": [
      " 51.828288 seconds (1.33 k allocations: 44.938 KiB)\n"
     ]
    },
    {
     "name": "stderr",
     "output_type": "stream",
     "text": [
      "\u001b[36m\u001b[1m┌ \u001b[22m\u001b[39m\u001b[36m\u001b[1mInfo: \u001b[22m\u001b[39mLoss:\n",
      "\u001b[36m\u001b[1m│ \u001b[22m\u001b[39m  train = 16.752138762581637\n",
      "\u001b[36m\u001b[1m└ \u001b[22m\u001b[39m  test = 4.289691255005948\n",
      "\u001b[36m\u001b[1m┌ \u001b[22m\u001b[39m\u001b[36m\u001b[1mInfo: \u001b[22m\u001b[39mSaving coefficients! Test loss is equal to :\n",
      "\u001b[36m\u001b[1m└ \u001b[22m\u001b[39m  test = 4.289691255005948\n"
     ]
    },
    {
     "name": "stdout",
     "output_type": "stream",
     "text": [
      " 51.379667 seconds (1.20 k allocations: 40.531 KiB)\n"
     ]
    },
    {
     "name": "stderr",
     "output_type": "stream",
     "text": [
      "\u001b[36m\u001b[1m┌ \u001b[22m\u001b[39m\u001b[36m\u001b[1mInfo: \u001b[22m\u001b[39mLoss:\n",
      "\u001b[36m\u001b[1m│ \u001b[22m\u001b[39m  train = 16.66319604242753\n",
      "\u001b[36m\u001b[1m└ \u001b[22m\u001b[39m  test = 4.266728704174495\n",
      "\u001b[36m\u001b[1m┌ \u001b[22m\u001b[39m\u001b[36m\u001b[1mInfo: \u001b[22m\u001b[39mSaving coefficients! Test loss is equal to :\n",
      "\u001b[36m\u001b[1m└ \u001b[22m\u001b[39m  test = 4.266728704174495\n"
     ]
    },
    {
     "name": "stdout",
     "output_type": "stream",
     "text": [
      " 52.244407 seconds (1.39 k allocations: 46.594 KiB)\n"
     ]
    },
    {
     "name": "stderr",
     "output_type": "stream",
     "text": [
      "\u001b[36m\u001b[1m┌ \u001b[22m\u001b[39m\u001b[36m\u001b[1mInfo: \u001b[22m\u001b[39mLoss:\n",
      "\u001b[36m\u001b[1m│ \u001b[22m\u001b[39m  train = 16.577528145801793\n",
      "\u001b[36m\u001b[1m└ \u001b[22m\u001b[39m  test = 4.2443400218446605\n",
      "\u001b[36m\u001b[1m┌ \u001b[22m\u001b[39m\u001b[36m\u001b[1mInfo: \u001b[22m\u001b[39mSaving coefficients! Test loss is equal to :\n",
      "\u001b[36m\u001b[1m└ \u001b[22m\u001b[39m  test = 4.2443400218446605\n"
     ]
    },
    {
     "name": "stdout",
     "output_type": "stream",
     "text": [
      " 53.796466 seconds (1.69 k allocations: 55.875 KiB)\n"
     ]
    },
    {
     "name": "stderr",
     "output_type": "stream",
     "text": [
      "\u001b[36m\u001b[1m┌ \u001b[22m\u001b[39m\u001b[36m\u001b[1mInfo: \u001b[22m\u001b[39mLoss:\n",
      "\u001b[36m\u001b[1m│ \u001b[22m\u001b[39m  train = 16.49234607689716\n",
      "\u001b[36m\u001b[1m└ \u001b[22m\u001b[39m  test = 4.222148921319259\n",
      "\u001b[36m\u001b[1m┌ \u001b[22m\u001b[39m\u001b[36m\u001b[1mInfo: \u001b[22m\u001b[39mSaving coefficients! Test loss is equal to :\n",
      "\u001b[36m\u001b[1m└ \u001b[22m\u001b[39m  test = 4.222148921319259\n"
     ]
    },
    {
     "name": "stdout",
     "output_type": "stream",
     "text": [
      " 51.854023 seconds (1.29 k allocations: 43.344 KiB)\n"
     ]
    },
    {
     "name": "stderr",
     "output_type": "stream",
     "text": [
      "\u001b[36m\u001b[1m┌ \u001b[22m\u001b[39m\u001b[36m\u001b[1mInfo: \u001b[22m\u001b[39mLoss:\n",
      "\u001b[36m\u001b[1m│ \u001b[22m\u001b[39m  train = 16.406455690367274\n",
      "\u001b[36m\u001b[1m└ \u001b[22m\u001b[39m  test = 4.200120404573278\n",
      "\u001b[36m\u001b[1m┌ \u001b[22m\u001b[39m\u001b[36m\u001b[1mInfo: \u001b[22m\u001b[39mSaving coefficients! Test loss is equal to :\n",
      "\u001b[36m\u001b[1m└ \u001b[22m\u001b[39m  test = 4.200120404573278\n"
     ]
    },
    {
     "name": "stdout",
     "output_type": "stream",
     "text": [
      " 52.769397 seconds (1.48 k allocations: 49.250 KiB)\n"
     ]
    },
    {
     "name": "stderr",
     "output_type": "stream",
     "text": [
      "\u001b[36m\u001b[1m┌ \u001b[22m\u001b[39m\u001b[36m\u001b[1mInfo: \u001b[22m\u001b[39mLoss:\n",
      "\u001b[36m\u001b[1m│ \u001b[22m\u001b[39m  train = 16.31705160491736\n",
      "\u001b[36m\u001b[1m└ \u001b[22m\u001b[39m  test = 4.1769621147961455\n",
      "\u001b[36m\u001b[1m┌ \u001b[22m\u001b[39m\u001b[36m\u001b[1mInfo: \u001b[22m\u001b[39mSaving coefficients! Test loss is equal to :\n",
      "\u001b[36m\u001b[1m└ \u001b[22m\u001b[39m  test = 4.1769621147961455\n"
     ]
    },
    {
     "name": "stdout",
     "output_type": "stream",
     "text": [
      " 51.623752 seconds (1.25 k allocations: 42.125 KiB)\n"
     ]
    },
    {
     "name": "stderr",
     "output_type": "stream",
     "text": [
      "\u001b[36m\u001b[1m┌ \u001b[22m\u001b[39m\u001b[36m\u001b[1mInfo: \u001b[22m\u001b[39mLoss:\n",
      "\u001b[36m\u001b[1m│ \u001b[22m\u001b[39m  train = 16.23549914020398\n",
      "\u001b[36m\u001b[1m└ \u001b[22m\u001b[39m  test = 4.155849998403132\n",
      "\u001b[36m\u001b[1m┌ \u001b[22m\u001b[39m\u001b[36m\u001b[1mInfo: \u001b[22m\u001b[39mSaving coefficients! Test loss is equal to :\n",
      "\u001b[36m\u001b[1m└ \u001b[22m\u001b[39m  test = 4.155849998403132\n"
     ]
    }
   ],
   "source": [
    "p = npzread(\"weights_\"*Cℓkind*\"_lcdm.npy\")# if you don't have any weights, comment this line\n",
    "initial_test_loss = mlpdtest(Xtest, p)\n",
    "println(\"Initial Loss: \",initial_test_loss)\n",
    "\n",
    "for i in 1:50\n",
    "    @time SimpleChains.train_unbatched!(\n",
    "    G, p, mlpdloss, X, SimpleChains.ADAM(3e-5), 500   #η = 1e-4\n",
    "  );\n",
    "    report(p)\n",
    "    test = mlpdtest(Xtest, p)\n",
    "    if initial_test_loss > test\n",
    "        npzwrite(\"weights_\"*Cℓkind*\"_lcdm.npy\", p)\n",
    "        initial_test_loss = test\n",
    "        @info \"Saving coefficients! Test loss is equal to :\" test\n",
    "    end\n",
    "end"
   ]
  },
  {
   "cell_type": "code",
   "execution_count": 24,
   "metadata": {},
   "outputs": [
    {
     "name": "stdout",
     "output_type": "stream",
     "text": [
      "Initial Loss: 4.155849998403132\n",
      " 52.917936 seconds (1.53 k allocations: 50.250 KiB)\n"
     ]
    },
    {
     "name": "stderr",
     "output_type": "stream",
     "text": [
      "\u001b[36m\u001b[1m┌ \u001b[22m\u001b[39m\u001b[36m\u001b[1mInfo: \u001b[22m\u001b[39mLoss:\n",
      "\u001b[36m\u001b[1m│ \u001b[22m\u001b[39m  train = 16.186188397394208\n",
      "\u001b[36m\u001b[1m└ \u001b[22m\u001b[39m  test = 4.142972171967605\n",
      "\u001b[36m\u001b[1m┌ \u001b[22m\u001b[39m\u001b[36m\u001b[1mInfo: \u001b[22m\u001b[39mSaving coefficients! Test loss is equal to :\n",
      "\u001b[36m\u001b[1m└ \u001b[22m\u001b[39m  test = 4.142972171967605\n"
     ]
    },
    {
     "name": "stdout",
     "output_type": "stream",
     "text": [
      " 51.574564 seconds (1.27 k allocations: 43.125 KiB)\n"
     ]
    },
    {
     "name": "stderr",
     "output_type": "stream",
     "text": [
      "\u001b[36m\u001b[1m┌ \u001b[22m\u001b[39m\u001b[36m\u001b[1mInfo: \u001b[22m\u001b[39mLoss:\n",
      "\u001b[36m\u001b[1m│ \u001b[22m\u001b[39m  train = 16.138745214538073\n",
      "\u001b[36m\u001b[1m└ \u001b[22m\u001b[39m  test = 4.1305590588076235\n",
      "\u001b[36m\u001b[1m┌ \u001b[22m\u001b[39m\u001b[36m\u001b[1mInfo: \u001b[22m\u001b[39mSaving coefficients! Test loss is equal to :\n",
      "\u001b[36m\u001b[1m└ \u001b[22m\u001b[39m  test = 4.1305590588076235\n"
     ]
    },
    {
     "name": "stdout",
     "output_type": "stream",
     "text": [
      " 52.777043 seconds (1.35 k allocations: 46.297 KiB)\n"
     ]
    },
    {
     "name": "stderr",
     "output_type": "stream",
     "text": [
      "\u001b[36m\u001b[1m┌ \u001b[22m\u001b[39m\u001b[36m\u001b[1mInfo: \u001b[22m\u001b[39mLoss:\n",
      "\u001b[36m\u001b[1m│ \u001b[22m\u001b[39m  train = 16.09058172817133\n",
      "\u001b[36m\u001b[1m└ \u001b[22m\u001b[39m  test = 4.118052607602739\n",
      "\u001b[36m\u001b[1m┌ \u001b[22m\u001b[39m\u001b[36m\u001b[1mInfo: \u001b[22m\u001b[39mSaving coefficients! Test loss is equal to :\n",
      "\u001b[36m\u001b[1m└ \u001b[22m\u001b[39m  test = 4.118052607602739\n"
     ]
    },
    {
     "name": "stdout",
     "output_type": "stream",
     "text": [
      " 53.274576 seconds (1.57 k allocations: 52.375 KiB)\n"
     ]
    },
    {
     "name": "stderr",
     "output_type": "stream",
     "text": [
      "\u001b[36m\u001b[1m┌ \u001b[22m\u001b[39m\u001b[36m\u001b[1mInfo: \u001b[22m\u001b[39mLoss:\n",
      "\u001b[36m\u001b[1m│ \u001b[22m\u001b[39m  train = 16.041258338651673\n",
      "\u001b[36m\u001b[1m└ \u001b[22m\u001b[39m  test = 4.105214241381756\n",
      "\u001b[36m\u001b[1m┌ \u001b[22m\u001b[39m\u001b[36m\u001b[1mInfo: \u001b[22m\u001b[39mSaving coefficients! Test loss is equal to :\n",
      "\u001b[36m\u001b[1m└ \u001b[22m\u001b[39m  test = 4.105214241381756\n"
     ]
    },
    {
     "name": "stdout",
     "output_type": "stream",
     "text": [
      " 54.054226 seconds (1.78 k allocations: 58.969 KiB)\n"
     ]
    },
    {
     "name": "stderr",
     "output_type": "stream",
     "text": [
      "\u001b[36m\u001b[1m┌ \u001b[22m\u001b[39m\u001b[36m\u001b[1mInfo: \u001b[22m\u001b[39mLoss:\n",
      "\u001b[36m\u001b[1m│ \u001b[22m\u001b[39m  train = 15.991260454766046\n",
      "\u001b[36m\u001b[1m└ \u001b[22m\u001b[39m  test = 4.09222233574685\n",
      "\u001b[36m\u001b[1m┌ \u001b[22m\u001b[39m\u001b[36m\u001b[1mInfo: \u001b[22m\u001b[39mSaving coefficients! Test loss is equal to :\n",
      "\u001b[36m\u001b[1m└ \u001b[22m\u001b[39m  test = 4.09222233574685\n"
     ]
    },
    {
     "name": "stdout",
     "output_type": "stream",
     "text": [
      " 51.243681 seconds (1.17 k allocations: 40.078 KiB)\n"
     ]
    },
    {
     "name": "stderr",
     "output_type": "stream",
     "text": [
      "\u001b[36m\u001b[1m┌ \u001b[22m\u001b[39m\u001b[36m\u001b[1mInfo: \u001b[22m\u001b[39mLoss:\n",
      "\u001b[36m\u001b[1m│ \u001b[22m\u001b[39m  train = 15.943807435885837\n",
      "\u001b[36m\u001b[1m└ \u001b[22m\u001b[39m  test = 4.079884086745707\n",
      "\u001b[36m\u001b[1m┌ \u001b[22m\u001b[39m\u001b[36m\u001b[1mInfo: \u001b[22m\u001b[39mSaving coefficients! Test loss is equal to :\n",
      "\u001b[36m\u001b[1m└ \u001b[22m\u001b[39m  test = 4.079884086745707\n"
     ]
    },
    {
     "name": "stdout",
     "output_type": "stream",
     "text": [
      " 55.249691 seconds (1.98 k allocations: 65.141 KiB)\n"
     ]
    },
    {
     "name": "stderr",
     "output_type": "stream",
     "text": [
      "\u001b[36m\u001b[1m┌ \u001b[22m\u001b[39m\u001b[36m\u001b[1mInfo: \u001b[22m\u001b[39mLoss:\n",
      "\u001b[36m\u001b[1m│ \u001b[22m\u001b[39m  train = 15.896219974502282\n",
      "\u001b[36m\u001b[1m└ \u001b[22m\u001b[39m  test = 4.0674836121565425\n",
      "\u001b[36m\u001b[1m┌ \u001b[22m\u001b[39m\u001b[36m\u001b[1mInfo: \u001b[22m\u001b[39mSaving coefficients! Test loss is equal to :\n",
      "\u001b[36m\u001b[1m└ \u001b[22m\u001b[39m  test = 4.0674836121565425\n"
     ]
    },
    {
     "name": "stdout",
     "output_type": "stream",
     "text": [
      " 51.776412 seconds (1.26 k allocations: 42.672 KiB)\n"
     ]
    },
    {
     "name": "stderr",
     "output_type": "stream",
     "text": [
      "\u001b[36m\u001b[1m┌ \u001b[22m\u001b[39m\u001b[36m\u001b[1mInfo: \u001b[22m\u001b[39mLoss:\n",
      "\u001b[36m\u001b[1m│ \u001b[22m\u001b[39m  train = 15.850504060316492\n",
      "\u001b[36m\u001b[1m└ \u001b[22m\u001b[39m  test = 4.055554425611701\n",
      "\u001b[36m\u001b[1m┌ \u001b[22m\u001b[39m\u001b[36m\u001b[1mInfo: \u001b[22m\u001b[39mSaving coefficients! Test loss is equal to :\n",
      "\u001b[36m\u001b[1m└ \u001b[22m\u001b[39m  test = 4.055554425611701\n"
     ]
    },
    {
     "name": "stdout",
     "output_type": "stream",
     "text": [
      " 52.955811 seconds (1.51 k allocations: 50.859 KiB)\n"
     ]
    },
    {
     "name": "stderr",
     "output_type": "stream",
     "text": [
      "\u001b[36m\u001b[1m┌ \u001b[22m\u001b[39m\u001b[36m\u001b[1mInfo: \u001b[22m\u001b[39mLoss:\n",
      "\u001b[36m\u001b[1m│ \u001b[22m\u001b[39m  train = 15.806253704724533\n",
      "\u001b[36m\u001b[1m└ \u001b[22m\u001b[39m  test = 4.043988174735914\n",
      "\u001b[36m\u001b[1m┌ \u001b[22m\u001b[39m\u001b[36m\u001b[1mInfo: \u001b[22m\u001b[39mSaving coefficients! Test loss is equal to :\n",
      "\u001b[36m\u001b[1m└ \u001b[22m\u001b[39m  test = 4.043988174735914\n"
     ]
    },
    {
     "name": "stdout",
     "output_type": "stream",
     "text": [
      " 52.699464 seconds (1.54 k allocations: 52.547 KiB)\n"
     ]
    },
    {
     "name": "stderr",
     "output_type": "stream",
     "text": [
      "\u001b[36m\u001b[1m┌ \u001b[22m\u001b[39m\u001b[36m\u001b[1mInfo: \u001b[22m\u001b[39mLoss:\n",
      "\u001b[36m\u001b[1m│ \u001b[22m\u001b[39m  train = 15.755595620732212\n",
      "\u001b[36m\u001b[1m└ \u001b[22m\u001b[39m  test = 4.03088665057046\n",
      "\u001b[36m\u001b[1m┌ \u001b[22m\u001b[39m\u001b[36m\u001b[1mInfo: \u001b[22m\u001b[39mSaving coefficients! Test loss is equal to :\n",
      "\u001b[36m\u001b[1m└ \u001b[22m\u001b[39m  test = 4.03088665057046\n"
     ]
    },
    {
     "name": "stdout",
     "output_type": "stream",
     "text": [
      " 54.401281 seconds (993 allocations: 36.000 KiB)\n"
     ]
    },
    {
     "name": "stderr",
     "output_type": "stream",
     "text": [
      "\u001b[36m\u001b[1m┌ \u001b[22m\u001b[39m\u001b[36m\u001b[1mInfo: \u001b[22m\u001b[39mLoss:\n",
      "\u001b[36m\u001b[1m│ \u001b[22m\u001b[39m  train = 15.712208671018338\n",
      "\u001b[36m\u001b[1m└ \u001b[22m\u001b[39m  test = 4.01953654154929\n",
      "\u001b[36m\u001b[1m┌ \u001b[22m\u001b[39m\u001b[36m\u001b[1mInfo: \u001b[22m\u001b[39mSaving coefficients! Test loss is equal to :\n",
      "\u001b[36m\u001b[1m└ \u001b[22m\u001b[39m  test = 4.01953654154929\n"
     ]
    },
    {
     "name": "stdout",
     "output_type": "stream",
     "text": [
      " 54.051239 seconds (1.71 k allocations: 56.656 KiB)\n"
     ]
    },
    {
     "name": "stderr",
     "output_type": "stream",
     "text": [
      "\u001b[36m\u001b[1m┌ \u001b[22m\u001b[39m\u001b[36m\u001b[1mInfo: \u001b[22m\u001b[39mLoss:\n",
      "\u001b[36m\u001b[1m│ \u001b[22m\u001b[39m  train = 15.668021399629277\n",
      "\u001b[36m\u001b[1m└ \u001b[22m\u001b[39m  test = 4.0080369424413576\n",
      "\u001b[36m\u001b[1m┌ \u001b[22m\u001b[39m\u001b[36m\u001b[1mInfo: \u001b[22m\u001b[39mSaving coefficients! Test loss is equal to :\n",
      "\u001b[36m\u001b[1m└ \u001b[22m\u001b[39m  test = 4.0080369424413576\n"
     ]
    },
    {
     "name": "stdout",
     "output_type": "stream",
     "text": [
      " 53.535076 seconds (1.64 k allocations: 54.312 KiB)\n"
     ]
    },
    {
     "name": "stderr",
     "output_type": "stream",
     "text": [
      "\u001b[36m\u001b[1m┌ \u001b[22m\u001b[39m\u001b[36m\u001b[1mInfo: \u001b[22m\u001b[39mLoss:\n",
      "\u001b[36m\u001b[1m│ \u001b[22m\u001b[39m  train = 15.625264683010107\n",
      "\u001b[36m\u001b[1m└ \u001b[22m\u001b[39m  test = 3.9968610948857846\n",
      "\u001b[36m\u001b[1m┌ \u001b[22m\u001b[39m\u001b[36m\u001b[1mInfo: \u001b[22m\u001b[39mSaving coefficients! Test loss is equal to :\n",
      "\u001b[36m\u001b[1m└ \u001b[22m\u001b[39m  test = 3.9968610948857846\n"
     ]
    },
    {
     "name": "stdout",
     "output_type": "stream",
     "text": [
      " 52.003957 seconds (1.31 k allocations: 44.031 KiB)\n"
     ]
    },
    {
     "name": "stderr",
     "output_type": "stream",
     "text": [
      "\u001b[36m\u001b[1m┌ \u001b[22m\u001b[39m\u001b[36m\u001b[1mInfo: \u001b[22m\u001b[39mLoss:\n",
      "\u001b[36m\u001b[1m│ \u001b[22m\u001b[39m  train = 15.582764874974862\n",
      "\u001b[36m\u001b[1m└ \u001b[22m\u001b[39m  test = 3.9857811319349388\n",
      "\u001b[36m\u001b[1m┌ \u001b[22m\u001b[39m\u001b[36m\u001b[1mInfo: \u001b[22m\u001b[39mSaving coefficients! Test loss is equal to :\n",
      "\u001b[36m\u001b[1m└ \u001b[22m\u001b[39m  test = 3.9857811319349388\n"
     ]
    },
    {
     "name": "stdout",
     "output_type": "stream",
     "text": [
      " 55.701334 seconds (2.11 k allocations: 69.297 KiB)\n"
     ]
    },
    {
     "name": "stderr",
     "output_type": "stream",
     "text": [
      "\u001b[36m\u001b[1m┌ \u001b[22m\u001b[39m\u001b[36m\u001b[1mInfo: \u001b[22m\u001b[39mLoss:\n",
      "\u001b[36m\u001b[1m│ \u001b[22m\u001b[39m  train = 15.537222783958992\n",
      "\u001b[36m\u001b[1m└ \u001b[22m\u001b[39m  test = 3.9740189176063287\n",
      "\u001b[36m\u001b[1m┌ \u001b[22m\u001b[39m\u001b[36m\u001b[1mInfo: \u001b[22m\u001b[39mSaving coefficients! Test loss is equal to :\n",
      "\u001b[36m\u001b[1m└ \u001b[22m\u001b[39m  test = 3.9740189176063287\n"
     ]
    },
    {
     "name": "stdout",
     "output_type": "stream",
     "text": [
      " 53.519320 seconds (1.67 k allocations: 55.344 KiB)\n"
     ]
    },
    {
     "name": "stderr",
     "output_type": "stream",
     "text": [
      "\u001b[36m\u001b[1m┌ \u001b[22m\u001b[39m\u001b[36m\u001b[1mInfo: \u001b[22m\u001b[39mLoss:\n",
      "\u001b[36m\u001b[1m│ \u001b[22m\u001b[39m  train = 15.492442744096106\n",
      "\u001b[36m\u001b[1m└ \u001b[22m\u001b[39m  test = 3.9623406125669174\n",
      "\u001b[36m\u001b[1m┌ \u001b[22m\u001b[39m\u001b[36m\u001b[1mInfo: \u001b[22m\u001b[39mSaving coefficients! Test loss is equal to :\n",
      "\u001b[36m\u001b[1m└ \u001b[22m\u001b[39m  test = 3.9623406125669174\n"
     ]
    },
    {
     "name": "stdout",
     "output_type": "stream",
     "text": [
      " 51.371281 seconds (1.24 k allocations: 42.000 KiB)\n"
     ]
    },
    {
     "name": "stderr",
     "output_type": "stream",
     "text": [
      "\u001b[36m\u001b[1m┌ \u001b[22m\u001b[39m\u001b[36m\u001b[1mInfo: \u001b[22m\u001b[39mLoss:\n",
      "\u001b[36m\u001b[1m│ \u001b[22m\u001b[39m  train = 15.448024239966815\n",
      "\u001b[36m\u001b[1m└ \u001b[22m\u001b[39m  test = 3.9508992470682434\n",
      "\u001b[36m\u001b[1m┌ \u001b[22m\u001b[39m\u001b[36m\u001b[1mInfo: \u001b[22m\u001b[39mSaving coefficients! Test loss is equal to :\n",
      "\u001b[36m\u001b[1m└ \u001b[22m\u001b[39m  test = 3.9508992470682434\n"
     ]
    },
    {
     "name": "stdout",
     "output_type": "stream",
     "text": [
      " 53.445482 seconds (1.61 k allocations: 53.766 KiB)\n"
     ]
    },
    {
     "name": "stderr",
     "output_type": "stream",
     "text": [
      "\u001b[36m\u001b[1m┌ \u001b[22m\u001b[39m\u001b[36m\u001b[1mInfo: \u001b[22m\u001b[39mLoss:\n",
      "\u001b[36m\u001b[1m│ \u001b[22m\u001b[39m  train = 15.399716291365511\n",
      "\u001b[36m\u001b[1m└ \u001b[22m\u001b[39m  test = 3.9383839555956164\n",
      "\u001b[36m\u001b[1m┌ \u001b[22m\u001b[39m\u001b[36m\u001b[1mInfo: \u001b[22m\u001b[39mSaving coefficients! Test loss is equal to :\n",
      "\u001b[36m\u001b[1m└ \u001b[22m\u001b[39m  test = 3.9383839555956164\n"
     ]
    },
    {
     "name": "stdout",
     "output_type": "stream",
     "text": [
      " 53.164837 seconds (1.57 k allocations: 52.453 KiB)\n"
     ]
    },
    {
     "name": "stderr",
     "output_type": "stream",
     "text": [
      "\u001b[36m\u001b[1m┌ \u001b[22m\u001b[39m\u001b[36m\u001b[1mInfo: \u001b[22m\u001b[39mLoss:\n",
      "\u001b[36m\u001b[1m│ \u001b[22m\u001b[39m  train = 15.358646447581636\n",
      "\u001b[36m\u001b[1m└ \u001b[22m\u001b[39m  test = 3.9275885028177306\n",
      "\u001b[36m\u001b[1m┌ \u001b[22m\u001b[39m\u001b[36m\u001b[1mInfo: \u001b[22m\u001b[39mSaving coefficients! Test loss is equal to :\n",
      "\u001b[36m\u001b[1m└ \u001b[22m\u001b[39m  test = 3.9275885028177306\n"
     ]
    },
    {
     "name": "stdout",
     "output_type": "stream",
     "text": [
      " 48.731766 seconds (945 allocations: 33.984 KiB)\n"
     ]
    },
    {
     "name": "stderr",
     "output_type": "stream",
     "text": [
      "\u001b[36m\u001b[1m┌ \u001b[22m\u001b[39m\u001b[36m\u001b[1mInfo: \u001b[22m\u001b[39mLoss:\n",
      "\u001b[36m\u001b[1m│ \u001b[22m\u001b[39m  train = 15.316022136934974\n",
      "\u001b[36m\u001b[1m└ \u001b[22m\u001b[39m  test = 3.916553530546077\n",
      "\u001b[36m\u001b[1m┌ \u001b[22m\u001b[39m\u001b[36m\u001b[1mInfo: \u001b[22m\u001b[39mSaving coefficients! Test loss is equal to :\n",
      "\u001b[36m\u001b[1m└ \u001b[22m\u001b[39m  test = 3.916553530546077\n"
     ]
    },
    {
     "name": "stdout",
     "output_type": "stream",
     "text": [
      " 46.650493 seconds (670 allocations: 26.578 KiB)\n"
     ]
    },
    {
     "name": "stderr",
     "output_type": "stream",
     "text": [
      "\u001b[36m\u001b[1m┌ \u001b[22m\u001b[39m\u001b[36m\u001b[1mInfo: \u001b[22m\u001b[39mLoss:\n",
      "\u001b[36m\u001b[1m│ \u001b[22m\u001b[39m  train = 15.270008943429668\n",
      "\u001b[36m\u001b[1m└ \u001b[22m\u001b[39m  test = 3.9046882786855908\n",
      "\u001b[36m\u001b[1m┌ \u001b[22m\u001b[39m\u001b[36m\u001b[1mInfo: \u001b[22m\u001b[39mSaving coefficients! Test loss is equal to :\n",
      "\u001b[36m\u001b[1m└ \u001b[22m\u001b[39m  test = 3.9046882786855908\n"
     ]
    },
    {
     "name": "stdout",
     "output_type": "stream",
     "text": [
      " 51.965005 seconds (1.30 k allocations: 43.922 KiB)\n"
     ]
    },
    {
     "name": "stderr",
     "output_type": "stream",
     "text": [
      "\u001b[36m\u001b[1m┌ \u001b[22m\u001b[39m\u001b[36m\u001b[1mInfo: \u001b[22m\u001b[39mLoss:\n",
      "\u001b[36m\u001b[1m│ \u001b[22m\u001b[39m  train = 15.22317454126871\n",
      "\u001b[36m\u001b[1m└ \u001b[22m\u001b[39m  test = 3.8926278158243766\n",
      "\u001b[36m\u001b[1m┌ \u001b[22m\u001b[39m\u001b[36m\u001b[1mInfo: \u001b[22m\u001b[39mSaving coefficients! Test loss is equal to :\n",
      "\u001b[36m\u001b[1m└ \u001b[22m\u001b[39m  test = 3.8926278158243766\n"
     ]
    },
    {
     "name": "stdout",
     "output_type": "stream",
     "text": [
      " 48.406855 seconds (921 allocations: 33.203 KiB)\n"
     ]
    },
    {
     "name": "stderr",
     "output_type": "stream",
     "text": [
      "\u001b[36m\u001b[1m┌ \u001b[22m\u001b[39m\u001b[36m\u001b[1mInfo: \u001b[22m\u001b[39mLoss:\n",
      "\u001b[36m\u001b[1m│ \u001b[22m\u001b[39m  train = 15.18324939341501\n",
      "\u001b[36m\u001b[1m└ \u001b[22m\u001b[39m  test = 3.882138148474331\n",
      "\u001b[36m\u001b[1m┌ \u001b[22m\u001b[39m\u001b[36m\u001b[1mInfo: \u001b[22m\u001b[39mSaving coefficients! Test loss is equal to :\n",
      "\u001b[36m\u001b[1m└ \u001b[22m\u001b[39m  test = 3.882138148474331\n"
     ]
    },
    {
     "name": "stdout",
     "output_type": "stream",
     "text": [
      " 49.766320 seconds (247 allocations: 14.953 KiB)\n"
     ]
    },
    {
     "name": "stderr",
     "output_type": "stream",
     "text": [
      "\u001b[36m\u001b[1m┌ \u001b[22m\u001b[39m\u001b[36m\u001b[1mInfo: \u001b[22m\u001b[39mLoss:\n",
      "\u001b[36m\u001b[1m│ \u001b[22m\u001b[39m  train = 15.134270182064622\n",
      "\u001b[36m\u001b[1m└ \u001b[22m\u001b[39m  test = 3.8694040822790634\n",
      "\u001b[36m\u001b[1m┌ \u001b[22m\u001b[39m\u001b[36m\u001b[1mInfo: \u001b[22m\u001b[39mSaving coefficients! Test loss is equal to :\n",
      "\u001b[36m\u001b[1m└ \u001b[22m\u001b[39m  test = 3.8694040822790634\n"
     ]
    },
    {
     "name": "stdout",
     "output_type": "stream",
     "text": [
      " 51.314393 seconds (1.17 k allocations: 39.625 KiB)\n"
     ]
    },
    {
     "name": "stderr",
     "output_type": "stream",
     "text": [
      "\u001b[36m\u001b[1m┌ \u001b[22m\u001b[39m\u001b[36m\u001b[1mInfo: \u001b[22m\u001b[39mLoss:\n",
      "\u001b[36m\u001b[1m│ \u001b[22m\u001b[39m  train = 15.094004791110848\n",
      "\u001b[36m\u001b[1m└ \u001b[22m\u001b[39m  test = 3.8589263872293493\n",
      "\u001b[36m\u001b[1m┌ \u001b[22m\u001b[39m\u001b[36m\u001b[1mInfo: \u001b[22m\u001b[39mSaving coefficients! Test loss is equal to :\n",
      "\u001b[36m\u001b[1m└ \u001b[22m\u001b[39m  test = 3.8589263872293493\n"
     ]
    },
    {
     "name": "stdout",
     "output_type": "stream",
     "text": [
      " 53.223699 seconds (1.58 k allocations: 52.688 KiB)\n"
     ]
    },
    {
     "name": "stderr",
     "output_type": "stream",
     "text": [
      "\u001b[36m\u001b[1m┌ \u001b[22m\u001b[39m\u001b[36m\u001b[1mInfo: \u001b[22m\u001b[39mLoss:\n",
      "\u001b[36m\u001b[1m│ \u001b[22m\u001b[39m  train = 15.052087096260191\n",
      "\u001b[36m\u001b[1m└ \u001b[22m\u001b[39m  test = 3.8480395156951968\n",
      "\u001b[36m\u001b[1m┌ \u001b[22m\u001b[39m\u001b[36m\u001b[1mInfo: \u001b[22m\u001b[39mSaving coefficients! Test loss is equal to :\n",
      "\u001b[36m\u001b[1m└ \u001b[22m\u001b[39m  test = 3.8480395156951968\n"
     ]
    },
    {
     "name": "stdout",
     "output_type": "stream",
     "text": [
      " 55.057182 seconds (1.96 k allocations: 64.469 KiB)\n"
     ]
    },
    {
     "name": "stderr",
     "output_type": "stream",
     "text": [
      "\u001b[36m\u001b[1m┌ \u001b[22m\u001b[39m\u001b[36m\u001b[1mInfo: \u001b[22m\u001b[39mLoss:\n",
      "\u001b[36m\u001b[1m│ \u001b[22m\u001b[39m  train = 15.003675704049078\n",
      "\u001b[36m\u001b[1m└ \u001b[22m\u001b[39m  test = 3.835420545716718\n",
      "\u001b[36m\u001b[1m┌ \u001b[22m\u001b[39m\u001b[36m\u001b[1mInfo: \u001b[22m\u001b[39mSaving coefficients! Test loss is equal to :\n",
      "\u001b[36m\u001b[1m└ \u001b[22m\u001b[39m  test = 3.835420545716718\n"
     ]
    },
    {
     "name": "stdout",
     "output_type": "stream",
     "text": [
      " 54.858187 seconds (1.94 k allocations: 63.859 KiB)\n"
     ]
    },
    {
     "name": "stderr",
     "output_type": "stream",
     "text": [
      "\u001b[36m\u001b[1m┌ \u001b[22m\u001b[39m\u001b[36m\u001b[1mInfo: \u001b[22m\u001b[39mLoss:\n",
      "\u001b[36m\u001b[1m│ \u001b[22m\u001b[39m  train = 14.96304159556579\n",
      "\u001b[36m\u001b[1m└ \u001b[22m\u001b[39m  test = 3.82485555973067\n",
      "\u001b[36m\u001b[1m┌ \u001b[22m\u001b[39m\u001b[36m\u001b[1mInfo: \u001b[22m\u001b[39mSaving coefficients! Test loss is equal to :\n",
      "\u001b[36m\u001b[1m└ \u001b[22m\u001b[39m  test = 3.82485555973067\n"
     ]
    },
    {
     "name": "stdout",
     "output_type": "stream",
     "text": [
      " 52.454846 seconds (1.45 k allocations: 48.438 KiB)\n"
     ]
    },
    {
     "name": "stderr",
     "output_type": "stream",
     "text": [
      "\u001b[36m\u001b[1m┌ \u001b[22m\u001b[39m\u001b[36m\u001b[1mInfo: \u001b[22m\u001b[39mLoss:\n",
      "\u001b[36m\u001b[1m│ \u001b[22m\u001b[39m  train = 14.922641204341105\n",
      "\u001b[36m\u001b[1m└ \u001b[22m\u001b[39m  test = 3.81421076057173\n",
      "\u001b[36m\u001b[1m┌ \u001b[22m\u001b[39m\u001b[36m\u001b[1mInfo: \u001b[22m\u001b[39mSaving coefficients! Test loss is equal to :\n",
      "\u001b[36m\u001b[1m└ \u001b[22m\u001b[39m  test = 3.81421076057173\n"
     ]
    },
    {
     "name": "stdout",
     "output_type": "stream",
     "text": [
      " 53.198550 seconds (1.72 k allocations: 56.797 KiB)\n"
     ]
    },
    {
     "name": "stderr",
     "output_type": "stream",
     "text": [
      "\u001b[36m\u001b[1m┌ \u001b[22m\u001b[39m\u001b[36m\u001b[1mInfo: \u001b[22m\u001b[39mLoss:\n",
      "\u001b[36m\u001b[1m│ \u001b[22m\u001b[39m  train = 14.884170466745102\n",
      "\u001b[36m\u001b[1m└ \u001b[22m\u001b[39m  test = 3.8043005138540917\n",
      "\u001b[36m\u001b[1m┌ \u001b[22m\u001b[39m\u001b[36m\u001b[1mInfo: \u001b[22m\u001b[39mSaving coefficients! Test loss is equal to :\n",
      "\u001b[36m\u001b[1m└ \u001b[22m\u001b[39m  test = 3.8043005138540917\n"
     ]
    },
    {
     "name": "stdout",
     "output_type": "stream",
     "text": [
      " 54.495453 seconds (1.87 k allocations: 61.906 KiB)\n"
     ]
    },
    {
     "name": "stderr",
     "output_type": "stream",
     "text": [
      "\u001b[36m\u001b[1m┌ \u001b[22m\u001b[39m\u001b[36m\u001b[1mInfo: \u001b[22m\u001b[39mLoss:\n",
      "\u001b[36m\u001b[1m│ \u001b[22m\u001b[39m  train = 14.843500636188576\n",
      "\u001b[36m\u001b[1m└ \u001b[22m\u001b[39m  test = 3.793766346826798\n",
      "\u001b[36m\u001b[1m┌ \u001b[22m\u001b[39m\u001b[36m\u001b[1mInfo: \u001b[22m\u001b[39mSaving coefficients! Test loss is equal to :\n",
      "\u001b[36m\u001b[1m└ \u001b[22m\u001b[39m  test = 3.793766346826798\n"
     ]
    },
    {
     "name": "stdout",
     "output_type": "stream",
     "text": [
      " 55.213575 seconds (2.01 k allocations: 66.359 KiB)\n"
     ]
    },
    {
     "name": "stderr",
     "output_type": "stream",
     "text": [
      "\u001b[36m\u001b[1m┌ \u001b[22m\u001b[39m\u001b[36m\u001b[1mInfo: \u001b[22m\u001b[39mLoss:\n",
      "\u001b[36m\u001b[1m│ \u001b[22m\u001b[39m  train = 14.805279794063587\n",
      "\u001b[36m\u001b[1m└ \u001b[22m\u001b[39m  test = 3.783759745597271\n",
      "\u001b[36m\u001b[1m┌ \u001b[22m\u001b[39m\u001b[36m\u001b[1mInfo: \u001b[22m\u001b[39mSaving coefficients! Test loss is equal to :\n",
      "\u001b[36m\u001b[1m└ \u001b[22m\u001b[39m  test = 3.783759745597271\n"
     ]
    },
    {
     "name": "stdout",
     "output_type": "stream",
     "text": [
      " 53.093189 seconds (1.57 k allocations: 52.422 KiB)\n"
     ]
    },
    {
     "name": "stderr",
     "output_type": "stream",
     "text": [
      "\u001b[36m\u001b[1m┌ \u001b[22m\u001b[39m\u001b[36m\u001b[1mInfo: \u001b[22m\u001b[39mLoss:\n",
      "\u001b[36m\u001b[1m│ \u001b[22m\u001b[39m  train = 14.766046037861337\n",
      "\u001b[36m\u001b[1m└ \u001b[22m\u001b[39m  test = 3.7736528216049177\n",
      "\u001b[36m\u001b[1m┌ \u001b[22m\u001b[39m\u001b[36m\u001b[1mInfo: \u001b[22m\u001b[39mSaving coefficients! Test loss is equal to :\n",
      "\u001b[36m\u001b[1m└ \u001b[22m\u001b[39m  test = 3.7736528216049177\n"
     ]
    },
    {
     "name": "stdout",
     "output_type": "stream",
     "text": [
      " 52.291472 seconds (1.42 k allocations: 48.047 KiB)\n"
     ]
    },
    {
     "name": "stderr",
     "output_type": "stream",
     "text": [
      "\u001b[36m\u001b[1m┌ \u001b[22m\u001b[39m\u001b[36m\u001b[1mInfo: \u001b[22m\u001b[39mLoss:\n",
      "\u001b[36m\u001b[1m│ \u001b[22m\u001b[39m  train = 14.727270282567794\n",
      "\u001b[36m\u001b[1m└ \u001b[22m\u001b[39m  test = 3.7634898737104514\n",
      "\u001b[36m\u001b[1m┌ \u001b[22m\u001b[39m\u001b[36m\u001b[1mInfo: \u001b[22m\u001b[39mSaving coefficients! Test loss is equal to :\n",
      "\u001b[36m\u001b[1m└ \u001b[22m\u001b[39m  test = 3.7634898737104514\n"
     ]
    },
    {
     "name": "stdout",
     "output_type": "stream",
     "text": [
      " 50.219272 seconds (1.04 k allocations: 36.297 KiB)\n"
     ]
    },
    {
     "name": "stderr",
     "output_type": "stream",
     "text": [
      "\u001b[36m\u001b[1m┌ \u001b[22m\u001b[39m\u001b[36m\u001b[1mInfo: \u001b[22m\u001b[39mLoss:\n",
      "\u001b[36m\u001b[1m│ \u001b[22m\u001b[39m  train = 14.686089984376203\n",
      "\u001b[36m\u001b[1m└ \u001b[22m\u001b[39m  test = 3.752849322814305\n",
      "\u001b[36m\u001b[1m┌ \u001b[22m\u001b[39m\u001b[36m\u001b[1mInfo: \u001b[22m\u001b[39mSaving coefficients! Test loss is equal to :\n",
      "\u001b[36m\u001b[1m└ \u001b[22m\u001b[39m  test = 3.752849322814305\n"
     ]
    },
    {
     "name": "stdout",
     "output_type": "stream",
     "text": [
      " 54.702220 seconds (1.76 k allocations: 50.453 KiB)\n"
     ]
    },
    {
     "name": "stderr",
     "output_type": "stream",
     "text": [
      "\u001b[36m\u001b[1m┌ \u001b[22m\u001b[39m\u001b[36m\u001b[1mInfo: \u001b[22m\u001b[39mLoss:\n",
      "\u001b[36m\u001b[1m│ \u001b[22m\u001b[39m  train = 14.643307521643413\n",
      "\u001b[36m\u001b[1m└ \u001b[22m\u001b[39m  test = 3.7416306943833018\n",
      "\u001b[36m\u001b[1m┌ \u001b[22m\u001b[39m\u001b[36m\u001b[1mInfo: \u001b[22m\u001b[39mSaving coefficients! Test loss is equal to :\n",
      "\u001b[36m\u001b[1m└ \u001b[22m\u001b[39m  test = 3.7416306943833018\n"
     ]
    },
    {
     "name": "stdout",
     "output_type": "stream",
     "text": [
      " 49.226595 seconds (1.20 k allocations: 41.016 KiB)\n"
     ]
    },
    {
     "name": "stderr",
     "output_type": "stream",
     "text": [
      "\u001b[36m\u001b[1m┌ \u001b[22m\u001b[39m\u001b[36m\u001b[1mInfo: \u001b[22m\u001b[39mLoss:\n",
      "\u001b[36m\u001b[1m│ \u001b[22m\u001b[39m  train = 14.60579050446454\n",
      "\u001b[36m\u001b[1m└ \u001b[22m\u001b[39m  test = 3.731979784973157\n",
      "\u001b[36m\u001b[1m┌ \u001b[22m\u001b[39m\u001b[36m\u001b[1mInfo: \u001b[22m\u001b[39mSaving coefficients! Test loss is equal to :\n",
      "\u001b[36m\u001b[1m└ \u001b[22m\u001b[39m  test = 3.731979784973157\n"
     ]
    },
    {
     "name": "stdout",
     "output_type": "stream",
     "text": [
      " 53.010874 seconds (1.53 k allocations: 51.391 KiB)\n"
     ]
    },
    {
     "name": "stderr",
     "output_type": "stream",
     "text": [
      "\u001b[36m\u001b[1m┌ \u001b[22m\u001b[39m\u001b[36m\u001b[1mInfo: \u001b[22m\u001b[39mLoss:\n",
      "\u001b[36m\u001b[1m│ \u001b[22m\u001b[39m  train = 14.567683303937644\n",
      "\u001b[36m\u001b[1m└ \u001b[22m\u001b[39m  test = 3.7220855633832923\n",
      "\u001b[36m\u001b[1m┌ \u001b[22m\u001b[39m\u001b[36m\u001b[1mInfo: \u001b[22m\u001b[39mSaving coefficients! Test loss is equal to :\n",
      "\u001b[36m\u001b[1m└ \u001b[22m\u001b[39m  test = 3.7220855633832923\n"
     ]
    },
    {
     "name": "stdout",
     "output_type": "stream",
     "text": [
      " 51.350028 seconds (1.18 k allocations: 40.203 KiB)\n"
     ]
    },
    {
     "name": "stderr",
     "output_type": "stream",
     "text": [
      "\u001b[36m\u001b[1m┌ \u001b[22m\u001b[39m\u001b[36m\u001b[1mInfo: \u001b[22m\u001b[39mLoss:\n",
      "\u001b[36m\u001b[1m│ \u001b[22m\u001b[39m  train = 14.52782573882564\n",
      "\u001b[36m\u001b[1m└ \u001b[22m\u001b[39m  test = 3.7116665235448387\n",
      "\u001b[36m\u001b[1m┌ \u001b[22m\u001b[39m\u001b[36m\u001b[1mInfo: \u001b[22m\u001b[39mSaving coefficients! Test loss is equal to :\n",
      "\u001b[36m\u001b[1m└ \u001b[22m\u001b[39m  test = 3.7116665235448387\n"
     ]
    },
    {
     "name": "stdout",
     "output_type": "stream",
     "text": [
      " 52.292747 seconds (1.39 k allocations: 46.984 KiB)\n"
     ]
    },
    {
     "name": "stderr",
     "output_type": "stream",
     "text": [
      "\u001b[36m\u001b[1m┌ \u001b[22m\u001b[39m\u001b[36m\u001b[1mInfo: \u001b[22m\u001b[39mLoss:\n",
      "\u001b[36m\u001b[1m│ \u001b[22m\u001b[39m  train = 14.479896528629169\n",
      "\u001b[36m\u001b[1m└ \u001b[22m\u001b[39m  test = 3.699072778666208\n",
      "\u001b[36m\u001b[1m┌ \u001b[22m\u001b[39m\u001b[36m\u001b[1mInfo: \u001b[22m\u001b[39mSaving coefficients! Test loss is equal to :\n",
      "\u001b[36m\u001b[1m└ \u001b[22m\u001b[39m  test = 3.699072778666208\n"
     ]
    },
    {
     "name": "stdout",
     "output_type": "stream",
     "text": [
      " 51.159371 seconds (1.17 k allocations: 40.047 KiB)\n"
     ]
    },
    {
     "name": "stderr",
     "output_type": "stream",
     "text": [
      "\u001b[36m\u001b[1m┌ \u001b[22m\u001b[39m\u001b[36m\u001b[1mInfo: \u001b[22m\u001b[39mLoss:\n",
      "\u001b[36m\u001b[1m│ \u001b[22m\u001b[39m  train = 14.439617888408847\n",
      "\u001b[36m\u001b[1m└ \u001b[22m\u001b[39m  test = 3.688740800179141\n",
      "\u001b[36m\u001b[1m┌ \u001b[22m\u001b[39m\u001b[36m\u001b[1mInfo: \u001b[22m\u001b[39mSaving coefficients! Test loss is equal to :\n",
      "\u001b[36m\u001b[1m└ \u001b[22m\u001b[39m  test = 3.688740800179141\n"
     ]
    },
    {
     "name": "stdout",
     "output_type": "stream",
     "text": [
      " 50.019156 seconds (1.13 k allocations: 39.016 KiB)\n"
     ]
    },
    {
     "name": "stderr",
     "output_type": "stream",
     "text": [
      "\u001b[36m\u001b[1m┌ \u001b[22m\u001b[39m\u001b[36m\u001b[1mInfo: \u001b[22m\u001b[39mLoss:\n",
      "\u001b[36m\u001b[1m│ \u001b[22m\u001b[39m  train = 14.403189060436777\n",
      "\u001b[36m\u001b[1m└ \u001b[22m\u001b[39m  test = 3.679082182554869\n",
      "\u001b[36m\u001b[1m┌ \u001b[22m\u001b[39m\u001b[36m\u001b[1mInfo: \u001b[22m\u001b[39mSaving coefficients! Test loss is equal to :\n",
      "\u001b[36m\u001b[1m└ \u001b[22m\u001b[39m  test = 3.679082182554869\n"
     ]
    },
    {
     "name": "stdout",
     "output_type": "stream",
     "text": [
      " 53.352995 seconds (1.67 k allocations: 55.375 KiB)\n"
     ]
    },
    {
     "name": "stderr",
     "output_type": "stream",
     "text": [
      "\u001b[36m\u001b[1m┌ \u001b[22m\u001b[39m\u001b[36m\u001b[1mInfo: \u001b[22m\u001b[39mLoss:\n",
      "\u001b[36m\u001b[1m│ \u001b[22m\u001b[39m  train = 14.361312545463544\n",
      "\u001b[36m\u001b[1m└ \u001b[22m\u001b[39m  test = 3.6683406414691717\n",
      "\u001b[36m\u001b[1m┌ \u001b[22m\u001b[39m\u001b[36m\u001b[1mInfo: \u001b[22m\u001b[39mSaving coefficients! Test loss is equal to :\n",
      "\u001b[36m\u001b[1m└ \u001b[22m\u001b[39m  test = 3.6683406414691717\n"
     ]
    },
    {
     "name": "stdout",
     "output_type": "stream",
     "text": [
      " 46.687236 seconds (878 allocations: 32.188 KiB)\n"
     ]
    },
    {
     "name": "stderr",
     "output_type": "stream",
     "text": [
      "\u001b[36m\u001b[1m┌ \u001b[22m\u001b[39m\u001b[36m\u001b[1mInfo: \u001b[22m\u001b[39mLoss:\n",
      "\u001b[36m\u001b[1m│ \u001b[22m\u001b[39m  train = 14.325931810132221\n",
      "\u001b[36m\u001b[1m└ \u001b[22m\u001b[39m  test = 3.6591337725229702\n",
      "\u001b[36m\u001b[1m┌ \u001b[22m\u001b[39m\u001b[36m\u001b[1mInfo: \u001b[22m\u001b[39mSaving coefficients! Test loss is equal to :\n",
      "\u001b[36m\u001b[1m└ \u001b[22m\u001b[39m  test = 3.6591337725229702\n"
     ]
    },
    {
     "name": "stdout",
     "output_type": "stream",
     "text": [
      " 53.192047 seconds (1.58 k allocations: 52.594 KiB)\n"
     ]
    },
    {
     "name": "stderr",
     "output_type": "stream",
     "text": [
      "\u001b[36m\u001b[1m┌ \u001b[22m\u001b[39m\u001b[36m\u001b[1mInfo: \u001b[22m\u001b[39mLoss:\n",
      "\u001b[36m\u001b[1m│ \u001b[22m\u001b[39m  train = 14.28700222269133\n",
      "\u001b[36m\u001b[1m└ \u001b[22m\u001b[39m  test = 3.649180301416475\n",
      "\u001b[36m\u001b[1m┌ \u001b[22m\u001b[39m\u001b[36m\u001b[1mInfo: \u001b[22m\u001b[39mSaving coefficients! Test loss is equal to :\n",
      "\u001b[36m\u001b[1m└ \u001b[22m\u001b[39m  test = 3.649180301416475\n"
     ]
    },
    {
     "name": "stdout",
     "output_type": "stream",
     "text": [
      " 53.562949 seconds (1.68 k allocations: 55.609 KiB)\n"
     ]
    },
    {
     "name": "stderr",
     "output_type": "stream",
     "text": [
      "\u001b[36m\u001b[1m┌ \u001b[22m\u001b[39m\u001b[36m\u001b[1mInfo: \u001b[22m\u001b[39mLoss:\n",
      "\u001b[36m\u001b[1m│ \u001b[22m\u001b[39m  train = 14.251183141059244\n",
      "\u001b[36m\u001b[1m└ \u001b[22m\u001b[39m  test = 3.6397802378890094\n",
      "\u001b[36m\u001b[1m┌ \u001b[22m\u001b[39m\u001b[36m\u001b[1mInfo: \u001b[22m\u001b[39mSaving coefficients! Test loss is equal to :\n",
      "\u001b[36m\u001b[1m└ \u001b[22m\u001b[39m  test = 3.6397802378890094\n"
     ]
    },
    {
     "name": "stdout",
     "output_type": "stream",
     "text": [
      " 53.454409 seconds (1.54 k allocations: 51.250 KiB)\n"
     ]
    },
    {
     "name": "stderr",
     "output_type": "stream",
     "text": [
      "\u001b[36m\u001b[1m┌ \u001b[22m\u001b[39m\u001b[36m\u001b[1mInfo: \u001b[22m\u001b[39mLoss:\n",
      "\u001b[36m\u001b[1m│ \u001b[22m\u001b[39m  train = 14.209801040025756\n",
      "\u001b[36m\u001b[1m└ \u001b[22m\u001b[39m  test = 3.6290320370525113\n",
      "\u001b[36m\u001b[1m┌ \u001b[22m\u001b[39m\u001b[36m\u001b[1mInfo: \u001b[22m\u001b[39mSaving coefficients! Test loss is equal to :\n",
      "\u001b[36m\u001b[1m└ \u001b[22m\u001b[39m  test = 3.6290320370525113\n"
     ]
    },
    {
     "name": "stdout",
     "output_type": "stream",
     "text": [
      " 52.816286 seconds (1.47 k allocations: 49.219 KiB)\n"
     ]
    },
    {
     "name": "stderr",
     "output_type": "stream",
     "text": [
      "\u001b[36m\u001b[1m┌ \u001b[22m\u001b[39m\u001b[36m\u001b[1mInfo: \u001b[22m\u001b[39mLoss:\n",
      "\u001b[36m\u001b[1m│ \u001b[22m\u001b[39m  train = 14.17559440740127\n",
      "\u001b[36m\u001b[1m└ \u001b[22m\u001b[39m  test = 3.620139148057145\n",
      "\u001b[36m\u001b[1m┌ \u001b[22m\u001b[39m\u001b[36m\u001b[1mInfo: \u001b[22m\u001b[39mSaving coefficients! Test loss is equal to :\n",
      "\u001b[36m\u001b[1m└ \u001b[22m\u001b[39m  test = 3.620139148057145\n"
     ]
    },
    {
     "name": "stdout",
     "output_type": "stream",
     "text": [
      " 53.582387 seconds (1.68 k allocations: 55.781 KiB)\n"
     ]
    },
    {
     "name": "stderr",
     "output_type": "stream",
     "text": [
      "\u001b[36m\u001b[1m┌ \u001b[22m\u001b[39m\u001b[36m\u001b[1mInfo: \u001b[22m\u001b[39mLoss:\n",
      "\u001b[36m\u001b[1m│ \u001b[22m\u001b[39m  train = 14.140542601796126\n",
      "\u001b[36m\u001b[1m└ \u001b[22m\u001b[39m  test = 3.6109102307015775\n",
      "\u001b[36m\u001b[1m┌ \u001b[22m\u001b[39m\u001b[36m\u001b[1mInfo: \u001b[22m\u001b[39mSaving coefficients! Test loss is equal to :\n",
      "\u001b[36m\u001b[1m└ \u001b[22m\u001b[39m  test = 3.6109102307015775\n"
     ]
    },
    {
     "name": "stdout",
     "output_type": "stream",
     "text": [
      " 52.101459 seconds (1.31 k allocations: 44.062 KiB)\n"
     ]
    },
    {
     "name": "stderr",
     "output_type": "stream",
     "text": [
      "\u001b[36m\u001b[1m┌ \u001b[22m\u001b[39m\u001b[36m\u001b[1mInfo: \u001b[22m\u001b[39mLoss:\n",
      "\u001b[36m\u001b[1m│ \u001b[22m\u001b[39m  train = 14.101919191794451\n",
      "\u001b[36m\u001b[1m└ \u001b[22m\u001b[39m  test = 3.6010013862300614\n",
      "\u001b[36m\u001b[1m┌ \u001b[22m\u001b[39m\u001b[36m\u001b[1mInfo: \u001b[22m\u001b[39mSaving coefficients! Test loss is equal to :\n",
      "\u001b[36m\u001b[1m└ \u001b[22m\u001b[39m  test = 3.6010013862300614\n"
     ]
    }
   ],
   "source": [
    "p = npzread(\"weights_\"*Cℓkind*\"_lcdm.npy\")# if you don't have any weights, comment this line\n",
    "initial_test_loss = mlpdtest(Xtest, p)\n",
    "println(\"Initial Loss: \",initial_test_loss)\n",
    "\n",
    "for i in 1:50\n",
    "    @time SimpleChains.train_unbatched!(\n",
    "    G, p, mlpdloss, X, SimpleChains.ADAM(7e-6), 500   #η = 1e-4\n",
    "  );\n",
    "    report(p)\n",
    "    test = mlpdtest(Xtest, p)\n",
    "    if initial_test_loss > test\n",
    "        npzwrite(\"weights_\"*Cℓkind*\"_lcdm.npy\", p)\n",
    "        initial_test_loss = test\n",
    "        @info \"Saving coefficients! Test loss is equal to :\" test\n",
    "    end\n",
    "end"
   ]
  },
  {
   "cell_type": "code",
   "execution_count": 25,
   "metadata": {},
   "outputs": [
    {
     "name": "stdout",
     "output_type": "stream",
     "text": [
      "Initial Loss: 3.6010013862300614\n",
      " 55.503254 seconds (2.07 k allocations: 67.086 KiB)\n"
     ]
    },
    {
     "name": "stderr",
     "output_type": "stream",
     "text": [
      "\u001b[36m\u001b[1m┌ \u001b[22m\u001b[39m\u001b[36m\u001b[1mInfo: \u001b[22m\u001b[39mLoss:\n",
      "\u001b[36m\u001b[1m│ \u001b[22m\u001b[39m  train = 14.070064527194843\n",
      "\u001b[36m\u001b[1m└ \u001b[22m\u001b[39m  test = 3.5926970325870737\n",
      "\u001b[36m\u001b[1m┌ \u001b[22m\u001b[39m\u001b[36m\u001b[1mInfo: \u001b[22m\u001b[39mSaving coefficients! Test loss is equal to :\n",
      "\u001b[36m\u001b[1m└ \u001b[22m\u001b[39m  test = 3.5926970325870737\n"
     ]
    },
    {
     "name": "stdout",
     "output_type": "stream",
     "text": [
      " 52.090718 seconds (1.32 k allocations: 44.672 KiB)\n"
     ]
    },
    {
     "name": "stderr",
     "output_type": "stream",
     "text": [
      "\u001b[36m\u001b[1m┌ \u001b[22m\u001b[39m\u001b[36m\u001b[1mInfo: \u001b[22m\u001b[39mLoss:\n",
      "\u001b[36m\u001b[1m│ \u001b[22m\u001b[39m  train = 14.036185886479561\n",
      "\u001b[36m\u001b[1m└ \u001b[22m\u001b[39m  test = 3.583939993539788\n",
      "\u001b[36m\u001b[1m┌ \u001b[22m\u001b[39m\u001b[36m\u001b[1mInfo: \u001b[22m\u001b[39mSaving coefficients! Test loss is equal to :\n",
      "\u001b[36m\u001b[1m└ \u001b[22m\u001b[39m  test = 3.583939993539788\n"
     ]
    },
    {
     "name": "stdout",
     "output_type": "stream",
     "text": [
      " 52.492272 seconds (1.57 k allocations: 52.719 KiB)\n"
     ]
    },
    {
     "name": "stderr",
     "output_type": "stream",
     "text": [
      "\u001b[36m\u001b[1m┌ \u001b[22m\u001b[39m\u001b[36m\u001b[1mInfo: \u001b[22m\u001b[39mLoss:\n",
      "\u001b[36m\u001b[1m│ \u001b[22m\u001b[39m  train = 14.003880604196913\n",
      "\u001b[36m\u001b[1m└ \u001b[22m\u001b[39m  test = 3.575495791647275\n",
      "\u001b[36m\u001b[1m┌ \u001b[22m\u001b[39m\u001b[36m\u001b[1mInfo: \u001b[22m\u001b[39mSaving coefficients! Test loss is equal to :\n",
      "\u001b[36m\u001b[1m└ \u001b[22m\u001b[39m  test = 3.575495791647275\n"
     ]
    },
    {
     "name": "stdout",
     "output_type": "stream",
     "text": [
      " 52.695114 seconds (1.47 k allocations: 49.391 KiB)\n"
     ]
    },
    {
     "name": "stderr",
     "output_type": "stream",
     "text": [
      "\u001b[36m\u001b[1m┌ \u001b[22m\u001b[39m\u001b[36m\u001b[1mInfo: \u001b[22m\u001b[39mLoss:\n",
      "\u001b[36m\u001b[1m│ \u001b[22m\u001b[39m  train = 13.973533987371674\n",
      "\u001b[36m\u001b[1m└ \u001b[22m\u001b[39m  test = 3.5675822850603627\n",
      "\u001b[36m\u001b[1m┌ \u001b[22m\u001b[39m\u001b[36m\u001b[1mInfo: \u001b[22m\u001b[39mSaving coefficients! Test loss is equal to :\n",
      "\u001b[36m\u001b[1m└ \u001b[22m\u001b[39m  test = 3.5675822850603627\n"
     ]
    },
    {
     "name": "stdout",
     "output_type": "stream",
     "text": [
      " 53.358074 seconds (1.61 k allocations: 53.719 KiB)\n"
     ]
    },
    {
     "name": "stderr",
     "output_type": "stream",
     "text": [
      "\u001b[36m\u001b[1m┌ \u001b[22m\u001b[39m\u001b[36m\u001b[1mInfo: \u001b[22m\u001b[39mLoss:\n",
      "\u001b[36m\u001b[1m│ \u001b[22m\u001b[39m  train = 13.94067154846801\n",
      "\u001b[36m\u001b[1m└ \u001b[22m\u001b[39m  test = 3.559026400637296\n",
      "\u001b[36m\u001b[1m┌ \u001b[22m\u001b[39m\u001b[36m\u001b[1mInfo: \u001b[22m\u001b[39mSaving coefficients! Test loss is equal to :\n",
      "\u001b[36m\u001b[1m└ \u001b[22m\u001b[39m  test = 3.559026400637296\n"
     ]
    },
    {
     "name": "stdout",
     "output_type": "stream",
     "text": [
      " 51.714515 seconds (1.26 k allocations: 42.797 KiB)\n"
     ]
    },
    {
     "name": "stderr",
     "output_type": "stream",
     "text": [
      "\u001b[36m\u001b[1m┌ \u001b[22m\u001b[39m\u001b[36m\u001b[1mInfo: \u001b[22m\u001b[39mLoss:\n",
      "\u001b[36m\u001b[1m│ \u001b[22m\u001b[39m  train = 13.904911443021089\n",
      "\u001b[36m\u001b[1m└ \u001b[22m\u001b[39m  test = 3.5497039067029776\n",
      "\u001b[36m\u001b[1m┌ \u001b[22m\u001b[39m\u001b[36m\u001b[1mInfo: \u001b[22m\u001b[39mSaving coefficients! Test loss is equal to :\n",
      "\u001b[36m\u001b[1m└ \u001b[22m\u001b[39m  test = 3.5497039067029776\n"
     ]
    },
    {
     "name": "stdout",
     "output_type": "stream",
     "text": [
      " 54.309962 seconds (1.91 k allocations: 63.156 KiB)\n"
     ]
    },
    {
     "name": "stderr",
     "output_type": "stream",
     "text": [
      "\u001b[36m\u001b[1m┌ \u001b[22m\u001b[39m\u001b[36m\u001b[1mInfo: \u001b[22m\u001b[39mLoss:\n",
      "\u001b[36m\u001b[1m│ \u001b[22m\u001b[39m  train = 13.874344371231963\n",
      "\u001b[36m\u001b[1m└ \u001b[22m\u001b[39m  test = 3.541742259595755\n",
      "\u001b[36m\u001b[1m┌ \u001b[22m\u001b[39m\u001b[36m\u001b[1mInfo: \u001b[22m\u001b[39mSaving coefficients! Test loss is equal to :\n",
      "\u001b[36m\u001b[1m└ \u001b[22m\u001b[39m  test = 3.541742259595755\n"
     ]
    },
    {
     "name": "stdout",
     "output_type": "stream",
     "text": [
      " 52.547306 seconds (1.42 k allocations: 47.656 KiB)\n"
     ]
    },
    {
     "name": "stderr",
     "output_type": "stream",
     "text": [
      "\u001b[36m\u001b[1m┌ \u001b[22m\u001b[39m\u001b[36m\u001b[1mInfo: \u001b[22m\u001b[39mLoss:\n",
      "\u001b[36m\u001b[1m│ \u001b[22m\u001b[39m  train = 13.842633076198648\n",
      "\u001b[36m\u001b[1m└ \u001b[22m\u001b[39m  test = 3.5334712080206905\n",
      "\u001b[36m\u001b[1m┌ \u001b[22m\u001b[39m\u001b[36m\u001b[1mInfo: \u001b[22m\u001b[39mSaving coefficients! Test loss is equal to :\n",
      "\u001b[36m\u001b[1m└ \u001b[22m\u001b[39m  test = 3.5334712080206905\n"
     ]
    },
    {
     "name": "stdout",
     "output_type": "stream",
     "text": [
      " 54.811926 seconds (1.89 k allocations: 62.547 KiB)\n"
     ]
    },
    {
     "name": "stderr",
     "output_type": "stream",
     "text": [
      "\u001b[36m\u001b[1m┌ \u001b[22m\u001b[39m\u001b[36m\u001b[1mInfo: \u001b[22m\u001b[39mLoss:\n",
      "\u001b[36m\u001b[1m│ \u001b[22m\u001b[39m  train = 13.808124565370285\n",
      "\u001b[36m\u001b[1m└ \u001b[22m\u001b[39m  test = 3.524455473524983\n",
      "\u001b[36m\u001b[1m┌ \u001b[22m\u001b[39m\u001b[36m\u001b[1mInfo: \u001b[22m\u001b[39mSaving coefficients! Test loss is equal to :\n",
      "\u001b[36m\u001b[1m└ \u001b[22m\u001b[39m  test = 3.524455473524983\n"
     ]
    },
    {
     "name": "stdout",
     "output_type": "stream",
     "text": [
      " 54.505079 seconds (1.84 k allocations: 61.078 KiB)\n"
     ]
    },
    {
     "name": "stderr",
     "output_type": "stream",
     "text": [
      "\u001b[36m\u001b[1m┌ \u001b[22m\u001b[39m\u001b[36m\u001b[1mInfo: \u001b[22m\u001b[39mLoss:\n",
      "\u001b[36m\u001b[1m│ \u001b[22m\u001b[39m  train = 13.77624835350432\n",
      "\u001b[36m\u001b[1m└ \u001b[22m\u001b[39m  test = 3.5162535404652404\n",
      "\u001b[36m\u001b[1m┌ \u001b[22m\u001b[39m\u001b[36m\u001b[1mInfo: \u001b[22m\u001b[39mSaving coefficients! Test loss is equal to :\n",
      "\u001b[36m\u001b[1m└ \u001b[22m\u001b[39m  test = 3.5162535404652404\n"
     ]
    },
    {
     "name": "stdout",
     "output_type": "stream",
     "text": [
      " 51.199294 seconds (1.17 k allocations: 39.984 KiB)\n"
     ]
    },
    {
     "name": "stderr",
     "output_type": "stream",
     "text": [
      "\u001b[36m\u001b[1m┌ \u001b[22m\u001b[39m\u001b[36m\u001b[1mInfo: \u001b[22m\u001b[39mLoss:\n",
      "\u001b[36m\u001b[1m│ \u001b[22m\u001b[39m  train = 13.745458141977565\n",
      "\u001b[36m\u001b[1m└ \u001b[22m\u001b[39m  test = 3.5082988217225477\n",
      "\u001b[36m\u001b[1m┌ \u001b[22m\u001b[39m\u001b[36m\u001b[1mInfo: \u001b[22m\u001b[39mSaving coefficients! Test loss is equal to :\n",
      "\u001b[36m\u001b[1m└ \u001b[22m\u001b[39m  test = 3.5082988217225477\n"
     ]
    },
    {
     "name": "stdout",
     "output_type": "stream",
     "text": [
      " 53.227309 seconds (1.60 k allocations: 53.297 KiB)\n"
     ]
    },
    {
     "name": "stderr",
     "output_type": "stream",
     "text": [
      "\u001b[36m\u001b[1m┌ \u001b[22m\u001b[39m\u001b[36m\u001b[1mInfo: \u001b[22m\u001b[39mLoss:\n",
      "\u001b[36m\u001b[1m│ \u001b[22m\u001b[39m  train = 13.710882855034765\n",
      "\u001b[36m\u001b[1m└ \u001b[22m\u001b[39m  test = 3.499219980118183\n",
      "\u001b[36m\u001b[1m┌ \u001b[22m\u001b[39m\u001b[36m\u001b[1mInfo: \u001b[22m\u001b[39mSaving coefficients! Test loss is equal to :\n",
      "\u001b[36m\u001b[1m└ \u001b[22m\u001b[39m  test = 3.499219980118183\n"
     ]
    },
    {
     "name": "stdout",
     "output_type": "stream",
     "text": [
      " 51.312744 seconds (1.17 k allocations: 40.078 KiB)\n"
     ]
    },
    {
     "name": "stderr",
     "output_type": "stream",
     "text": [
      "\u001b[36m\u001b[1m┌ \u001b[22m\u001b[39m\u001b[36m\u001b[1mInfo: \u001b[22m\u001b[39mLoss:\n",
      "\u001b[36m\u001b[1m│ \u001b[22m\u001b[39m  train = 13.679794319901116\n",
      "\u001b[36m\u001b[1m└ \u001b[22m\u001b[39m  test = 3.491131335427956\n",
      "\u001b[36m\u001b[1m┌ \u001b[22m\u001b[39m\u001b[36m\u001b[1mInfo: \u001b[22m\u001b[39mSaving coefficients! Test loss is equal to :\n",
      "\u001b[36m\u001b[1m└ \u001b[22m\u001b[39m  test = 3.491131335427956\n"
     ]
    },
    {
     "name": "stdout",
     "output_type": "stream",
     "text": [
      " 53.298874 seconds (1.60 k allocations: 53.391 KiB)\n"
     ]
    },
    {
     "name": "stderr",
     "output_type": "stream",
     "text": [
      "\u001b[36m\u001b[1m┌ \u001b[22m\u001b[39m\u001b[36m\u001b[1mInfo: \u001b[22m\u001b[39mLoss:\n",
      "\u001b[36m\u001b[1m│ \u001b[22m\u001b[39m  train = 13.644254984012319\n",
      "\u001b[36m\u001b[1m└ \u001b[22m\u001b[39m  test = 3.481982404642113\n",
      "\u001b[36m\u001b[1m┌ \u001b[22m\u001b[39m\u001b[36m\u001b[1mInfo: \u001b[22m\u001b[39mSaving coefficients! Test loss is equal to :\n",
      "\u001b[36m\u001b[1m└ \u001b[22m\u001b[39m  test = 3.481982404642113\n"
     ]
    },
    {
     "name": "stdout",
     "output_type": "stream",
     "text": [
      " 54.673635 seconds (1.87 k allocations: 61.969 KiB)\n"
     ]
    },
    {
     "name": "stderr",
     "output_type": "stream",
     "text": [
      "\u001b[36m\u001b[1m┌ \u001b[22m\u001b[39m\u001b[36m\u001b[1mInfo: \u001b[22m\u001b[39mLoss:\n",
      "\u001b[36m\u001b[1m│ \u001b[22m\u001b[39m  train = 13.611312994091506\n",
      "\u001b[36m\u001b[1m└ \u001b[22m\u001b[39m  test = 3.473402505256602\n",
      "\u001b[36m\u001b[1m┌ \u001b[22m\u001b[39m\u001b[36m\u001b[1mInfo: \u001b[22m\u001b[39mSaving coefficients! Test loss is equal to :\n",
      "\u001b[36m\u001b[1m└ \u001b[22m\u001b[39m  test = 3.473402505256602\n"
     ]
    },
    {
     "name": "stdout",
     "output_type": "stream",
     "text": [
      " 54.851702 seconds (1.96 k allocations: 64.250 KiB)\n"
     ]
    },
    {
     "name": "stderr",
     "output_type": "stream",
     "text": [
      "\u001b[36m\u001b[1m┌ \u001b[22m\u001b[39m\u001b[36m\u001b[1mInfo: \u001b[22m\u001b[39mLoss:\n",
      "\u001b[36m\u001b[1m│ \u001b[22m\u001b[39m  train = 13.581032138720763\n",
      "\u001b[36m\u001b[1m└ \u001b[22m\u001b[39m  test = 3.4655344041267586\n",
      "\u001b[36m\u001b[1m┌ \u001b[22m\u001b[39m\u001b[36m\u001b[1mInfo: \u001b[22m\u001b[39mSaving coefficients! Test loss is equal to :\n",
      "\u001b[36m\u001b[1m└ \u001b[22m\u001b[39m  test = 3.4655344041267586\n"
     ]
    },
    {
     "name": "stdout",
     "output_type": "stream",
     "text": [
      " 54.821698 seconds (1.94 k allocations: 63.688 KiB)\n"
     ]
    },
    {
     "name": "stderr",
     "output_type": "stream",
     "text": [
      "\u001b[36m\u001b[1m┌ \u001b[22m\u001b[39m\u001b[36m\u001b[1mInfo: \u001b[22m\u001b[39mLoss:\n",
      "\u001b[36m\u001b[1m│ \u001b[22m\u001b[39m  train = 13.550510456654813\n",
      "\u001b[36m\u001b[1m└ \u001b[22m\u001b[39m  test = 3.457632046757675\n",
      "\u001b[36m\u001b[1m┌ \u001b[22m\u001b[39m\u001b[36m\u001b[1mInfo: \u001b[22m\u001b[39mSaving coefficients! Test loss is equal to :\n",
      "\u001b[36m\u001b[1m└ \u001b[22m\u001b[39m  test = 3.457632046757675\n"
     ]
    },
    {
     "name": "stdout",
     "output_type": "stream",
     "text": [
      " 53.922341 seconds (1.75 k allocations: 57.750 KiB)\n"
     ]
    },
    {
     "name": "stderr",
     "output_type": "stream",
     "text": [
      "\u001b[36m\u001b[1m┌ \u001b[22m\u001b[39m\u001b[36m\u001b[1mInfo: \u001b[22m\u001b[39mLoss:\n",
      "\u001b[36m\u001b[1m│ \u001b[22m\u001b[39m  train = 13.521140627475976\n",
      "\u001b[36m\u001b[1m└ \u001b[22m\u001b[39m  test = 3.4499554061524544\n",
      "\u001b[36m\u001b[1m┌ \u001b[22m\u001b[39m\u001b[36m\u001b[1mInfo: \u001b[22m\u001b[39mSaving coefficients! Test loss is equal to :\n",
      "\u001b[36m\u001b[1m└ \u001b[22m\u001b[39m  test = 3.4499554061524544\n"
     ]
    },
    {
     "name": "stdout",
     "output_type": "stream",
     "text": [
      " 51.826251 seconds (1.29 k allocations: 43.609 KiB)\n"
     ]
    },
    {
     "name": "stderr",
     "output_type": "stream",
     "text": [
      "\u001b[36m\u001b[1m┌ \u001b[22m\u001b[39m\u001b[36m\u001b[1mInfo: \u001b[22m\u001b[39mLoss:\n",
      "\u001b[36m\u001b[1m│ \u001b[22m\u001b[39m  train = 13.491914974731472\n",
      "\u001b[36m\u001b[1m└ \u001b[22m\u001b[39m  test = 3.442472032531856\n",
      "\u001b[36m\u001b[1m┌ \u001b[22m\u001b[39m\u001b[36m\u001b[1mInfo: \u001b[22m\u001b[39mSaving coefficients! Test loss is equal to :\n",
      "\u001b[36m\u001b[1m└ \u001b[22m\u001b[39m  test = 3.442472032531856\n"
     ]
    },
    {
     "name": "stdout",
     "output_type": "stream",
     "text": [
      " 51.813710 seconds (1.30 k allocations: 43.938 KiB)\n"
     ]
    },
    {
     "name": "stderr",
     "output_type": "stream",
     "text": [
      "\u001b[36m\u001b[1m┌ \u001b[22m\u001b[39m\u001b[36m\u001b[1mInfo: \u001b[22m\u001b[39mLoss:\n",
      "\u001b[36m\u001b[1m│ \u001b[22m\u001b[39m  train = 13.454684890400777\n",
      "\u001b[36m\u001b[1m└ \u001b[22m\u001b[39m  test = 3.4327007005332444\n",
      "\u001b[36m\u001b[1m┌ \u001b[22m\u001b[39m\u001b[36m\u001b[1mInfo: \u001b[22m\u001b[39mSaving coefficients! Test loss is equal to :\n",
      "\u001b[36m\u001b[1m└ \u001b[22m\u001b[39m  test = 3.4327007005332444\n"
     ]
    },
    {
     "name": "stdout",
     "output_type": "stream",
     "text": [
      " 51.188913 seconds (1.17 k allocations: 39.625 KiB)\n"
     ]
    },
    {
     "name": "stderr",
     "output_type": "stream",
     "text": [
      "\u001b[36m\u001b[1m┌ \u001b[22m\u001b[39m\u001b[36m\u001b[1mInfo: \u001b[22m\u001b[39mLoss:\n",
      "\u001b[36m\u001b[1m│ \u001b[22m\u001b[39m  train = 13.417046360003843\n",
      "\u001b[36m\u001b[1m└ \u001b[22m\u001b[39m  test = 3.423027103096258\n",
      "\u001b[36m\u001b[1m┌ \u001b[22m\u001b[39m\u001b[36m\u001b[1mInfo: \u001b[22m\u001b[39mSaving coefficients! Test loss is equal to :\n",
      "\u001b[36m\u001b[1m└ \u001b[22m\u001b[39m  test = 3.423027103096258\n"
     ]
    },
    {
     "name": "stdout",
     "output_type": "stream",
     "text": [
      " 51.174105 seconds (1.17 k allocations: 39.688 KiB)\n"
     ]
    },
    {
     "name": "stderr",
     "output_type": "stream",
     "text": [
      "\u001b[36m\u001b[1m┌ \u001b[22m\u001b[39m\u001b[36m\u001b[1mInfo: \u001b[22m\u001b[39mLoss:\n",
      "\u001b[36m\u001b[1m│ \u001b[22m\u001b[39m  train = 13.386933818175283\n",
      "\u001b[36m\u001b[1m└ \u001b[22m\u001b[39m  test = 3.4152617680408848\n",
      "\u001b[36m\u001b[1m┌ \u001b[22m\u001b[39m\u001b[36m\u001b[1mInfo: \u001b[22m\u001b[39mSaving coefficients! Test loss is equal to :\n",
      "\u001b[36m\u001b[1m└ \u001b[22m\u001b[39m  test = 3.4152617680408848\n"
     ]
    },
    {
     "name": "stdout",
     "output_type": "stream",
     "text": [
      " 51.150304 seconds (1.17 k allocations: 39.688 KiB)\n"
     ]
    },
    {
     "name": "stderr",
     "output_type": "stream",
     "text": [
      "\u001b[36m\u001b[1m┌ \u001b[22m\u001b[39m\u001b[36m\u001b[1mInfo: \u001b[22m\u001b[39mLoss:\n",
      "\u001b[36m\u001b[1m│ \u001b[22m\u001b[39m  train = 13.35848310377176\n",
      "\u001b[36m\u001b[1m└ \u001b[22m\u001b[39m  test = 3.4077849712848556\n",
      "\u001b[36m\u001b[1m┌ \u001b[22m\u001b[39m\u001b[36m\u001b[1mInfo: \u001b[22m\u001b[39mSaving coefficients! Test loss is equal to :\n",
      "\u001b[36m\u001b[1m└ \u001b[22m\u001b[39m  test = 3.4077849712848556\n"
     ]
    },
    {
     "name": "stdout",
     "output_type": "stream",
     "text": [
      " 51.803308 seconds (1.33 k allocations: 44.812 KiB)\n"
     ]
    },
    {
     "name": "stderr",
     "output_type": "stream",
     "text": [
      "\u001b[36m\u001b[1m┌ \u001b[22m\u001b[39m\u001b[36m\u001b[1mInfo: \u001b[22m\u001b[39mLoss:\n",
      "\u001b[36m\u001b[1m│ \u001b[22m\u001b[39m  train = 13.327296125059831\n",
      "\u001b[36m\u001b[1m└ \u001b[22m\u001b[39m  test = 3.399783801666297\n",
      "\u001b[36m\u001b[1m┌ \u001b[22m\u001b[39m\u001b[36m\u001b[1mInfo: \u001b[22m\u001b[39mSaving coefficients! Test loss is equal to :\n",
      "\u001b[36m\u001b[1m└ \u001b[22m\u001b[39m  test = 3.399783801666297\n"
     ]
    },
    {
     "name": "stdout",
     "output_type": "stream",
     "text": [
      " 52.893242 seconds (1.42 k allocations: 48.344 KiB)\n"
     ]
    },
    {
     "name": "stderr",
     "output_type": "stream",
     "text": [
      "\u001b[36m\u001b[1m┌ \u001b[22m\u001b[39m\u001b[36m\u001b[1mInfo: \u001b[22m\u001b[39mLoss:\n",
      "\u001b[36m\u001b[1m│ \u001b[22m\u001b[39m  train = 13.29945598915749\n",
      "\u001b[36m\u001b[1m└ \u001b[22m\u001b[39m  test = 3.3925814727386174\n",
      "\u001b[36m\u001b[1m┌ \u001b[22m\u001b[39m\u001b[36m\u001b[1mInfo: \u001b[22m\u001b[39mSaving coefficients! Test loss is equal to :\n",
      "\u001b[36m\u001b[1m└ \u001b[22m\u001b[39m  test = 3.3925814727386174\n"
     ]
    },
    {
     "name": "stdout",
     "output_type": "stream",
     "text": [
      " 51.539988 seconds (1.08 k allocations: 37.812 KiB)\n"
     ]
    },
    {
     "name": "stderr",
     "output_type": "stream",
     "text": [
      "\u001b[36m\u001b[1m┌ \u001b[22m\u001b[39m\u001b[36m\u001b[1mInfo: \u001b[22m\u001b[39mLoss:\n",
      "\u001b[36m\u001b[1m│ \u001b[22m\u001b[39m  train = 13.272037346900653\n",
      "\u001b[36m\u001b[1m└ \u001b[22m\u001b[39m  test = 3.385435061873983\n",
      "\u001b[36m\u001b[1m┌ \u001b[22m\u001b[39m\u001b[36m\u001b[1mInfo: \u001b[22m\u001b[39mSaving coefficients! Test loss is equal to :\n",
      "\u001b[36m\u001b[1m└ \u001b[22m\u001b[39m  test = 3.385435061873983\n"
     ]
    },
    {
     "name": "stdout",
     "output_type": "stream",
     "text": [
      " 52.989151 seconds (1.53 k allocations: 51.000 KiB)\n"
     ]
    },
    {
     "name": "stderr",
     "output_type": "stream",
     "text": [
      "\u001b[36m\u001b[1m┌ \u001b[22m\u001b[39m\u001b[36m\u001b[1mInfo: \u001b[22m\u001b[39mLoss:\n",
      "\u001b[36m\u001b[1m│ \u001b[22m\u001b[39m  train = 13.244191529108946\n",
      "\u001b[36m\u001b[1m└ \u001b[22m\u001b[39m  test = 3.378258211687884\n",
      "\u001b[36m\u001b[1m┌ \u001b[22m\u001b[39m\u001b[36m\u001b[1mInfo: \u001b[22m\u001b[39mSaving coefficients! Test loss is equal to :\n",
      "\u001b[36m\u001b[1m└ \u001b[22m\u001b[39m  test = 3.378258211687884\n"
     ]
    },
    {
     "name": "stdout",
     "output_type": "stream",
     "text": [
      " 57.205699 seconds (2.41 k allocations: 78.562 KiB)\n"
     ]
    },
    {
     "name": "stderr",
     "output_type": "stream",
     "text": [
      "\u001b[36m\u001b[1m┌ \u001b[22m\u001b[39m\u001b[36m\u001b[1mInfo: \u001b[22m\u001b[39mLoss:\n",
      "\u001b[36m\u001b[1m│ \u001b[22m\u001b[39m  train = 13.216613959317973\n",
      "\u001b[36m\u001b[1m└ \u001b[22m\u001b[39m  test = 3.371129445594566\n",
      "\u001b[36m\u001b[1m┌ \u001b[22m\u001b[39m\u001b[36m\u001b[1mInfo: \u001b[22m\u001b[39mSaving coefficients! Test loss is equal to :\n",
      "\u001b[36m\u001b[1m└ \u001b[22m\u001b[39m  test = 3.371129445594566\n"
     ]
    },
    {
     "name": "stdout",
     "output_type": "stream",
     "text": [
      " 52.739389 seconds (1.48 k allocations: 49.469 KiB)\n"
     ]
    },
    {
     "name": "stderr",
     "output_type": "stream",
     "text": [
      "\u001b[36m\u001b[1m┌ \u001b[22m\u001b[39m\u001b[36m\u001b[1mInfo: \u001b[22m\u001b[39mLoss:\n",
      "\u001b[36m\u001b[1m│ \u001b[22m\u001b[39m  train = 13.184063376999498\n",
      "\u001b[36m\u001b[1m└ \u001b[22m\u001b[39m  test = 3.362686003442559\n",
      "\u001b[36m\u001b[1m┌ \u001b[22m\u001b[39m\u001b[36m\u001b[1mInfo: \u001b[22m\u001b[39mSaving coefficients! Test loss is equal to :\n",
      "\u001b[36m\u001b[1m└ \u001b[22m\u001b[39m  test = 3.362686003442559\n"
     ]
    },
    {
     "name": "stdout",
     "output_type": "stream",
     "text": [
      " 52.722579 seconds (1.46 k allocations: 48.906 KiB)\n"
     ]
    },
    {
     "name": "stderr",
     "output_type": "stream",
     "text": [
      "\u001b[36m\u001b[1m┌ \u001b[22m\u001b[39m\u001b[36m\u001b[1mInfo: \u001b[22m\u001b[39mLoss:\n",
      "\u001b[36m\u001b[1m│ \u001b[22m\u001b[39m  train = 13.152622270882086\n",
      "\u001b[36m\u001b[1m└ \u001b[22m\u001b[39m  test = 3.35458332127417\n",
      "\u001b[36m\u001b[1m┌ \u001b[22m\u001b[39m\u001b[36m\u001b[1mInfo: \u001b[22m\u001b[39mSaving coefficients! Test loss is equal to :\n",
      "\u001b[36m\u001b[1m└ \u001b[22m\u001b[39m  test = 3.35458332127417\n"
     ]
    },
    {
     "name": "stdout",
     "output_type": "stream",
     "text": [
      " 55.251774 seconds (2.00 k allocations: 65.625 KiB)\n"
     ]
    },
    {
     "name": "stderr",
     "output_type": "stream",
     "text": [
      "\u001b[36m\u001b[1m┌ \u001b[22m\u001b[39m\u001b[36m\u001b[1mInfo: \u001b[22m\u001b[39mLoss:\n",
      "\u001b[36m\u001b[1m│ \u001b[22m\u001b[39m  train = 13.12527329493243\n",
      "\u001b[36m\u001b[1m└ \u001b[22m\u001b[39m  test = 3.3474968115818386\n",
      "\u001b[36m\u001b[1m┌ \u001b[22m\u001b[39m\u001b[36m\u001b[1mInfo: \u001b[22m\u001b[39mSaving coefficients! Test loss is equal to :\n",
      "\u001b[36m\u001b[1m└ \u001b[22m\u001b[39m  test = 3.3474968115818386\n"
     ]
    },
    {
     "name": "stdout",
     "output_type": "stream",
     "text": [
      " 51.988579 seconds (1.31 k allocations: 44.125 KiB)\n"
     ]
    },
    {
     "name": "stderr",
     "output_type": "stream",
     "text": [
      "\u001b[36m\u001b[1m┌ \u001b[22m\u001b[39m\u001b[36m\u001b[1mInfo: \u001b[22m\u001b[39mLoss:\n",
      "\u001b[36m\u001b[1m│ \u001b[22m\u001b[39m  train = 13.097947192237001\n",
      "\u001b[36m\u001b[1m└ \u001b[22m\u001b[39m  test = 3.340420852876982\n",
      "\u001b[36m\u001b[1m┌ \u001b[22m\u001b[39m\u001b[36m\u001b[1mInfo: \u001b[22m\u001b[39mSaving coefficients! Test loss is equal to :\n",
      "\u001b[36m\u001b[1m└ \u001b[22m\u001b[39m  test = 3.340420852876982\n"
     ]
    },
    {
     "name": "stdout",
     "output_type": "stream",
     "text": [
      " 51.276080 seconds (1.18 k allocations: 39.906 KiB)\n"
     ]
    },
    {
     "name": "stderr",
     "output_type": "stream",
     "text": [
      "\u001b[36m\u001b[1m┌ \u001b[22m\u001b[39m\u001b[36m\u001b[1mInfo: \u001b[22m\u001b[39mLoss:\n",
      "\u001b[36m\u001b[1m│ \u001b[22m\u001b[39m  train = 13.070730321721062\n",
      "\u001b[36m\u001b[1m└ \u001b[22m\u001b[39m  test = 3.3333843221425647\n",
      "\u001b[36m\u001b[1m┌ \u001b[22m\u001b[39m\u001b[36m\u001b[1mInfo: \u001b[22m\u001b[39mSaving coefficients! Test loss is equal to :\n",
      "\u001b[36m\u001b[1m└ \u001b[22m\u001b[39m  test = 3.3333843221425647\n"
     ]
    },
    {
     "name": "stdout",
     "output_type": "stream",
     "text": [
      " 52.858709 seconds (1.47 k allocations: 49.000 KiB)\n"
     ]
    },
    {
     "name": "stderr",
     "output_type": "stream",
     "text": [
      "\u001b[36m\u001b[1m┌ \u001b[22m\u001b[39m\u001b[36m\u001b[1mInfo: \u001b[22m\u001b[39mLoss:\n",
      "\u001b[36m\u001b[1m│ \u001b[22m\u001b[39m  train = 13.043690435630168\n",
      "\u001b[36m\u001b[1m└ \u001b[22m\u001b[39m  test = 3.3263771445391406\n",
      "\u001b[36m\u001b[1m┌ \u001b[22m\u001b[39m\u001b[36m\u001b[1mInfo: \u001b[22m\u001b[39mSaving coefficients! Test loss is equal to :\n",
      "\u001b[36m\u001b[1m└ \u001b[22m\u001b[39m  test = 3.3263771445391406\n"
     ]
    },
    {
     "name": "stdout",
     "output_type": "stream",
     "text": [
      " 54.076533 seconds (1.73 k allocations: 57.062 KiB)\n"
     ]
    },
    {
     "name": "stderr",
     "output_type": "stream",
     "text": [
      "\u001b[36m\u001b[1m┌ \u001b[22m\u001b[39m\u001b[36m\u001b[1mInfo: \u001b[22m\u001b[39mLoss:\n",
      "\u001b[36m\u001b[1m│ \u001b[22m\u001b[39m  train = 13.016067878637047\n",
      "\u001b[36m\u001b[1m└ \u001b[22m\u001b[39m  test = 3.3192437799787067\n",
      "\u001b[36m\u001b[1m┌ \u001b[22m\u001b[39m\u001b[36m\u001b[1mInfo: \u001b[22m\u001b[39mSaving coefficients! Test loss is equal to :\n",
      "\u001b[36m\u001b[1m└ \u001b[22m\u001b[39m  test = 3.3192437799787067\n"
     ]
    },
    {
     "name": "stdout",
     "output_type": "stream",
     "text": [
      " 49.448887 seconds (1.11 k allocations: 38.281 KiB)\n"
     ]
    },
    {
     "name": "stderr",
     "output_type": "stream",
     "text": [
      "\u001b[36m\u001b[1m┌ \u001b[22m\u001b[39m\u001b[36m\u001b[1mInfo: \u001b[22m\u001b[39mLoss:\n",
      "\u001b[36m\u001b[1m│ \u001b[22m\u001b[39m  train = 12.987214449469016\n",
      "\u001b[36m\u001b[1m└ \u001b[22m\u001b[39m  test = 3.3117828444183472\n",
      "\u001b[36m\u001b[1m┌ \u001b[22m\u001b[39m\u001b[36m\u001b[1mInfo: \u001b[22m\u001b[39mSaving coefficients! Test loss is equal to :\n",
      "\u001b[36m\u001b[1m└ \u001b[22m\u001b[39m  test = 3.3117828444183472\n"
     ]
    },
    {
     "name": "stdout",
     "output_type": "stream",
     "text": [
      " 49.985558 seconds (1.12 k allocations: 38.641 KiB)\n"
     ]
    },
    {
     "name": "stderr",
     "output_type": "stream",
     "text": [
      "\u001b[36m\u001b[1m┌ \u001b[22m\u001b[39m\u001b[36m\u001b[1mInfo: \u001b[22m\u001b[39mLoss:\n",
      "\u001b[36m\u001b[1m│ \u001b[22m\u001b[39m  train = 12.960228408360074\n",
      "\u001b[36m\u001b[1m└ \u001b[22m\u001b[39m  test = 3.3048042791116914\n",
      "\u001b[36m\u001b[1m┌ \u001b[22m\u001b[39m\u001b[36m\u001b[1mInfo: \u001b[22m\u001b[39mSaving coefficients! Test loss is equal to :\n",
      "\u001b[36m\u001b[1m└ \u001b[22m\u001b[39m  test = 3.3048042791116914\n"
     ]
    },
    {
     "name": "stdout",
     "output_type": "stream",
     "text": [
      " 52.617054 seconds (1.50 k allocations: 49.938 KiB)\n"
     ]
    },
    {
     "name": "stderr",
     "output_type": "stream",
     "text": [
      "\u001b[36m\u001b[1m┌ \u001b[22m\u001b[39m\u001b[36m\u001b[1mInfo: \u001b[22m\u001b[39mLoss:\n",
      "\u001b[36m\u001b[1m│ \u001b[22m\u001b[39m  train = 12.93270207418432\n",
      "\u001b[36m\u001b[1m└ \u001b[22m\u001b[39m  test = 3.2976772928989315\n",
      "\u001b[36m\u001b[1m┌ \u001b[22m\u001b[39m\u001b[36m\u001b[1mInfo: \u001b[22m\u001b[39mSaving coefficients! Test loss is equal to :\n",
      "\u001b[36m\u001b[1m└ \u001b[22m\u001b[39m  test = 3.2976772928989315\n"
     ]
    },
    {
     "name": "stdout",
     "output_type": "stream",
     "text": [
      " 51.549022 seconds (1.18 k allocations: 39.875 KiB)\n"
     ]
    },
    {
     "name": "stderr",
     "output_type": "stream",
     "text": [
      "\u001b[36m\u001b[1m┌ \u001b[22m\u001b[39m\u001b[36m\u001b[1mInfo: \u001b[22m\u001b[39mLoss:\n",
      "\u001b[36m\u001b[1m│ \u001b[22m\u001b[39m  train = 12.906419955798286\n",
      "\u001b[36m\u001b[1m└ \u001b[22m\u001b[39m  test = 3.290846146186153\n",
      "\u001b[36m\u001b[1m┌ \u001b[22m\u001b[39m\u001b[36m\u001b[1mInfo: \u001b[22m\u001b[39mSaving coefficients! Test loss is equal to :\n",
      "\u001b[36m\u001b[1m└ \u001b[22m\u001b[39m  test = 3.290846146186153\n"
     ]
    },
    {
     "name": "stdout",
     "output_type": "stream",
     "text": [
      " 52.741906 seconds (1.44 k allocations: 48.125 KiB)\n"
     ]
    },
    {
     "name": "stderr",
     "output_type": "stream",
     "text": [
      "\u001b[36m\u001b[1m┌ \u001b[22m\u001b[39m\u001b[36m\u001b[1mInfo: \u001b[22m\u001b[39mLoss:\n",
      "\u001b[36m\u001b[1m│ \u001b[22m\u001b[39m  train = 12.880459223634606\n",
      "\u001b[36m\u001b[1m└ \u001b[22m\u001b[39m  test = 3.284137556698298\n",
      "\u001b[36m\u001b[1m┌ \u001b[22m\u001b[39m\u001b[36m\u001b[1mInfo: \u001b[22m\u001b[39mSaving coefficients! Test loss is equal to :\n",
      "\u001b[36m\u001b[1m└ \u001b[22m\u001b[39m  test = 3.284137556698298\n"
     ]
    },
    {
     "name": "stdout",
     "output_type": "stream",
     "text": [
      " 51.745970 seconds (1.23 k allocations: 41.578 KiB)\n"
     ]
    },
    {
     "name": "stderr",
     "output_type": "stream",
     "text": [
      "\u001b[36m\u001b[1m┌ \u001b[22m\u001b[39m\u001b[36m\u001b[1mInfo: \u001b[22m\u001b[39mLoss:\n",
      "\u001b[36m\u001b[1m│ \u001b[22m\u001b[39m  train = 12.85499791545644\n",
      "\u001b[36m\u001b[1m└ \u001b[22m\u001b[39m  test = 3.277560538013118\n",
      "\u001b[36m\u001b[1m┌ \u001b[22m\u001b[39m\u001b[36m\u001b[1mInfo: \u001b[22m\u001b[39mSaving coefficients! Test loss is equal to :\n",
      "\u001b[36m\u001b[1m└ \u001b[22m\u001b[39m  test = 3.277560538013118\n"
     ]
    },
    {
     "name": "stdout",
     "output_type": "stream",
     "text": [
      " 54.395023 seconds (1.82 k allocations: 60.141 KiB)\n"
     ]
    },
    {
     "name": "stderr",
     "output_type": "stream",
     "text": [
      "\u001b[36m\u001b[1m┌ \u001b[22m\u001b[39m\u001b[36m\u001b[1mInfo: \u001b[22m\u001b[39mLoss:\n",
      "\u001b[36m\u001b[1m│ \u001b[22m\u001b[39m  train = 12.828964628452933\n",
      "\u001b[36m\u001b[1m└ \u001b[22m\u001b[39m  test = 3.270820156413395\n",
      "\u001b[36m\u001b[1m┌ \u001b[22m\u001b[39m\u001b[36m\u001b[1mInfo: \u001b[22m\u001b[39mSaving coefficients! Test loss is equal to :\n",
      "\u001b[36m\u001b[1m└ \u001b[22m\u001b[39m  test = 3.270820156413395\n"
     ]
    },
    {
     "name": "stdout",
     "output_type": "stream",
     "text": [
      " 54.135856 seconds (1.79 k allocations: 59.469 KiB)\n"
     ]
    },
    {
     "name": "stderr",
     "output_type": "stream",
     "text": [
      "\u001b[36m\u001b[1m┌ \u001b[22m\u001b[39m\u001b[36m\u001b[1mInfo: \u001b[22m\u001b[39mLoss:\n",
      "\u001b[36m\u001b[1m│ \u001b[22m\u001b[39m  train = 12.803680136582681\n",
      "\u001b[36m\u001b[1m└ \u001b[22m\u001b[39m  test = 3.2643071407296738\n",
      "\u001b[36m\u001b[1m┌ \u001b[22m\u001b[39m\u001b[36m\u001b[1mInfo: \u001b[22m\u001b[39mSaving coefficients! Test loss is equal to :\n",
      "\u001b[36m\u001b[1m└ \u001b[22m\u001b[39m  test = 3.2643071407296738\n"
     ]
    },
    {
     "name": "stdout",
     "output_type": "stream",
     "text": [
      " 54.801654 seconds (1.85 k allocations: 61.172 KiB)\n"
     ]
    },
    {
     "name": "stderr",
     "output_type": "stream",
     "text": [
      "\u001b[36m\u001b[1m┌ \u001b[22m\u001b[39m\u001b[36m\u001b[1mInfo: \u001b[22m\u001b[39mLoss:\n",
      "\u001b[36m\u001b[1m│ \u001b[22m\u001b[39m  train = 12.775002704726731\n",
      "\u001b[36m\u001b[1m└ \u001b[22m\u001b[39m  test = 3.2568577997467987\n",
      "\u001b[36m\u001b[1m┌ \u001b[22m\u001b[39m\u001b[36m\u001b[1mInfo: \u001b[22m\u001b[39mSaving coefficients! Test loss is equal to :\n",
      "\u001b[36m\u001b[1m└ \u001b[22m\u001b[39m  test = 3.2568577997467987\n"
     ]
    },
    {
     "name": "stdout",
     "output_type": "stream",
     "text": [
      " 53.411939 seconds (1.66 k allocations: 55.281 KiB)\n"
     ]
    },
    {
     "name": "stderr",
     "output_type": "stream",
     "text": [
      "\u001b[36m\u001b[1m┌ \u001b[22m\u001b[39m\u001b[36m\u001b[1mInfo: \u001b[22m\u001b[39mLoss:\n",
      "\u001b[36m\u001b[1m│ \u001b[22m\u001b[39m  train = 12.7483173127061\n",
      "\u001b[36m\u001b[1m└ \u001b[22m\u001b[39m  test = 3.2500208075071133\n",
      "\u001b[36m\u001b[1m┌ \u001b[22m\u001b[39m\u001b[36m\u001b[1mInfo: \u001b[22m\u001b[39mSaving coefficients! Test loss is equal to :\n",
      "\u001b[36m\u001b[1m└ \u001b[22m\u001b[39m  test = 3.2500208075071133\n"
     ]
    },
    {
     "name": "stdout",
     "output_type": "stream",
     "text": [
      " 51.473831 seconds (1.19 k allocations: 40.266 KiB)\n"
     ]
    },
    {
     "name": "stderr",
     "output_type": "stream",
     "text": [
      "\u001b[36m\u001b[1m┌ \u001b[22m\u001b[39m\u001b[36m\u001b[1mInfo: \u001b[22m\u001b[39mLoss:\n",
      "\u001b[36m\u001b[1m│ \u001b[22m\u001b[39m  train = 12.722167418403458\n",
      "\u001b[36m\u001b[1m└ \u001b[22m\u001b[39m  test = 3.243208148814155\n",
      "\u001b[36m\u001b[1m┌ \u001b[22m\u001b[39m\u001b[36m\u001b[1mInfo: \u001b[22m\u001b[39mSaving coefficients! Test loss is equal to :\n",
      "\u001b[36m\u001b[1m└ \u001b[22m\u001b[39m  test = 3.243208148814155\n"
     ]
    },
    {
     "name": "stdout",
     "output_type": "stream",
     "text": [
      " 50.450102 seconds (374 allocations: 18.359 KiB)\n"
     ]
    },
    {
     "name": "stderr",
     "output_type": "stream",
     "text": [
      "\u001b[36m\u001b[1m┌ \u001b[22m\u001b[39m\u001b[36m\u001b[1mInfo: \u001b[22m\u001b[39mLoss:\n",
      "\u001b[36m\u001b[1m│ \u001b[22m\u001b[39m  train = 12.693707776556824\n",
      "\u001b[36m\u001b[1m└ \u001b[22m\u001b[39m  test = 3.2358144575243104\n",
      "\u001b[36m\u001b[1m┌ \u001b[22m\u001b[39m\u001b[36m\u001b[1mInfo: \u001b[22m\u001b[39mSaving coefficients! Test loss is equal to :\n",
      "\u001b[36m\u001b[1m└ \u001b[22m\u001b[39m  test = 3.2358144575243104\n"
     ]
    },
    {
     "name": "stdout",
     "output_type": "stream",
     "text": [
      " 54.442698 seconds (1.86 k allocations: 61.250 KiB)\n"
     ]
    },
    {
     "name": "stderr",
     "output_type": "stream",
     "text": [
      "\u001b[36m\u001b[1m┌ \u001b[22m\u001b[39m\u001b[36m\u001b[1mInfo: \u001b[22m\u001b[39mLoss:\n",
      "\u001b[36m\u001b[1m│ \u001b[22m\u001b[39m  train = 12.66898442334648\n",
      "\u001b[36m\u001b[1m└ \u001b[22m\u001b[39m  test = 3.2294143133961573\n",
      "\u001b[36m\u001b[1m┌ \u001b[22m\u001b[39m\u001b[36m\u001b[1mInfo: \u001b[22m\u001b[39mSaving coefficients! Test loss is equal to :\n",
      "\u001b[36m\u001b[1m└ \u001b[22m\u001b[39m  test = 3.2294143133961573\n"
     ]
    },
    {
     "name": "stdout",
     "output_type": "stream",
     "text": [
      " 52.078814 seconds (1.31 k allocations: 44.453 KiB)\n"
     ]
    },
    {
     "name": "stderr",
     "output_type": "stream",
     "text": [
      "\u001b[36m\u001b[1m┌ \u001b[22m\u001b[39m\u001b[36m\u001b[1mInfo: \u001b[22m\u001b[39mLoss:\n",
      "\u001b[36m\u001b[1m│ \u001b[22m\u001b[39m  train = 12.642432958505903\n",
      "\u001b[36m\u001b[1m└ \u001b[22m\u001b[39m  test = 3.2225578833718034\n",
      "\u001b[36m\u001b[1m┌ \u001b[22m\u001b[39m\u001b[36m\u001b[1mInfo: \u001b[22m\u001b[39mSaving coefficients! Test loss is equal to :\n",
      "\u001b[36m\u001b[1m└ \u001b[22m\u001b[39m  test = 3.2225578833718034\n"
     ]
    },
    {
     "name": "stdout",
     "output_type": "stream",
     "text": [
      " 53.612780 seconds (1.65 k allocations: 54.828 KiB)\n"
     ]
    },
    {
     "name": "stderr",
     "output_type": "stream",
     "text": [
      "\u001b[36m\u001b[1m┌ \u001b[22m\u001b[39m\u001b[36m\u001b[1mInfo: \u001b[22m\u001b[39mLoss:\n",
      "\u001b[36m\u001b[1m│ \u001b[22m\u001b[39m  train = 12.617162505739476\n",
      "\u001b[36m\u001b[1m└ \u001b[22m\u001b[39m  test = 3.2160156391075176\n",
      "\u001b[36m\u001b[1m┌ \u001b[22m\u001b[39m\u001b[36m\u001b[1mInfo: \u001b[22m\u001b[39mSaving coefficients! Test loss is equal to :\n",
      "\u001b[36m\u001b[1m└ \u001b[22m\u001b[39m  test = 3.2160156391075176\n"
     ]
    },
    {
     "ename": "",
     "evalue": "",
     "output_type": "error",
     "traceback": [
      "\u001b[1;31mThe Kernel crashed while executing code in the the current cell or a previous cell. Please review the code in the cell(s) to identify a possible cause of the failure. Click <a href='https://aka.ms/vscodeJupyterKernelCrash'>here</a> for more info. View Jupyter <a href='command:jupyter.viewOutput'>log</a> for further details."
     ]
    }
   ],
   "source": [
    "p = npzread(\"weights_\"*Cℓkind*\"_lcdm.npy\")# if you don't have any weights, comment this line\n",
    "initial_test_loss = mlpdtest(Xtest, p)\n",
    "println(\"Initial Loss: \",initial_test_loss)\n",
    "\n",
    "for i in 1:50\n",
    "    @time SimpleChains.train_unbatched!(\n",
    "    G, p, mlpdloss, X, SimpleChains.ADAM(5e-6), 500   #η = 1e-4\n",
    "  );\n",
    "    report(p)\n",
    "    test = mlpdtest(Xtest, p)\n",
    "    if initial_test_loss > test\n",
    "        npzwrite(\"weights_\"*Cℓkind*\"_lcdm.npy\", p)\n",
    "        initial_test_loss = test\n",
    "        @info \"Saving coefficients! Test loss is equal to :\" test\n",
    "    end\n",
    "end"
   ]
  }
 ],
 "metadata": {
  "kernelspec": {
   "display_name": "EmulatorsTrainer_env nt8 1.9.2",
   "language": "julia",
   "name": "emulatorstrainer_env-nt8-1.9"
  },
  "language_info": {
   "file_extension": ".jl",
   "mimetype": "application/julia",
   "name": "julia",
   "version": "1.9.2"
  },
  "orig_nbformat": 4
 },
 "nbformat": 4,
 "nbformat_minor": 2
}
